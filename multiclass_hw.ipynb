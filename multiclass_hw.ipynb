{
  "cells": [
    {
      "cell_type": "markdown",
      "metadata": {
        "id": "LTlmjXExP75I"
      },
      "source": [
        "# Машинное обучение, ФКН ВШЭ\n",
        "\n",
        "## Практическое задание 4. Классификация"
      ]
    },
    {
      "cell_type": "markdown",
      "metadata": {
        "id": "kH11bAAV2SoV"
      },
      "source": [
        "### Общая информация\n",
        "Дата выдачи: 16.11.2024\n",
        "\n",
        "Мягкий дедлайн: 28.11.2024\n",
        "\n",
        "Жесткий дедлайн: 02.12.2024"
      ]
    },
    {
      "cell_type": "code",
      "execution_count": 3,
      "metadata": {},
      "outputs": [],
      "source": [
        "import numpy as np\n",
        "import pandas as pd\n",
        "# import polars as pl\n",
        "import matplotlib.pyplot as plt\n",
        "%matplotlib inline\n",
        "\n",
        "pd.set_option('display.max_rows', 100)\n",
        "pd.set_option('display.max_columns', 100)\n",
        "# pl.Config().set_tbl_rows(100)\n",
        "# pl.Config().set_tbl_cols(100)\n",
        "\n",
        "from tqdm import tqdm\n",
        "\n",
        "from sklearn.preprocessing import StandardScaler\n",
        "from sklearn.linear_model import Ridge\n",
        "from sklearn.preprocessing import OneHotEncoder\n",
        "from sklearn.compose import ColumnTransformer\n",
        "\n",
        "from sklearn.model_selection import train_test_split"
      ]
    },
    {
      "cell_type": "code",
      "execution_count": 58,
      "metadata": {},
      "outputs": [
        {
          "name": "stdout",
          "output_type": "stream",
          "text": [
            "Collecting optuna\n",
            "  Downloading optuna-4.5.0-py3-none-any.whl.metadata (17 kB)\n",
            "Requirement already satisfied: alembic>=1.5.0 in c:\\users\\user\\anaconda3\\lib\\site-packages (from optuna) (1.13.3)\n",
            "Collecting colorlog (from optuna)\n",
            "  Downloading colorlog-6.9.0-py3-none-any.whl.metadata (10 kB)\n",
            "Requirement already satisfied: numpy in c:\\users\\user\\anaconda3\\lib\\site-packages (from optuna) (1.26.4)\n",
            "Requirement already satisfied: packaging>=20.0 in c:\\users\\user\\anaconda3\\lib\\site-packages (from optuna) (24.1)\n",
            "Requirement already satisfied: sqlalchemy>=1.4.2 in c:\\users\\user\\anaconda3\\lib\\site-packages (from optuna) (2.0.34)\n",
            "Requirement already satisfied: tqdm in c:\\users\\user\\anaconda3\\lib\\site-packages (from optuna) (4.66.5)\n",
            "Requirement already satisfied: PyYAML in c:\\users\\user\\anaconda3\\lib\\site-packages (from optuna) (6.0.1)\n",
            "Requirement already satisfied: Mako in c:\\users\\user\\anaconda3\\lib\\site-packages (from alembic>=1.5.0->optuna) (1.2.3)\n",
            "Requirement already satisfied: typing-extensions>=4 in c:\\users\\user\\anaconda3\\lib\\site-packages (from alembic>=1.5.0->optuna) (4.11.0)\n",
            "Requirement already satisfied: greenlet!=0.4.17 in c:\\users\\user\\anaconda3\\lib\\site-packages (from sqlalchemy>=1.4.2->optuna) (3.0.1)\n",
            "Requirement already satisfied: colorama in c:\\users\\user\\anaconda3\\lib\\site-packages (from colorlog->optuna) (0.4.6)\n",
            "Requirement already satisfied: MarkupSafe>=0.9.2 in c:\\users\\user\\anaconda3\\lib\\site-packages (from Mako->alembic>=1.5.0->optuna) (2.1.3)\n",
            "Downloading optuna-4.5.0-py3-none-any.whl (400 kB)\n",
            "Downloading colorlog-6.9.0-py3-none-any.whl (11 kB)\n",
            "Installing collected packages: colorlog, optuna\n",
            "Successfully installed colorlog-6.9.0 optuna-4.5.0\n"
          ]
        }
      ],
      "source": [
        "!pip install optuna"
      ]
    },
    {
      "cell_type": "markdown",
      "metadata": {
        "id": "eELf9JBWM9D5"
      },
      "source": [
        "# __Бонусная часть. Многоклассовая классификация__ (1.5 балла)\n",
        "\n",
        "Как известно, некоторые задачи не ограничиваются всего лишь двумя классами. На лекции вы проходили несколько способов обобщения линейных моделей на этот случай: One-vs-Rest и One-vs-One. Ниже мы посмотрим, в чём преимущества и недостатки обоих подходов, а так же попробуем ещё один чуть более экзотический метод\n",
        "\n",
        "#### **Задание 14. One-vs-Rest vs One-vs-One** (0.5 балла)\n",
        "\n",
        "В качестве [датасета](https://www.kaggle.com/datasets/thedevastator/higher-education-predictors-of-student-retention/data) здесь и ниже мы будем брать очень жизненные и актуальные данные о том, доучится студент или нет, в зависимости от курсов, возраста, гендера и прочих (не)осуждаемых признаков."
      ]
    },
    {
      "cell_type": "code",
      "execution_count": 4,
      "metadata": {
        "id": "23xX_I3bO3uQ"
      },
      "outputs": [],
      "source": [
        "import kagglehub\n",
        "\n",
        "path = kagglehub.dataset_download(\"thedevastator/higher-education-predictors-of-student-retention\") + \"/dataset.csv\"\n",
        "\n",
        "features = [\"Marital status\", \"Course\", \"Nacionality\", \"Gender\", \"Age at enrollment\"]\n",
        "target = \"Target\""
      ]
    },
    {
      "cell_type": "markdown",
      "metadata": {
        "id": "KMuDGcDiO6bI"
      },
      "source": [
        "Будем смотреть только какое-то подмножество наиболее весёлых факторов. От вас по классике потребуется их преобразовать, в зависимости от того, числовые они или категориальные и **закодировать таргет чиселками!!!**"
      ]
    },
    {
      "cell_type": "code",
      "execution_count": 5,
      "metadata": {
        "id": "_Y8NbWwPPVHZ"
      },
      "outputs": [
        {
          "data": {
            "text/plain": [
              "'C:\\\\Users\\\\User\\\\.cache\\\\kagglehub\\\\datasets\\\\thedevastator\\\\higher-education-predictors-of-student-retention\\\\versions\\\\2/dataset.csv'"
            ]
          },
          "execution_count": 5,
          "metadata": {},
          "output_type": "execute_result"
        }
      ],
      "source": [
        "path"
      ]
    },
    {
      "cell_type": "code",
      "execution_count": 6,
      "metadata": {},
      "outputs": [],
      "source": [
        "df = pd.read_csv('dataset.csv')"
      ]
    },
    {
      "cell_type": "code",
      "execution_count": 8,
      "metadata": {},
      "outputs": [],
      "source": [
        "X = df[features]\n",
        "y = df[target]"
      ]
    },
    {
      "cell_type": "markdown",
      "metadata": {},
      "source": [
        "## Изучаю признаки"
      ]
    },
    {
      "cell_type": "code",
      "execution_count": 10,
      "metadata": {},
      "outputs": [
        {
          "data": {
            "text/plain": [
              "Index(['Marital status', 'Course', 'Nacionality', 'Gender',\n",
              "       'Age at enrollment'],\n",
              "      dtype='object')"
            ]
          },
          "execution_count": 10,
          "metadata": {},
          "output_type": "execute_result"
        }
      ],
      "source": [
        "X.columns"
      ]
    },
    {
      "cell_type": "code",
      "execution_count": 11,
      "metadata": {},
      "outputs": [
        {
          "data": {
            "text/html": [
              "<div>\n",
              "<style scoped>\n",
              "    .dataframe tbody tr th:only-of-type {\n",
              "        vertical-align: middle;\n",
              "    }\n",
              "\n",
              "    .dataframe tbody tr th {\n",
              "        vertical-align: top;\n",
              "    }\n",
              "\n",
              "    .dataframe thead th {\n",
              "        text-align: right;\n",
              "    }\n",
              "</style>\n",
              "<table border=\"1\" class=\"dataframe\">\n",
              "  <thead>\n",
              "    <tr style=\"text-align: right;\">\n",
              "      <th></th>\n",
              "      <th>Marital status</th>\n",
              "      <th>Course</th>\n",
              "      <th>Nacionality</th>\n",
              "      <th>Gender</th>\n",
              "      <th>Age at enrollment</th>\n",
              "    </tr>\n",
              "  </thead>\n",
              "  <tbody>\n",
              "    <tr>\n",
              "      <th>0</th>\n",
              "      <td>1</td>\n",
              "      <td>2</td>\n",
              "      <td>1</td>\n",
              "      <td>1</td>\n",
              "      <td>20</td>\n",
              "    </tr>\n",
              "    <tr>\n",
              "      <th>1</th>\n",
              "      <td>1</td>\n",
              "      <td>11</td>\n",
              "      <td>1</td>\n",
              "      <td>1</td>\n",
              "      <td>19</td>\n",
              "    </tr>\n",
              "    <tr>\n",
              "      <th>2</th>\n",
              "      <td>1</td>\n",
              "      <td>5</td>\n",
              "      <td>1</td>\n",
              "      <td>1</td>\n",
              "      <td>19</td>\n",
              "    </tr>\n",
              "    <tr>\n",
              "      <th>3</th>\n",
              "      <td>1</td>\n",
              "      <td>15</td>\n",
              "      <td>1</td>\n",
              "      <td>0</td>\n",
              "      <td>20</td>\n",
              "    </tr>\n",
              "    <tr>\n",
              "      <th>4</th>\n",
              "      <td>2</td>\n",
              "      <td>3</td>\n",
              "      <td>1</td>\n",
              "      <td>0</td>\n",
              "      <td>45</td>\n",
              "    </tr>\n",
              "  </tbody>\n",
              "</table>\n",
              "</div>"
            ],
            "text/plain": [
              "   Marital status  Course  Nacionality  Gender  Age at enrollment\n",
              "0               1       2            1       1                 20\n",
              "1               1      11            1       1                 19\n",
              "2               1       5            1       1                 19\n",
              "3               1      15            1       0                 20\n",
              "4               2       3            1       0                 45"
            ]
          },
          "execution_count": 11,
          "metadata": {},
          "output_type": "execute_result"
        }
      ],
      "source": [
        "X.head()"
      ]
    },
    {
      "cell_type": "code",
      "execution_count": 12,
      "metadata": {},
      "outputs": [
        {
          "data": {
            "text/plain": [
              "Marital status\n",
              "1    3919\n",
              "2     379\n",
              "4      91\n",
              "5      25\n",
              "6       6\n",
              "3       4\n",
              "Name: count, dtype: int64"
            ]
          },
          "execution_count": 12,
          "metadata": {},
          "output_type": "execute_result"
        }
      ],
      "source": [
        "X['Marital status'].value_counts()"
      ]
    },
    {
      "cell_type": "markdown",
      "metadata": {},
      "source": [
        "Этот признак будем считать категориальным"
      ]
    },
    {
      "cell_type": "code",
      "execution_count": 14,
      "metadata": {},
      "outputs": [
        {
          "data": {
            "text/plain": [
              "count    4424.000000\n",
              "mean        9.899186\n",
              "std         4.331792\n",
              "min         1.000000\n",
              "25%         6.000000\n",
              "50%        10.000000\n",
              "75%        13.000000\n",
              "max        17.000000\n",
              "Name: Course, dtype: float64"
            ]
          },
          "execution_count": 14,
          "metadata": {},
          "output_type": "execute_result"
        }
      ],
      "source": [
        "X['Course'].describe()"
      ]
    },
    {
      "cell_type": "markdown",
      "metadata": {},
      "source": [
        "Текущий курс студента. Тоже будем считать категориальным"
      ]
    },
    {
      "cell_type": "code",
      "execution_count": 15,
      "metadata": {},
      "outputs": [
        {
          "data": {
            "text/plain": [
              "count    4424.000000\n",
              "mean        1.254521\n",
              "std         1.748447\n",
              "min         1.000000\n",
              "25%         1.000000\n",
              "50%         1.000000\n",
              "75%         1.000000\n",
              "max        21.000000\n",
              "Name: Nacionality, dtype: float64"
            ]
          },
          "execution_count": 15,
          "metadata": {},
          "output_type": "execute_result"
        }
      ],
      "source": [
        "X['Nacionality'].describe()"
      ]
    },
    {
      "cell_type": "markdown",
      "metadata": {},
      "source": [
        "Национальность тоже категориальный признак"
      ]
    },
    {
      "cell_type": "code",
      "execution_count": 16,
      "metadata": {},
      "outputs": [
        {
          "data": {
            "text/plain": [
              "count    4424.000000\n",
              "mean        0.351718\n",
              "std         0.477560\n",
              "min         0.000000\n",
              "25%         0.000000\n",
              "50%         0.000000\n",
              "75%         1.000000\n",
              "max         1.000000\n",
              "Name: Gender, dtype: float64"
            ]
          },
          "execution_count": 16,
          "metadata": {},
          "output_type": "execute_result"
        }
      ],
      "source": [
        "X['Gender'].describe()"
      ]
    },
    {
      "cell_type": "markdown",
      "metadata": {},
      "source": [
        "Пол, естественно, считаем категориальным"
      ]
    },
    {
      "cell_type": "code",
      "execution_count": 17,
      "metadata": {},
      "outputs": [
        {
          "data": {
            "text/plain": [
              "count    4424.000000\n",
              "mean       23.265145\n",
              "std         7.587816\n",
              "min        17.000000\n",
              "25%        19.000000\n",
              "50%        20.000000\n",
              "75%        25.000000\n",
              "max        70.000000\n",
              "Name: Age at enrollment, dtype: float64"
            ]
          },
          "execution_count": 17,
          "metadata": {},
          "output_type": "execute_result"
        }
      ],
      "source": [
        "X['Age at enrollment'].describe()"
      ]
    },
    {
      "cell_type": "markdown",
      "metadata": {},
      "source": [
        "Возраст при поступлении логично отнести к числовым признакам"
      ]
    },
    {
      "cell_type": "code",
      "execution_count": 20,
      "metadata": {},
      "outputs": [
        {
          "data": {
            "text/plain": [
              "array(['Dropout', 'Graduate', 'Enrolled'], dtype=object)"
            ]
          },
          "execution_count": 20,
          "metadata": {},
          "output_type": "execute_result"
        }
      ],
      "source": [
        "y.unique()"
      ]
    },
    {
      "cell_type": "code",
      "execution_count": 22,
      "metadata": {},
      "outputs": [
        {
          "data": {
            "text/plain": [
              "Target\n",
              "Graduate    2209\n",
              "Dropout     1421\n",
              "Enrolled     794\n",
              "Name: count, dtype: int64"
            ]
          },
          "execution_count": 22,
          "metadata": {},
          "output_type": "execute_result"
        }
      ],
      "source": [
        "y.value_counts()"
      ]
    },
    {
      "cell_type": "markdown",
      "metadata": {},
      "source": [
        "**Enrolled** - учится на момент сбора данных\\\n",
        "**Dropout** - отчислен\\\n",
        "**Graduate** - успешно выпустился    \n"
      ]
    },
    {
      "cell_type": "markdown",
      "metadata": {},
      "source": [
        "## Подготовка признаков к моделированию"
      ]
    },
    {
      "cell_type": "code",
      "execution_count": 23,
      "metadata": {},
      "outputs": [],
      "source": [
        "categorical_features = [\"Marital status\", \"Course\", \"Nacionality\", \"Gender\"]  # категориальные признаки\n",
        "numeric_features = [\"Age at enrollment\"] # числовые признаки"
      ]
    },
    {
      "cell_type": "code",
      "execution_count": 24,
      "metadata": {},
      "outputs": [],
      "source": [
        "y = np.where(y == 'Dropout', 0,\n",
        "    np.where(y == 'Enrolled', 1, 2))"
      ]
    },
    {
      "cell_type": "code",
      "execution_count": 27,
      "metadata": {},
      "outputs": [],
      "source": [
        "X_train, X_test, y_train, y_test = train_test_split(X, y, random_state=228, shuffle=True, test_size=0.2)"
      ]
    },
    {
      "cell_type": "code",
      "execution_count": 28,
      "metadata": {},
      "outputs": [],
      "source": [
        "preprocessor1 = ColumnTransformer(\n",
        "    transformers=[\n",
        "        ('num', StandardScaler(), numeric_features),\n",
        "        ('cat', OneHotEncoder(sparse_output=False, handle_unknown='ignore'), categorical_features)\n",
        "    ])\n",
        "\n",
        "\n",
        "preprocessor1.fit(X_train)\n",
        "X_train_transformed = preprocessor1.transform(X_train)\n",
        "X_test_transformed = preprocessor1.transform(X_test)"
      ]
    },
    {
      "cell_type": "markdown",
      "metadata": {
        "id": "j4cGqq_kPfrQ"
      },
      "source": [
        "Ваш следующий шаг - посмотреть, каким образом в `sklearn` реализованы OvR и OvO, обучить таким образом логистическую регрессию с `max_iter=10000`, далее выбрать какую-то метрику (и её усреднение, его выбор тоже аргументируйте), и сравнить следующие параметры:\n",
        "- число классификаторов\n",
        "- скорость обучения\n",
        "- качество модели\n",
        "\n",
        "Также сохраните куда-нибудь предсказания вероятностей у каждой из моделей. Это можно сделать не одним способом, но возможно вам чуть с этим поможет следующий пункт\n"
      ]
    },
    {
      "cell_type": "markdown",
      "metadata": {},
      "source": [
        "**One vs Rest**: для каждого класса создается отдельный бинарный классификатор. Считается менее точным. Обучается быстрее, так как для K классов нужно K классификаторов\\\n",
        "\n",
        "**One vs one**: для каждой пары классов создается отдельный бинарный классификатор. Каждый классификатор обучается отличать одну пару классов. На предсказании используется голосование. Часто более высокая точность. Медленнее, так как требует обучения K^2 моделей.    "
      ]
    },
    {
      "cell_type": "code",
      "execution_count": 42,
      "metadata": {},
      "outputs": [],
      "source": [
        "# табличка для сравнения\n",
        "\n",
        "df_metrics = pd.DataFrame(\n",
        "    columns=['macro_F1', 'macro_precision', 'macro_recall', 'Количество классификаторов', 'Скорость обучения (секунд)']\n",
        ")"
      ]
    },
    {
      "cell_type": "code",
      "execution_count": 43,
      "metadata": {},
      "outputs": [],
      "source": [
        "from sklearn.multiclass import OneVsRestClassifier\n",
        "from sklearn.linear_model import LogisticRegression\n",
        "import time"
      ]
    },
    {
      "cell_type": "code",
      "execution_count": 44,
      "metadata": {},
      "outputs": [
        {
          "name": "stdout",
          "output_type": "stream",
          "text": [
            "Обучение OvR модели заняло 0.077 секунд\n",
            "Количество классификаторов = 3\n"
          ]
        }
      ],
      "source": [
        "start_ovr = time.time()\n",
        "\n",
        "ovr_model = OneVsRestClassifier(LogisticRegression(penalty='l2',\n",
        "        #C=1.0,                                                           # для начала обучу дефолтную модель с l2 регуляризацией\n",
        "        max_iter=1000))\n",
        "ovr_model = ovr_model.fit(X_train_transformed, y_train)\n",
        "time_ovr = time.time() - start_ovr\n",
        "print(f'Обучение OvR модели заняло {round(time_ovr, 3)} секунд')\n",
        "print(f\"Количество классификаторов = {len(ovr_model.estimators_)}\")\n",
        "y_pred_ovr = ovr_model.predict(X_test_transformed)"
      ]
    },
    {
      "cell_type": "markdown",
      "metadata": {},
      "source": [
        "Я считаю, что в данном случае лучшим выбором будет **Macro F1-score**, так как есть дисбаланс классов. С помощью этой метрики мы сможем понять, насколько хорошо модель предсказывает все классы.\\\n",
        "Также я оценю **macro precision и macro recall**"
      ]
    },
    {
      "cell_type": "code",
      "execution_count": 47,
      "metadata": {},
      "outputs": [],
      "source": [
        "from sklearn.metrics import precision_score, recall_score, f1_score\n",
        "\n",
        "\n",
        "precision_per_class_ovr = precision_score(y_test, y_pred_ovr, average=None)\n",
        "recall_per_class_ovr = recall_score(y_test, y_pred_ovr, average=None)\n",
        "f1_per_class_ovr = f1_score(y_test, y_pred_ovr, average=None)\n",
        "\n",
        "df_metrics.loc['One-vs-Rest with Logistic Regression'] = [\n",
        "      f1_per_class_ovr.mean(),\n",
        "      precision_per_class_ovr.mean(),\n",
        "      recall_per_class_ovr.mean(),\n",
        "      len(ovr_model.estimators_),\n",
        "      round(time_ovr, 3)\n",
        "]"
      ]
    },
    {
      "cell_type": "code",
      "execution_count": 48,
      "metadata": {},
      "outputs": [
        {
          "data": {
            "text/html": [
              "<div>\n",
              "<style scoped>\n",
              "    .dataframe tbody tr th:only-of-type {\n",
              "        vertical-align: middle;\n",
              "    }\n",
              "\n",
              "    .dataframe tbody tr th {\n",
              "        vertical-align: top;\n",
              "    }\n",
              "\n",
              "    .dataframe thead th {\n",
              "        text-align: right;\n",
              "    }\n",
              "</style>\n",
              "<table border=\"1\" class=\"dataframe\">\n",
              "  <thead>\n",
              "    <tr style=\"text-align: right;\">\n",
              "      <th></th>\n",
              "      <th>macro_F1</th>\n",
              "      <th>macro_precision</th>\n",
              "      <th>macro_recall</th>\n",
              "      <th>Количество классификаторов</th>\n",
              "      <th>Скорость обучения (секунд)</th>\n",
              "    </tr>\n",
              "  </thead>\n",
              "  <tbody>\n",
              "    <tr>\n",
              "      <th>One-vs-Rest with Logistic Regression</th>\n",
              "      <td>0.397389</td>\n",
              "      <td>0.532561</td>\n",
              "      <td>0.434916</td>\n",
              "      <td>3</td>\n",
              "      <td>0.077</td>\n",
              "    </tr>\n",
              "  </tbody>\n",
              "</table>\n",
              "</div>"
            ],
            "text/plain": [
              "                                      macro_F1 macro_precision macro_recall  \\\n",
              "One-vs-Rest with Logistic Regression  0.397389        0.532561     0.434916   \n",
              "\n",
              "                                      Количество классификаторов  \\\n",
              "One-vs-Rest with Logistic Regression                           3   \n",
              "\n",
              "                                      Скорость обучения (секунд)  \n",
              "One-vs-Rest with Logistic Regression                       0.077  "
            ]
          },
          "execution_count": 48,
          "metadata": {},
          "output_type": "execute_result"
        }
      ],
      "source": [
        "df_metrics"
      ]
    },
    {
      "cell_type": "markdown",
      "metadata": {},
      "source": [
        "для дефолтной лог регрессии качество не очень"
      ]
    },
    {
      "cell_type": "code",
      "execution_count": 49,
      "metadata": {},
      "outputs": [
        {
          "name": "stdout",
          "output_type": "stream",
          "text": [
            "Обучение OvO модели заняло 0.064 секунд\n",
            "Количество классификаторов = 3\n"
          ]
        }
      ],
      "source": [
        "# обучим One-vs-One\n",
        "from sklearn.multiclass import OneVsOneClassifier\n",
        "\n",
        "start_ovo = time.time()\n",
        "\n",
        "ovo_model = OneVsOneClassifier(LogisticRegression(penalty='l2',\n",
        "        #C=1.0,                                                           # для начала обучу дефолтную модель с l2 регуляризацией\n",
        "        max_iter=1000))\n",
        "ovo_model = ovo_model.fit(X_train_transformed, y_train)\n",
        "time_ovo = time.time() - start_ovo\n",
        "print(f'Обучение OvO модели заняло {round(time_ovo, 3)} секунд')\n",
        "print(f\"Количество классификаторов = {len(ovo_model.estimators_)}\")\n",
        "y_pred_ovo = ovo_model.predict(X_test_transformed)"
      ]
    },
    {
      "cell_type": "code",
      "execution_count": 50,
      "metadata": {},
      "outputs": [],
      "source": [
        "precision_per_class_ovo = precision_score(y_test, y_pred_ovo, average=None)\n",
        "recall_per_class_ovo = recall_score(y_test, y_pred_ovo, average=None)\n",
        "f1_per_class_ovo = f1_score(y_test, y_pred_ovo, average=None)\n",
        "\n",
        "df_metrics.loc['One-vs-One with Logistic Regression'] = [\n",
        "      f1_per_class_ovo.mean(),\n",
        "      precision_per_class_ovo.mean(),\n",
        "      recall_per_class_ovo.mean(),\n",
        "      len(ovo_model.estimators_),\n",
        "      round(time_ovo, 3)\n",
        "]"
      ]
    },
    {
      "cell_type": "code",
      "execution_count": 56,
      "metadata": {},
      "outputs": [
        {
          "data": {
            "text/html": [
              "<style type=\"text/css\">\n",
              "#T_255fb_row0_col0, #T_255fb_row0_col1, #T_255fb_row0_col2, #T_255fb_row0_col4 {\n",
              "  background-color: #a50026;\n",
              "  color: #f1f1f1;\n",
              "}\n",
              "#T_255fb_row1_col0, #T_255fb_row1_col1, #T_255fb_row1_col2, #T_255fb_row1_col4 {\n",
              "  background-color: #006837;\n",
              "  color: #f1f1f1;\n",
              "}\n",
              "</style>\n",
              "<table id=\"T_255fb\">\n",
              "  <thead>\n",
              "    <tr>\n",
              "      <th class=\"blank level0\" >&nbsp;</th>\n",
              "      <th id=\"T_255fb_level0_col0\" class=\"col_heading level0 col0\" >macro_F1</th>\n",
              "      <th id=\"T_255fb_level0_col1\" class=\"col_heading level0 col1\" >macro_precision</th>\n",
              "      <th id=\"T_255fb_level0_col2\" class=\"col_heading level0 col2\" >macro_recall</th>\n",
              "      <th id=\"T_255fb_level0_col3\" class=\"col_heading level0 col3\" >Количество классификаторов</th>\n",
              "      <th id=\"T_255fb_level0_col4\" class=\"col_heading level0 col4\" >Скорость обучения (секунд)</th>\n",
              "    </tr>\n",
              "  </thead>\n",
              "  <tbody>\n",
              "    <tr>\n",
              "      <th id=\"T_255fb_level0_row0\" class=\"row_heading level0 row0\" >One-vs-Rest with Logistic Regression</th>\n",
              "      <td id=\"T_255fb_row0_col0\" class=\"data row0 col0\" >0.397389</td>\n",
              "      <td id=\"T_255fb_row0_col1\" class=\"data row0 col1\" >0.532561</td>\n",
              "      <td id=\"T_255fb_row0_col2\" class=\"data row0 col2\" >0.434916</td>\n",
              "      <td id=\"T_255fb_row0_col3\" class=\"data row0 col3\" >3.000000</td>\n",
              "      <td id=\"T_255fb_row0_col4\" class=\"data row0 col4\" >0.077000</td>\n",
              "    </tr>\n",
              "    <tr>\n",
              "      <th id=\"T_255fb_level0_row1\" class=\"row_heading level0 row1\" >One-vs-One with Logistic Regression</th>\n",
              "      <td id=\"T_255fb_row1_col0\" class=\"data row1 col0\" >0.413611</td>\n",
              "      <td id=\"T_255fb_row1_col1\" class=\"data row1 col1\" >0.535071</td>\n",
              "      <td id=\"T_255fb_row1_col2\" class=\"data row1 col2\" >0.441842</td>\n",
              "      <td id=\"T_255fb_row1_col3\" class=\"data row1 col3\" >3.000000</td>\n",
              "      <td id=\"T_255fb_row1_col4\" class=\"data row1 col4\" >0.064000</td>\n",
              "    </tr>\n",
              "  </tbody>\n",
              "</table>\n"
            ],
            "text/plain": [
              "<pandas.io.formats.style.Styler at 0x1d4191cc410>"
            ]
          },
          "metadata": {},
          "output_type": "display_data"
        }
      ],
      "source": [
        "display(df_metrics.style\n",
        "    .background_gradient(subset=['macro_F1', 'macro_precision', 'macro_recall'], cmap='RdYlGn')\n",
        "    .background_gradient(subset=['Скорость обучения (секунд)'], cmap='RdYlGn_r'))"
      ]
    },
    {
      "cell_type": "markdown",
      "metadata": {},
      "source": [
        "Как и ожидалось, качество чуть лучше у One-vs-One. При этом качество обеих моделей оставляет желать лучшего, поэтому я попробую подобрать **оптимальные гиперпараметры**"
      ]
    },
    {
      "cell_type": "code",
      "execution_count": 59,
      "metadata": {},
      "outputs": [],
      "source": [
        "import optuna"
      ]
    },
    {
      "cell_type": "code",
      "execution_count": 64,
      "metadata": {},
      "outputs": [
        {
          "name": "stderr",
          "output_type": "stream",
          "text": [
            "[I 2025-10-12 16:06:18,675] A new study created in memory with name: no-name-7c2e2c0c-89ea-4d11-8a7f-8fe880835eed\n",
            "[I 2025-10-12 16:06:18,788] Trial 0 finished with value: 0.41281828611197824 and parameters: {'C': 49.95361048685655, 'penalty': 'l1', 'solver': 'lbfgs'}. Best is trial 0 with value: 0.41281828611197824.\n",
            "[I 2025-10-12 16:06:18,829] Trial 1 finished with value: 0.4128961456771485 and parameters: {'C': 4.818080052572582, 'penalty': 'l1', 'solver': 'liblinear'}. Best is trial 1 with value: 0.4128961456771485.\n",
            "[I 2025-10-12 16:06:18,931] Trial 2 finished with value: 0.41281828611197824 and parameters: {'C': 37.9992085291004, 'penalty': 'l2', 'solver': 'saga'}. Best is trial 1 with value: 0.4128961456771485.\n",
            "[I 2025-10-12 16:06:18,951] Trial 3 finished with value: 0.4007669502011022 and parameters: {'C': 0.2085323889092576, 'penalty': 'l1', 'solver': 'liblinear'}. Best is trial 1 with value: 0.4128961456771485.\n",
            "[I 2025-10-12 16:06:18,990] Trial 4 finished with value: 0.41281828611197824 and parameters: {'C': 263.9794337912012, 'penalty': 'l1', 'solver': 'liblinear'}. Best is trial 1 with value: 0.4128961456771485.\n",
            "[I 2025-10-12 16:06:19,067] Trial 5 finished with value: 0.41281828611197824 and parameters: {'C': 16.20073321034819, 'penalty': 'l1', 'solver': 'liblinear'}. Best is trial 1 with value: 0.4128961456771485.\n",
            "[I 2025-10-12 16:06:19,172] Trial 6 finished with value: 0.41281828611197824 and parameters: {'C': 163.47056322026222, 'penalty': 'l2', 'solver': 'lbfgs'}. Best is trial 1 with value: 0.4128961456771485.\n",
            "[I 2025-10-12 16:06:19,211] Trial 7 finished with value: 0.4128961456771485 and parameters: {'C': 3.6995535507549233, 'penalty': 'l1', 'solver': 'lbfgs'}. Best is trial 1 with value: 0.4128961456771485.\n",
            "[I 2025-10-12 16:06:19,313] Trial 8 finished with value: 0.41281828611197824 and parameters: {'C': 37.27622846399435, 'penalty': 'l2', 'solver': 'liblinear'}. Best is trial 1 with value: 0.4128961456771485.\n",
            "[I 2025-10-12 16:06:19,410] Trial 9 finished with value: 0.41281828611197824 and parameters: {'C': 135.52446253484734, 'penalty': 'l1', 'solver': 'liblinear'}. Best is trial 1 with value: 0.4128961456771485.\n",
            "[I 2025-10-12 16:06:19,439] Trial 10 finished with value: 0.3001410559601752 and parameters: {'C': 0.001258269799106754, 'penalty': 'l2', 'solver': 'saga'}. Best is trial 1 with value: 0.4128961456771485.\n",
            "[I 2025-10-12 16:06:19,492] Trial 11 finished with value: 0.39769992455904085 and parameters: {'C': 0.7836660724316536, 'penalty': 'l1', 'solver': 'lbfgs'}. Best is trial 1 with value: 0.4128961456771485.\n",
            "[I 2025-10-12 16:06:19,575] Trial 12 finished with value: 0.4128961456771485 and parameters: {'C': 3.659467119316725, 'penalty': 'l1', 'solver': 'lbfgs'}. Best is trial 1 with value: 0.4128961456771485.\n",
            "[I 2025-10-12 16:06:19,613] Trial 13 finished with value: 0.39773000306717304 and parameters: {'C': 0.0801375941306271, 'penalty': 'l1', 'solver': 'lbfgs'}. Best is trial 1 with value: 0.4128961456771485.\n",
            "[I 2025-10-12 16:06:19,667] Trial 14 finished with value: 0.4128961456771485 and parameters: {'C': 3.6922865759059404, 'penalty': 'l1', 'solver': 'saga'}. Best is trial 1 with value: 0.4128961456771485.\n",
            "[I 2025-10-12 16:06:19,687] Trial 15 finished with value: 0.36317054316962477 and parameters: {'C': 0.028415644092043096, 'penalty': 'l1', 'solver': 'liblinear'}. Best is trial 1 with value: 0.4128961456771485.\n",
            "[I 2025-10-12 16:06:19,728] Trial 16 finished with value: 0.4128961456771485 and parameters: {'C': 3.574730821061748, 'penalty': 'l1', 'solver': 'lbfgs'}. Best is trial 1 with value: 0.4128961456771485.\n",
            "[I 2025-10-12 16:06:19,763] Trial 17 finished with value: 0.39905574213878436 and parameters: {'C': 0.5800423084662909, 'penalty': 'l1', 'solver': 'lbfgs'}. Best is trial 1 with value: 0.4128961456771485.\n",
            "[I 2025-10-12 16:06:19,799] Trial 18 finished with value: 0.361764255068118 and parameters: {'C': 0.006758898314408856, 'penalty': 'l2', 'solver': 'liblinear'}. Best is trial 1 with value: 0.4128961456771485.\n",
            "[I 2025-10-12 16:06:19,815] Trial 19 finished with value: 0.41281828611197824 and parameters: {'C': 857.0449938598414, 'penalty': 'l1', 'solver': 'saga'}. Best is trial 1 with value: 0.4128961456771485.\n",
            "[I 2025-10-12 16:06:19,872] Trial 20 finished with value: 0.41281828611197824 and parameters: {'C': 9.22703159319506, 'penalty': 'l1', 'solver': 'lbfgs'}. Best is trial 1 with value: 0.4128961456771485.\n",
            "[I 2025-10-12 16:06:19,909] Trial 21 finished with value: 0.4128961456771485 and parameters: {'C': 3.1487262473427813, 'penalty': 'l1', 'solver': 'lbfgs'}. Best is trial 1 with value: 0.4128961456771485.\n",
            "[I 2025-10-12 16:06:19,941] Trial 22 finished with value: 0.4128961456771485 and parameters: {'C': 1.7487513216020147, 'penalty': 'l1', 'solver': 'lbfgs'}. Best is trial 1 with value: 0.4128961456771485.\n",
            "[I 2025-10-12 16:06:19,982] Trial 23 finished with value: 0.39905574213878436 and parameters: {'C': 0.5592784228368158, 'penalty': 'l1', 'solver': 'lbfgs'}. Best is trial 1 with value: 0.4128961456771485.\n",
            "[I 2025-10-12 16:06:20,047] Trial 24 finished with value: 0.41281828611197824 and parameters: {'C': 11.159727587587769, 'penalty': 'l1', 'solver': 'lbfgs'}. Best is trial 1 with value: 0.4128961456771485.\n",
            "[I 2025-10-12 16:06:20,069] Trial 25 finished with value: 0.4033579837414331 and parameters: {'C': 0.12134104147804495, 'penalty': 'l1', 'solver': 'liblinear'}. Best is trial 1 with value: 0.4128961456771485.\n",
            "[I 2025-10-12 16:06:20,149] Trial 26 finished with value: 0.41281828611197824 and parameters: {'C': 5.896327693828239, 'penalty': 'l2', 'solver': 'lbfgs'}. Best is trial 1 with value: 0.4128961456771485.\n",
            "[I 2025-10-12 16:06:20,181] Trial 27 finished with value: 0.4128961456771485 and parameters: {'C': 1.6035448265608199, 'penalty': 'l1', 'solver': 'lbfgs'}. Best is trial 1 with value: 0.4128961456771485.\n",
            "[I 2025-10-12 16:06:20,211] Trial 28 finished with value: 0.39997074018255035 and parameters: {'C': 0.2933938079038988, 'penalty': 'l1', 'solver': 'saga'}. Best is trial 1 with value: 0.4128961456771485.\n",
            "[I 2025-10-12 16:06:20,294] Trial 29 finished with value: 0.41281828611197824 and parameters: {'C': 44.125114236691516, 'penalty': 'l1', 'solver': 'liblinear'}. Best is trial 1 with value: 0.4128961456771485.\n",
            "[I 2025-10-12 16:06:20,380] Trial 30 finished with value: 0.41281828611197824 and parameters: {'C': 18.56427818626443, 'penalty': 'l1', 'solver': 'lbfgs'}. Best is trial 1 with value: 0.4128961456771485.\n",
            "[I 2025-10-12 16:06:20,420] Trial 31 finished with value: 0.4128961456771485 and parameters: {'C': 3.777096667481801, 'penalty': 'l1', 'solver': 'saga'}. Best is trial 1 with value: 0.4128961456771485.\n",
            "[I 2025-10-12 16:06:20,449] Trial 32 finished with value: 0.4128961456771485 and parameters: {'C': 1.6929604105684244, 'penalty': 'l1', 'solver': 'saga'}. Best is trial 1 with value: 0.4128961456771485.\n",
            "[I 2025-10-12 16:06:20,550] Trial 33 finished with value: 0.41281828611197824 and parameters: {'C': 25.0310381104299, 'penalty': 'l1', 'solver': 'saga'}. Best is trial 1 with value: 0.4128961456771485.\n",
            "[I 2025-10-12 16:06:20,664] Trial 34 finished with value: 0.41281828611197824 and parameters: {'C': 84.81555142337035, 'penalty': 'l1', 'solver': 'saga'}. Best is trial 1 with value: 0.4128961456771485.\n",
            "[I 2025-10-12 16:06:20,714] Trial 35 finished with value: 0.41281828611197824 and parameters: {'C': 6.0543911010358205, 'penalty': 'l1', 'solver': 'saga'}. Best is trial 1 with value: 0.4128961456771485.\n",
            "[I 2025-10-12 16:06:20,763] Trial 36 finished with value: 0.40087566644725353 and parameters: {'C': 0.3020781335330779, 'penalty': 'l2', 'solver': 'liblinear'}. Best is trial 1 with value: 0.4128961456771485.\n",
            "[I 2025-10-12 16:06:20,799] Trial 37 finished with value: 0.4136110155202804 and parameters: {'C': 1.150228736410445, 'penalty': 'l1', 'solver': 'saga'}. Best is trial 37 with value: 0.4136110155202804.\n",
            "[I 2025-10-12 16:06:20,842] Trial 38 finished with value: 0.3951693166646438 and parameters: {'C': 0.05776222871309327, 'penalty': 'l2', 'solver': 'liblinear'}. Best is trial 37 with value: 0.4136110155202804.\n",
            "[I 2025-10-12 16:06:20,872] Trial 39 finished with value: 0.4136110155202804 and parameters: {'C': 0.9629431348223622, 'penalty': 'l1', 'solver': 'lbfgs'}. Best is trial 37 with value: 0.4136110155202804.\n",
            "[I 2025-10-12 16:06:20,906] Trial 40 finished with value: 0.4136110155202804 and parameters: {'C': 1.0140475285268367, 'penalty': 'l1', 'solver': 'liblinear'}. Best is trial 37 with value: 0.4136110155202804.\n",
            "[I 2025-10-12 16:06:20,941] Trial 41 finished with value: 0.4136110155202804 and parameters: {'C': 1.0380867915052365, 'penalty': 'l1', 'solver': 'liblinear'}. Best is trial 37 with value: 0.4136110155202804.\n",
            "[I 2025-10-12 16:06:20,998] Trial 42 finished with value: 0.4128961456771485 and parameters: {'C': 1.4567389291981525, 'penalty': 'l1', 'solver': 'liblinear'}. Best is trial 37 with value: 0.4136110155202804.\n",
            "[I 2025-10-12 16:06:21,039] Trial 43 finished with value: 0.398903866718659 and parameters: {'C': 0.5189909303728383, 'penalty': 'l1', 'solver': 'liblinear'}. Best is trial 37 with value: 0.4136110155202804.\n",
            "[I 2025-10-12 16:06:21,064] Trial 44 finished with value: 0.4028872513828081 and parameters: {'C': 0.1895351390239439, 'penalty': 'l1', 'solver': 'liblinear'}. Best is trial 37 with value: 0.4136110155202804.\n",
            "[I 2025-10-12 16:06:21,097] Trial 45 finished with value: 0.40024198175918774 and parameters: {'C': 0.9234293584192268, 'penalty': 'l1', 'solver': 'liblinear'}. Best is trial 37 with value: 0.4136110155202804.\n",
            "[I 2025-10-12 16:06:21,128] Trial 46 finished with value: 0.3991338788231131 and parameters: {'C': 0.388824517953351, 'penalty': 'l1', 'solver': 'liblinear'}. Best is trial 37 with value: 0.4136110155202804.\n",
            "[I 2025-10-12 16:06:21,188] Trial 47 finished with value: 0.4136110155202804 and parameters: {'C': 0.9517424147725613, 'penalty': 'l2', 'solver': 'liblinear'}. Best is trial 37 with value: 0.4136110155202804.\n",
            "[I 2025-10-12 16:06:21,229] Trial 48 finished with value: 0.40684924583384513 and parameters: {'C': 0.11246525112734884, 'penalty': 'l2', 'solver': 'liblinear'}. Best is trial 37 with value: 0.4136110155202804.\n",
            "[I 2025-10-12 16:06:21,270] Trial 49 finished with value: 0.40079269548191077 and parameters: {'C': 0.18503065234460314, 'penalty': 'l2', 'solver': 'liblinear'}. Best is trial 37 with value: 0.4136110155202804.\n"
          ]
        },
        {
          "name": "stdout",
          "output_type": "stream",
          "text": [
            "Лучшие параметры: {'C': 1.150228736410445, 'penalty': 'l1', 'solver': 'saga'}\n",
            "Лучший macro F1-score: 0.4136110155202804\n",
            "Общее время Optuna: 2.596 секунд\n"
          ]
        }
      ],
      "source": [
        "# для One-vs-One\n",
        "\n",
        "def objective(trial):\n",
        "    C = trial.suggest_float('C', 1e-3, 1e3, log=True)\n",
        "    penalty = trial.suggest_categorical('penalty', ['l1', 'l2'])\n",
        "    solver = trial.suggest_categorical('solver', ['liblinear', 'saga', 'lbfgs'])\n",
        "    \n",
        "    if penalty == 'l1':\n",
        "        solver = 'liblinear'\n",
        "    elif penalty == 'l2':\n",
        "        solver = 'lbfgs'  \n",
        "    \n",
        "    base_estimator = LogisticRegression(\n",
        "        C=C,\n",
        "        penalty=penalty,\n",
        "        solver=solver,\n",
        "        max_iter=1000,\n",
        "        random_state=42\n",
        "    )\n",
        "    \n",
        "    model = OneVsOneClassifier(base_estimator)\n",
        "    model.fit(X_train_transformed, y_train)\n",
        "    \n",
        "    trial.set_user_attr('model', model)\n",
        "    \n",
        "    y_pred = model.predict(X_test_transformed)\n",
        "    score = f1_score(y_test, y_pred, average='macro')\n",
        "    return score\n",
        "\n",
        "start_optuna = time.time()\n",
        "\n",
        "study = optuna.create_study(direction='maximize')\n",
        "study.optimize(objective, n_trials=50)\n",
        "\n",
        "time_optuna_total = time.time() - start_optuna\n",
        "\n",
        "print(\"Лучшие параметры:\", study.best_params)\n",
        "print(\"Лучший macro F1-score:\", study.best_value)\n",
        "print(f\"Общее время Optuna: {round(time_optuna_total, 3)} секунд\")"
      ]
    },
    {
      "cell_type": "markdown",
      "metadata": {},
      "source": [
        "Не удалось значимо увеличить macro F1"
      ]
    },
    {
      "cell_type": "code",
      "execution_count": 65,
      "metadata": {},
      "outputs": [],
      "source": [
        "best_trial = study.best_trial                                 # извлекаю лучшую модель\n",
        "best_ovo_model = best_trial.user_attrs['model']\n",
        "\n",
        "y_pred_ovo_optuna = best_ovo_model.predict(X_test_transformed)\n",
        "\n",
        "precision_per_class_ovo_optuna = precision_score(y_test, y_pred_ovo_optuna, average=None)\n",
        "recall_per_class_ovo_optuna = recall_score(y_test, y_pred_ovo_optuna, average=None)\n",
        "f1_per_class_ovo_optuna = f1_score(y_test, y_pred_ovo_optuna, average=None)\n",
        "\n",
        "df_metrics.loc['One-vs-One + Optuna with Logistic Regression'] = [\n",
        "    f1_per_class_ovo_optuna.mean(),\n",
        "    precision_per_class_ovo_optuna.mean(),\n",
        "    recall_per_class_ovo_optuna.mean(),\n",
        "    len(best_ovo_model.estimators_),\n",
        "    round(time_optuna_total, 3)  \n",
        "]"
      ]
    },
    {
      "cell_type": "code",
      "execution_count": 68,
      "metadata": {},
      "outputs": [
        {
          "data": {
            "text/html": [
              "<style type=\"text/css\">\n",
              "#T_044d6_row0_col0, #T_044d6_row0_col1, #T_044d6_row0_col2, #T_044d6_row2_col4 {\n",
              "  background-color: #a50026;\n",
              "  color: #f1f1f1;\n",
              "}\n",
              "#T_044d6_row0_col4 {\n",
              "  background-color: #016a38;\n",
              "  color: #f1f1f1;\n",
              "}\n",
              "#T_044d6_row1_col0, #T_044d6_row1_col1, #T_044d6_row1_col2, #T_044d6_row1_col4, #T_044d6_row2_col0, #T_044d6_row2_col1, #T_044d6_row2_col2 {\n",
              "  background-color: #006837;\n",
              "  color: #f1f1f1;\n",
              "}\n",
              "</style>\n",
              "<table id=\"T_044d6\">\n",
              "  <thead>\n",
              "    <tr>\n",
              "      <th class=\"blank level0\" >&nbsp;</th>\n",
              "      <th id=\"T_044d6_level0_col0\" class=\"col_heading level0 col0\" >macro_F1</th>\n",
              "      <th id=\"T_044d6_level0_col1\" class=\"col_heading level0 col1\" >macro_precision</th>\n",
              "      <th id=\"T_044d6_level0_col2\" class=\"col_heading level0 col2\" >macro_recall</th>\n",
              "      <th id=\"T_044d6_level0_col3\" class=\"col_heading level0 col3\" >Количество классификаторов</th>\n",
              "      <th id=\"T_044d6_level0_col4\" class=\"col_heading level0 col4\" >Скорость обучения (секунд)</th>\n",
              "    </tr>\n",
              "  </thead>\n",
              "  <tbody>\n",
              "    <tr>\n",
              "      <th id=\"T_044d6_level0_row0\" class=\"row_heading level0 row0\" >One-vs-Rest with Logistic Regression</th>\n",
              "      <td id=\"T_044d6_row0_col0\" class=\"data row0 col0\" >0.397389</td>\n",
              "      <td id=\"T_044d6_row0_col1\" class=\"data row0 col1\" >0.532561</td>\n",
              "      <td id=\"T_044d6_row0_col2\" class=\"data row0 col2\" >0.434916</td>\n",
              "      <td id=\"T_044d6_row0_col3\" class=\"data row0 col3\" >3</td>\n",
              "      <td id=\"T_044d6_row0_col4\" class=\"data row0 col4\" >0.077000</td>\n",
              "    </tr>\n",
              "    <tr>\n",
              "      <th id=\"T_044d6_level0_row1\" class=\"row_heading level0 row1\" >One-vs-One with Logistic Regression</th>\n",
              "      <td id=\"T_044d6_row1_col0\" class=\"data row1 col0\" >0.413611</td>\n",
              "      <td id=\"T_044d6_row1_col1\" class=\"data row1 col1\" >0.535071</td>\n",
              "      <td id=\"T_044d6_row1_col2\" class=\"data row1 col2\" >0.441842</td>\n",
              "      <td id=\"T_044d6_row1_col3\" class=\"data row1 col3\" >3</td>\n",
              "      <td id=\"T_044d6_row1_col4\" class=\"data row1 col4\" >0.064000</td>\n",
              "    </tr>\n",
              "    <tr>\n",
              "      <th id=\"T_044d6_level0_row2\" class=\"row_heading level0 row2\" >One-vs-One + Optuna with Logistic Regression</th>\n",
              "      <td id=\"T_044d6_row2_col0\" class=\"data row2 col0\" >0.413611</td>\n",
              "      <td id=\"T_044d6_row2_col1\" class=\"data row2 col1\" >0.535071</td>\n",
              "      <td id=\"T_044d6_row2_col2\" class=\"data row2 col2\" >0.441842</td>\n",
              "      <td id=\"T_044d6_row2_col3\" class=\"data row2 col3\" >3</td>\n",
              "      <td id=\"T_044d6_row2_col4\" class=\"data row2 col4\" >2.596000</td>\n",
              "    </tr>\n",
              "  </tbody>\n",
              "</table>\n"
            ],
            "text/plain": [
              "<pandas.io.formats.style.Styler at 0x1d4143708c0>"
            ]
          },
          "metadata": {},
          "output_type": "display_data"
        }
      ],
      "source": [
        "df_metrics['Количество классификаторов'] = df_metrics['Количество классификаторов'].astype(int)\n",
        "display(df_metrics.style\n",
        "    .background_gradient(subset=['macro_F1', 'macro_precision', 'macro_recall'], cmap='RdYlGn')\n",
        "    .background_gradient(subset=['Скорость обучения (секунд)'], cmap='RdYlGn_r'))"
      ]
    },
    {
      "cell_type": "code",
      "execution_count": 69,
      "metadata": {
        "id": "BuO6VHE1P4dA"
      },
      "outputs": [
        {
          "name": "stderr",
          "output_type": "stream",
          "text": [
            "[I 2025-10-12 16:31:45,151] A new study created in memory with name: no-name-8a64c457-3413-4244-adc9-9fa5bfc38f15\n",
            "[I 2025-10-12 16:31:45,211] Trial 0 finished with value: 0.3928721971540921 and parameters: {'C': 0.015162035080912318, 'penalty': 'l2', 'solver': 'saga'}. Best is trial 0 with value: 0.3928721971540921.\n",
            "[I 2025-10-12 16:31:45,243] Trial 1 finished with value: 0.4004648006019833 and parameters: {'C': 0.1304260418785571, 'penalty': 'l1', 'solver': 'lbfgs'}. Best is trial 1 with value: 0.4004648006019833.\n",
            "[I 2025-10-12 16:31:45,272] Trial 2 finished with value: 0.4016074689841929 and parameters: {'C': 0.11244290766609472, 'penalty': 'l1', 'solver': 'lbfgs'}. Best is trial 2 with value: 0.4016074689841929.\n",
            "[I 2025-10-12 16:31:45,422] Trial 3 finished with value: 0.39833374176670494 and parameters: {'C': 10.997497965664715, 'penalty': 'l1', 'solver': 'saga'}. Best is trial 2 with value: 0.4016074689841929.\n",
            "[I 2025-10-12 16:31:45,547] Trial 4 finished with value: 0.39833374176670494 and parameters: {'C': 6.807847103738868, 'penalty': 'l2', 'solver': 'saga'}. Best is trial 2 with value: 0.4016074689841929.\n",
            "[I 2025-10-12 16:31:45,561] Trial 5 finished with value: 0.3197948236365447 and parameters: {'C': 0.0041785882871093905, 'penalty': 'l1', 'solver': 'saga'}. Best is trial 2 with value: 0.4016074689841929.\n",
            "[I 2025-10-12 16:31:45,692] Trial 6 finished with value: 0.39833374176670494 and parameters: {'C': 181.70363520008908, 'penalty': 'l1', 'solver': 'liblinear'}. Best is trial 2 with value: 0.4016074689841929.\n",
            "[I 2025-10-12 16:31:45,703] Trial 7 finished with value: 0.22171945701357465 and parameters: {'C': 0.0019638111984826667, 'penalty': 'l1', 'solver': 'lbfgs'}. Best is trial 2 with value: 0.4016074689841929.\n",
            "[I 2025-10-12 16:31:45,889] Trial 8 finished with value: 0.39833374176670494 and parameters: {'C': 30.565102614114195, 'penalty': 'l1', 'solver': 'lbfgs'}. Best is trial 2 with value: 0.4016074689841929.\n",
            "[I 2025-10-12 16:31:45,965] Trial 9 finished with value: 0.39810196653051816 and parameters: {'C': 0.5189286059528554, 'penalty': 'l2', 'solver': 'saga'}. Best is trial 2 with value: 0.4016074689841929.\n",
            "[I 2025-10-12 16:31:46,014] Trial 10 finished with value: 0.40263763645562634 and parameters: {'C': 0.07733343150581139, 'penalty': 'l2', 'solver': 'liblinear'}. Best is trial 10 with value: 0.40263763645562634.\n",
            "[I 2025-10-12 16:31:46,065] Trial 11 finished with value: 0.3990208599404002 and parameters: {'C': 0.07087741645073632, 'penalty': 'l2', 'solver': 'liblinear'}. Best is trial 10 with value: 0.40263763645562634.\n",
            "[I 2025-10-12 16:31:46,139] Trial 12 finished with value: 0.397388694690007 and parameters: {'C': 0.8453403660970459, 'penalty': 'l2', 'solver': 'liblinear'}. Best is trial 10 with value: 0.40263763645562634.\n",
            "[I 2025-10-12 16:31:46,186] Trial 13 finished with value: 0.3952670376116972 and parameters: {'C': 0.04513750176916733, 'penalty': 'l2', 'solver': 'liblinear'}. Best is trial 10 with value: 0.40263763645562634.\n",
            "[I 2025-10-12 16:31:46,219] Trial 14 finished with value: 0.40179109079053354 and parameters: {'C': 0.26933679719758125, 'penalty': 'l1', 'solver': 'lbfgs'}. Best is trial 10 with value: 0.40263763645562634.\n",
            "[I 2025-10-12 16:31:46,318] Trial 15 finished with value: 0.397388694690007 and parameters: {'C': 1.7765885667974821, 'penalty': 'l2', 'solver': 'lbfgs'}. Best is trial 10 with value: 0.40263763645562634.\n",
            "[I 2025-10-12 16:31:46,352] Trial 16 finished with value: 0.3806603714900658 and parameters: {'C': 0.008191305340101705, 'penalty': 'l2', 'solver': 'liblinear'}. Best is trial 10 with value: 0.40263763645562634.\n",
            "[I 2025-10-12 16:31:46,399] Trial 17 finished with value: 0.397217617485587 and parameters: {'C': 0.47669152440339574, 'penalty': 'l1', 'solver': 'lbfgs'}. Best is trial 10 with value: 0.40263763645562634.\n",
            "[I 2025-10-12 16:31:46,554] Trial 18 finished with value: 0.39833374176670494 and parameters: {'C': 799.2162243686087, 'penalty': 'l2', 'solver': 'liblinear'}. Best is trial 10 with value: 0.40263763645562634.\n",
            "[I 2025-10-12 16:31:46,567] Trial 19 finished with value: 0.22171945701357465 and parameters: {'C': 0.0010108802607559629, 'penalty': 'l1', 'solver': 'lbfgs'}. Best is trial 10 with value: 0.40263763645562634.\n",
            "[I 2025-10-12 16:31:46,610] Trial 20 finished with value: 0.38921101774042954 and parameters: {'C': 0.028124249667559182, 'penalty': 'l2', 'solver': 'liblinear'}. Best is trial 10 with value: 0.40263763645562634.\n",
            "[I 2025-10-12 16:31:46,639] Trial 21 finished with value: 0.3999714322699995 and parameters: {'C': 0.21133466208513643, 'penalty': 'l1', 'solver': 'lbfgs'}. Best is trial 10 with value: 0.40263763645562634.\n",
            "[I 2025-10-12 16:31:46,703] Trial 22 finished with value: 0.3958865433352943 and parameters: {'C': 2.2917134763876623, 'penalty': 'l1', 'solver': 'lbfgs'}. Best is trial 10 with value: 0.40263763645562634.\n",
            "[I 2025-10-12 16:31:46,731] Trial 23 finished with value: 0.4042084618321735 and parameters: {'C': 0.18442827164379177, 'penalty': 'l1', 'solver': 'lbfgs'}. Best is trial 23 with value: 0.4042084618321735.\n",
            "[I 2025-10-12 16:31:46,771] Trial 24 finished with value: 0.40179109079053354 and parameters: {'C': 0.2780990978564555, 'penalty': 'l1', 'solver': 'lbfgs'}. Best is trial 23 with value: 0.4042084618321735.\n",
            "[I 2025-10-12 16:31:46,795] Trial 25 finished with value: 0.38793136850855775 and parameters: {'C': 0.03138584907954715, 'penalty': 'l1', 'solver': 'lbfgs'}. Best is trial 23 with value: 0.4042084618321735.\n",
            "[I 2025-10-12 16:31:46,867] Trial 26 finished with value: 0.3958865433352943 and parameters: {'C': 3.2801320556310505, 'penalty': 'l1', 'solver': 'liblinear'}. Best is trial 23 with value: 0.4042084618321735.\n",
            "[I 2025-10-12 16:31:46,885] Trial 27 finished with value: 0.35994160508833195 and parameters: {'C': 0.010508480659063008, 'penalty': 'l1', 'solver': 'lbfgs'}. Best is trial 23 with value: 0.4042084618321735.\n",
            "[I 2025-10-12 16:31:46,971] Trial 28 finished with value: 0.397388694690007 and parameters: {'C': 1.1474928369774544, 'penalty': 'l2', 'solver': 'lbfgs'}. Best is trial 23 with value: 0.4042084618321735.\n",
            "[I 2025-10-12 16:31:47,010] Trial 29 finished with value: 0.3928721971540921 and parameters: {'C': 0.01583294401590164, 'penalty': 'l2', 'solver': 'liblinear'}. Best is trial 23 with value: 0.4042084618321735.\n",
            "[I 2025-10-12 16:31:47,034] Trial 30 finished with value: 0.39642849964698873 and parameters: {'C': 0.07326124204062268, 'penalty': 'l1', 'solver': 'saga'}. Best is trial 23 with value: 0.4042084618321735.\n",
            "[I 2025-10-12 16:31:47,068] Trial 31 finished with value: 0.40179109079053354 and parameters: {'C': 0.30109715661596465, 'penalty': 'l1', 'solver': 'lbfgs'}. Best is trial 23 with value: 0.4042084618321735.\n",
            "[I 2025-10-12 16:31:47,101] Trial 32 finished with value: 0.40179109079053354 and parameters: {'C': 0.2553467073436925, 'penalty': 'l1', 'solver': 'lbfgs'}. Best is trial 23 with value: 0.4042084618321735.\n",
            "[I 2025-10-12 16:31:47,131] Trial 33 finished with value: 0.40179109079053354 and parameters: {'C': 0.2397372783254999, 'penalty': 'l1', 'solver': 'lbfgs'}. Best is trial 23 with value: 0.4042084618321735.\n",
            "[I 2025-10-12 16:31:47,157] Trial 34 finished with value: 0.4004648006019833 and parameters: {'C': 0.13813087359259016, 'penalty': 'l1', 'solver': 'lbfgs'}. Best is trial 23 with value: 0.4042084618321735.\n",
            "[I 2025-10-12 16:31:47,229] Trial 35 finished with value: 0.39833374176670494 and parameters: {'C': 5.174956395607859, 'penalty': 'l1', 'solver': 'lbfgs'}. Best is trial 23 with value: 0.4042084618321735.\n",
            "[I 2025-10-12 16:31:47,377] Trial 36 finished with value: 0.39833374176670494 and parameters: {'C': 19.10695606993934, 'penalty': 'l1', 'solver': 'lbfgs'}. Best is trial 23 with value: 0.4042084618321735.\n",
            "[I 2025-10-12 16:31:47,403] Trial 37 finished with value: 0.40170165898169885 and parameters: {'C': 0.10355161131886871, 'penalty': 'l1', 'solver': 'saga'}. Best is trial 23 with value: 0.4042084618321735.\n",
            "[I 2025-10-12 16:31:47,475] Trial 38 finished with value: 0.39723397662070076 and parameters: {'C': 0.7855002977163507, 'penalty': 'l1', 'solver': 'lbfgs'}. Best is trial 23 with value: 0.4042084618321735.\n",
            "[I 2025-10-12 16:31:47,495] Trial 39 finished with value: 0.3720729944217966 and parameters: {'C': 0.01830600128484017, 'penalty': 'l1', 'solver': 'saga'}. Best is trial 23 with value: 0.4042084618321735.\n",
            "[I 2025-10-12 16:31:47,529] Trial 40 finished with value: 0.35697018638734695 and parameters: {'C': 0.0039201692815386035, 'penalty': 'l2', 'solver': 'lbfgs'}. Best is trial 23 with value: 0.4042084618321735.\n",
            "[I 2025-10-12 16:31:47,570] Trial 41 finished with value: 0.39957725256129145 and parameters: {'C': 0.4062917078648661, 'penalty': 'l1', 'solver': 'lbfgs'}. Best is trial 23 with value: 0.4042084618321735.\n",
            "[I 2025-10-12 16:31:47,596] Trial 42 finished with value: 0.4004648006019833 and parameters: {'C': 0.13368937183535032, 'penalty': 'l1', 'solver': 'lbfgs'}. Best is trial 23 with value: 0.4042084618321735.\n",
            "[I 2025-10-12 16:31:47,619] Trial 43 finished with value: 0.3930205415499533 and parameters: {'C': 0.052576682805809495, 'penalty': 'l1', 'solver': 'lbfgs'}. Best is trial 23 with value: 0.4042084618321735.\n",
            "[I 2025-10-12 16:31:47,653] Trial 44 finished with value: 0.40289390804652836 and parameters: {'C': 0.32228044209642037, 'penalty': 'l1', 'solver': 'lbfgs'}. Best is trial 23 with value: 0.4042084618321735.\n",
            "[I 2025-10-12 16:31:47,707] Trial 45 finished with value: 0.396522675650816 and parameters: {'C': 1.0744865509013517, 'penalty': 'l1', 'solver': 'liblinear'}. Best is trial 23 with value: 0.4042084618321735.\n",
            "[I 2025-10-12 16:31:47,732] Trial 46 finished with value: 0.4022658073290984 and parameters: {'C': 0.15072541942243228, 'penalty': 'l1', 'solver': 'lbfgs'}. Best is trial 23 with value: 0.4042084618321735.\n",
            "[I 2025-10-12 16:31:47,788] Trial 47 finished with value: 0.4056060063110783 and parameters: {'C': 0.13112505660351512, 'penalty': 'l2', 'solver': 'liblinear'}. Best is trial 47 with value: 0.4056060063110783.\n",
            "[I 2025-10-12 16:31:47,829] Trial 48 finished with value: 0.39073817014162576 and parameters: {'C': 0.03364383890781203, 'penalty': 'l2', 'solver': 'liblinear'}. Best is trial 47 with value: 0.4056060063110783.\n",
            "[I 2025-10-12 16:31:47,875] Trial 49 finished with value: 0.40263763645562634 and parameters: {'C': 0.08488094765850861, 'penalty': 'l2', 'solver': 'liblinear'}. Best is trial 47 with value: 0.4056060063110783.\n"
          ]
        },
        {
          "name": "stdout",
          "output_type": "stream",
          "text": [
            "Лучшие параметры: {'C': 0.13112505660351512, 'penalty': 'l2', 'solver': 'liblinear'}\n",
            "Лучший macro F1-score: 0.4056060063110783\n",
            "Общее время Optuna: 2.724 секунд\n"
          ]
        }
      ],
      "source": [
        "# теперь One-vs_Rest с Optuna\n",
        "\n",
        "def objective(trial):\n",
        "    C = trial.suggest_float('C', 1e-3, 1e3, log=True)\n",
        "    penalty = trial.suggest_categorical('penalty', ['l1', 'l2'])\n",
        "    solver = trial.suggest_categorical('solver', ['liblinear', 'saga', 'lbfgs'])\n",
        "    \n",
        "    if penalty == 'l1':\n",
        "        solver = 'liblinear'\n",
        "    elif penalty == 'l2':\n",
        "        solver = 'lbfgs'  \n",
        "    \n",
        "    base_estimator = LogisticRegression(\n",
        "        C=C,\n",
        "        penalty=penalty,\n",
        "        solver=solver,\n",
        "        max_iter=1000,\n",
        "        random_state=42\n",
        "    )\n",
        "    \n",
        "    model = OneVsRestClassifier(base_estimator)\n",
        "    model.fit(X_train_transformed, y_train)\n",
        "    \n",
        "    trial.set_user_attr('model', model)\n",
        "    \n",
        "    y_pred = model.predict(X_test_transformed)\n",
        "    score = f1_score(y_test, y_pred, average='macro')\n",
        "    return score\n",
        "\n",
        "start_optuna = time.time()\n",
        "\n",
        "study = optuna.create_study(direction='maximize')\n",
        "study.optimize(objective, n_trials=50)\n",
        "\n",
        "time_optuna_total = time.time() - start_optuna\n",
        "\n",
        "print(\"Лучшие параметры:\", study.best_params)\n",
        "print(\"Лучший macro F1-score:\", study.best_value)\n",
        "print(f\"Общее время Optuna: {round(time_optuna_total, 3)} секунд\")"
      ]
    },
    {
      "cell_type": "code",
      "execution_count": 70,
      "metadata": {},
      "outputs": [],
      "source": [
        "best_trial = study.best_trial                                 # извлекаю лучшую модель\n",
        "best_ovr_model = best_trial.user_attrs['model']\n",
        "\n",
        "y_pred_ovr_optuna = best_ovr_model.predict(X_test_transformed)\n",
        "\n",
        "precision_per_class_ovr_optuna = precision_score(y_test, y_pred_ovr_optuna, average=None)\n",
        "recall_per_class_ovr_optuna = recall_score(y_test, y_pred_ovr_optuna, average=None)\n",
        "f1_per_class_ovr_optuna = f1_score(y_test, y_pred_ovr_optuna, average=None)\n",
        "\n",
        "df_metrics.loc['One-vs-Rest + Optuna with Logistic Regression'] = [\n",
        "    f1_per_class_ovr_optuna.mean(),\n",
        "    precision_per_class_ovr_optuna.mean(),\n",
        "    recall_per_class_ovr_optuna.mean(),\n",
        "    len(best_ovr_model.estimators_),\n",
        "    round(time_optuna_total, 3)  \n",
        "]"
      ]
    },
    {
      "cell_type": "code",
      "execution_count": 71,
      "metadata": {},
      "outputs": [
        {
          "data": {
            "text/html": [
              "<style type=\"text/css\">\n",
              "#T_cf17c_row0_col0, #T_cf17c_row0_col1, #T_cf17c_row0_col2, #T_cf17c_row3_col4 {\n",
              "  background-color: #a50026;\n",
              "  color: #f1f1f1;\n",
              "}\n",
              "#T_cf17c_row0_col4 {\n",
              "  background-color: #016a38;\n",
              "  color: #f1f1f1;\n",
              "}\n",
              "#T_cf17c_row1_col0, #T_cf17c_row1_col4, #T_cf17c_row2_col0, #T_cf17c_row3_col1, #T_cf17c_row3_col2 {\n",
              "  background-color: #006837;\n",
              "  color: #f1f1f1;\n",
              "}\n",
              "#T_cf17c_row1_col1, #T_cf17c_row2_col1 {\n",
              "  background-color: #ab0626;\n",
              "  color: #f1f1f1;\n",
              "}\n",
              "#T_cf17c_row1_col2, #T_cf17c_row2_col2 {\n",
              "  background-color: #51b35e;\n",
              "  color: #f1f1f1;\n",
              "}\n",
              "#T_cf17c_row2_col4 {\n",
              "  background-color: #bd1726;\n",
              "  color: #f1f1f1;\n",
              "}\n",
              "#T_cf17c_row3_col0 {\n",
              "  background-color: #fdfebc;\n",
              "  color: #000000;\n",
              "}\n",
              "</style>\n",
              "<table id=\"T_cf17c\">\n",
              "  <thead>\n",
              "    <tr>\n",
              "      <th class=\"blank level0\" >&nbsp;</th>\n",
              "      <th id=\"T_cf17c_level0_col0\" class=\"col_heading level0 col0\" >macro_F1</th>\n",
              "      <th id=\"T_cf17c_level0_col1\" class=\"col_heading level0 col1\" >macro_precision</th>\n",
              "      <th id=\"T_cf17c_level0_col2\" class=\"col_heading level0 col2\" >macro_recall</th>\n",
              "      <th id=\"T_cf17c_level0_col3\" class=\"col_heading level0 col3\" >Количество классификаторов</th>\n",
              "      <th id=\"T_cf17c_level0_col4\" class=\"col_heading level0 col4\" >Скорость обучения (секунд)</th>\n",
              "    </tr>\n",
              "  </thead>\n",
              "  <tbody>\n",
              "    <tr>\n",
              "      <th id=\"T_cf17c_level0_row0\" class=\"row_heading level0 row0\" >One-vs-Rest with Logistic Regression</th>\n",
              "      <td id=\"T_cf17c_row0_col0\" class=\"data row0 col0\" >0.397389</td>\n",
              "      <td id=\"T_cf17c_row0_col1\" class=\"data row0 col1\" >0.532561</td>\n",
              "      <td id=\"T_cf17c_row0_col2\" class=\"data row0 col2\" >0.434916</td>\n",
              "      <td id=\"T_cf17c_row0_col3\" class=\"data row0 col3\" >3</td>\n",
              "      <td id=\"T_cf17c_row0_col4\" class=\"data row0 col4\" >0.077000</td>\n",
              "    </tr>\n",
              "    <tr>\n",
              "      <th id=\"T_cf17c_level0_row1\" class=\"row_heading level0 row1\" >One-vs-One with Logistic Regression</th>\n",
              "      <td id=\"T_cf17c_row1_col0\" class=\"data row1 col0\" >0.413611</td>\n",
              "      <td id=\"T_cf17c_row1_col1\" class=\"data row1 col1\" >0.535071</td>\n",
              "      <td id=\"T_cf17c_row1_col2\" class=\"data row1 col2\" >0.441842</td>\n",
              "      <td id=\"T_cf17c_row1_col3\" class=\"data row1 col3\" >3</td>\n",
              "      <td id=\"T_cf17c_row1_col4\" class=\"data row1 col4\" >0.064000</td>\n",
              "    </tr>\n",
              "    <tr>\n",
              "      <th id=\"T_cf17c_level0_row2\" class=\"row_heading level0 row2\" >One-vs-One + Optuna with Logistic Regression</th>\n",
              "      <td id=\"T_cf17c_row2_col0\" class=\"data row2 col0\" >0.413611</td>\n",
              "      <td id=\"T_cf17c_row2_col1\" class=\"data row2 col1\" >0.535071</td>\n",
              "      <td id=\"T_cf17c_row2_col2\" class=\"data row2 col2\" >0.441842</td>\n",
              "      <td id=\"T_cf17c_row2_col3\" class=\"data row2 col3\" >3</td>\n",
              "      <td id=\"T_cf17c_row2_col4\" class=\"data row2 col4\" >2.596000</td>\n",
              "    </tr>\n",
              "    <tr>\n",
              "      <th id=\"T_cf17c_level0_row3\" class=\"row_heading level0 row3\" >One-vs-Rest + Optuna with Logistic Regression</th>\n",
              "      <td id=\"T_cf17c_row3_col0\" class=\"data row3 col0\" >0.405606</td>\n",
              "      <td id=\"T_cf17c_row3_col1\" class=\"data row3 col1\" >0.709400</td>\n",
              "      <td id=\"T_cf17c_row3_col2\" class=\"data row3 col2\" >0.443286</td>\n",
              "      <td id=\"T_cf17c_row3_col3\" class=\"data row3 col3\" >3</td>\n",
              "      <td id=\"T_cf17c_row3_col4\" class=\"data row3 col4\" >2.724000</td>\n",
              "    </tr>\n",
              "  </tbody>\n",
              "</table>\n"
            ],
            "text/plain": [
              "<pandas.io.formats.style.Styler at 0x1d4143708c0>"
            ]
          },
          "metadata": {},
          "output_type": "display_data"
        }
      ],
      "source": [
        "df_metrics['Количество классификаторов'] = df_metrics['Количество классификаторов'].astype(int)\n",
        "display(df_metrics.style\n",
        "    .background_gradient(subset=['macro_F1', 'macro_precision', 'macro_recall'], cmap='RdYlGn')\n",
        "    .background_gradient(subset=['Скорость обучения (секунд)'], cmap='RdYlGn_r'))"
      ]
    },
    {
      "cell_type": "markdown",
      "metadata": {},
      "source": [
        "Качество довольно низкое даже с optuna.\\\n",
        "Я хочу попробовать обучить random forest для оценки важности признаков. Я предполагаю, что выбранный набор признаков просто очень слабый"
      ]
    },
    {
      "cell_type": "code",
      "execution_count": 73,
      "metadata": {},
      "outputs": [],
      "source": [
        "from sklearn.ensemble import RandomForestClassifier\n",
        "import matplotlib.pyplot as plt"
      ]
    },
    {
      "cell_type": "code",
      "execution_count": 75,
      "metadata": {},
      "outputs": [
        {
          "data": {
            "text/html": [
              "<div>\n",
              "<style scoped>\n",
              "    .dataframe tbody tr th:only-of-type {\n",
              "        vertical-align: middle;\n",
              "    }\n",
              "\n",
              "    .dataframe tbody tr th {\n",
              "        vertical-align: top;\n",
              "    }\n",
              "\n",
              "    .dataframe thead th {\n",
              "        text-align: right;\n",
              "    }\n",
              "</style>\n",
              "<table border=\"1\" class=\"dataframe\">\n",
              "  <thead>\n",
              "    <tr style=\"text-align: right;\">\n",
              "      <th></th>\n",
              "      <th>feature</th>\n",
              "      <th>importance</th>\n",
              "    </tr>\n",
              "  </thead>\n",
              "  <tbody>\n",
              "    <tr>\n",
              "      <th>0</th>\n",
              "      <td>0</td>\n",
              "      <td>0.560474</td>\n",
              "    </tr>\n",
              "    <tr>\n",
              "      <th>18</th>\n",
              "      <td>18</td>\n",
              "      <td>0.043536</td>\n",
              "    </tr>\n",
              "    <tr>\n",
              "      <th>44</th>\n",
              "      <td>44</td>\n",
              "      <td>0.037481</td>\n",
              "    </tr>\n",
              "    <tr>\n",
              "      <th>43</th>\n",
              "      <td>43</td>\n",
              "      <td>0.036716</td>\n",
              "    </tr>\n",
              "    <tr>\n",
              "      <th>13</th>\n",
              "      <td>13</td>\n",
              "      <td>0.025790</td>\n",
              "    </tr>\n",
              "    <tr>\n",
              "      <th>22</th>\n",
              "      <td>22</td>\n",
              "      <td>0.024565</td>\n",
              "    </tr>\n",
              "    <tr>\n",
              "      <th>16</th>\n",
              "      <td>16</td>\n",
              "      <td>0.021256</td>\n",
              "    </tr>\n",
              "    <tr>\n",
              "      <th>1</th>\n",
              "      <td>1</td>\n",
              "      <td>0.017384</td>\n",
              "    </tr>\n",
              "    <tr>\n",
              "      <th>15</th>\n",
              "      <td>15</td>\n",
              "      <td>0.016205</td>\n",
              "    </tr>\n",
              "    <tr>\n",
              "      <th>9</th>\n",
              "      <td>9</td>\n",
              "      <td>0.015235</td>\n",
              "    </tr>\n",
              "    <tr>\n",
              "      <th>23</th>\n",
              "      <td>23</td>\n",
              "      <td>0.014917</td>\n",
              "    </tr>\n",
              "    <tr>\n",
              "      <th>14</th>\n",
              "      <td>14</td>\n",
              "      <td>0.014645</td>\n",
              "    </tr>\n",
              "    <tr>\n",
              "      <th>24</th>\n",
              "      <td>24</td>\n",
              "      <td>0.014362</td>\n",
              "    </tr>\n",
              "    <tr>\n",
              "      <th>17</th>\n",
              "      <td>17</td>\n",
              "      <td>0.014218</td>\n",
              "    </tr>\n",
              "    <tr>\n",
              "      <th>2</th>\n",
              "      <td>2</td>\n",
              "      <td>0.014145</td>\n",
              "    </tr>\n",
              "  </tbody>\n",
              "</table>\n",
              "</div>"
            ],
            "text/plain": [
              "    feature  importance\n",
              "0         0    0.560474\n",
              "18       18    0.043536\n",
              "44       44    0.037481\n",
              "43       43    0.036716\n",
              "13       13    0.025790\n",
              "22       22    0.024565\n",
              "16       16    0.021256\n",
              "1         1    0.017384\n",
              "15       15    0.016205\n",
              "9         9    0.015235\n",
              "23       23    0.014917\n",
              "14       14    0.014645\n",
              "24       24    0.014362\n",
              "17       17    0.014218\n",
              "2         2    0.014145"
            ]
          },
          "execution_count": 75,
          "metadata": {},
          "output_type": "execute_result"
        }
      ],
      "source": [
        "rf = RandomForestClassifier(n_estimators=100, random_state=42, n_jobs=-1)\n",
        "rf.fit(X_train_transformed, y_train)\n",
        "\n",
        "feature_importance = pd.DataFrame({\n",
        "    'feature': range(X_train_transformed.shape[1]),  \n",
        "    'importance': rf.feature_importances_\n",
        "}).sort_values('importance', ascending=False)\n",
        "\n",
        "feature_importance.head(15) # для того чтоб понять масштаб проблемы, вывожу 15 лучших\n"
      ]
    },
    {
      "cell_type": "code",
      "execution_count": 76,
      "metadata": {},
      "outputs": [
        {
          "data": {
            "image/png": "[encoded data removed]",
            "text/plain": [
              "<Figure size 1000x600 with 1 Axes>"
            ]
          },
          "metadata": {},
          "output_type": "display_data"
        }
      ],
      "source": [
        "# Визуализация\n",
        "plt.figure(figsize=(10, 6))\n",
        "plt.barh(feature_importance['feature'].head(15).astype(str), \n",
        "         feature_importance['importance'].head(15))\n",
        "plt.xlabel('Важность признака')\n",
        "plt.title('Топ-15 самых важных признаков (RandomForest)')\n",
        "plt.gca().invert_yaxis()\n",
        "plt.show()"
      ]
    },
    {
      "cell_type": "code",
      "execution_count": 79,
      "metadata": {},
      "outputs": [
        {
          "name": "stdout",
          "output_type": "stream",
          "text": [
            "Признак 0: Marital status\n"
          ]
        }
      ],
      "source": [
        "if hasattr(X_train, 'columns'):\n",
        "    print(f\"Признак 0: {X_train.columns[0]}\")"
      ]
    },
    {
      "cell_type": "markdown",
      "metadata": {},
      "source": [
        "Странно, огромная важность у семейного положения, хотя корреляция таргета с ним (посчитана ниже) слабая. В остальном можно уверенно сказать, что **набор признаков действительно слабый**"
      ]
    },
    {
      "cell_type": "code",
      "execution_count": 83,
      "metadata": {},
      "outputs": [
        {
          "name": "stdout",
          "output_type": "stream",
          "text": [
            "Корреляция Marital status с таргетом: -0.094 (p-value: 0.0000)\n"
          ]
        }
      ],
      "source": [
        "from scipy.stats import pointbiserialr\n",
        "corr, p_value = pointbiserialr(X_train['Marital status'], y_train)\n",
        "print(f\"Корреляция Marital status с таргетом: {corr:.3f} (p-value: {p_value:.4f})\")"
      ]
    },
    {
      "cell_type": "markdown",
      "metadata": {},
      "source": [
        "Я решил посмотреть на permutation importance, так как RF importance не отражает реальной прогностической силы, завышает важность скоррелированных признаков. А **permutation importance устойчив к дисбалансу и отражает реальный вклад в прогноз, лучше для интерпретации**"
      ]
    },
    {
      "cell_type": "code",
      "execution_count": 82,
      "metadata": {},
      "outputs": [
        {
          "name": "stdout",
          "output_type": "stream",
          "text": [
            "Топ-5 по permutation importance:\n"
          ]
        },
        {
          "data": {
            "text/html": [
              "<div>\n",
              "<style scoped>\n",
              "    .dataframe tbody tr th:only-of-type {\n",
              "        vertical-align: middle;\n",
              "    }\n",
              "\n",
              "    .dataframe tbody tr th {\n",
              "        vertical-align: top;\n",
              "    }\n",
              "\n",
              "    .dataframe thead th {\n",
              "        text-align: right;\n",
              "    }\n",
              "</style>\n",
              "<table border=\"1\" class=\"dataframe\">\n",
              "  <thead>\n",
              "    <tr style=\"text-align: right;\">\n",
              "      <th></th>\n",
              "      <th>feature</th>\n",
              "      <th>perm_importance</th>\n",
              "    </tr>\n",
              "  </thead>\n",
              "  <tbody>\n",
              "    <tr>\n",
              "      <th>0</th>\n",
              "      <td>0</td>\n",
              "      <td>0.050621</td>\n",
              "    </tr>\n",
              "    <tr>\n",
              "      <th>13</th>\n",
              "      <td>13</td>\n",
              "      <td>0.004972</td>\n",
              "    </tr>\n",
              "    <tr>\n",
              "      <th>15</th>\n",
              "      <td>15</td>\n",
              "      <td>0.004294</td>\n",
              "    </tr>\n",
              "    <tr>\n",
              "      <th>18</th>\n",
              "      <td>18</td>\n",
              "      <td>0.003390</td>\n",
              "    </tr>\n",
              "    <tr>\n",
              "      <th>11</th>\n",
              "      <td>11</td>\n",
              "      <td>0.003164</td>\n",
              "    </tr>\n",
              "  </tbody>\n",
              "</table>\n",
              "</div>"
            ],
            "text/plain": [
              "    feature  perm_importance\n",
              "0         0         0.050621\n",
              "13       13         0.004972\n",
              "15       15         0.004294\n",
              "18       18         0.003390\n",
              "11       11         0.003164"
            ]
          },
          "execution_count": 82,
          "metadata": {},
          "output_type": "execute_result"
        }
      ],
      "source": [
        "from sklearn.inspection import permutation_importance\n",
        "\n",
        "perm_importance = permutation_importance(\n",
        "    rf, X_test_transformed, y_test, \n",
        "    n_repeats=5, random_state=42, n_jobs=-1\n",
        ")\n",
        "\n",
        "perm_df = pd.DataFrame({\n",
        "    'feature': range(X_train_transformed.shape[1]),\n",
        "    'perm_importance': perm_importance.importances_mean\n",
        "}).sort_values('perm_importance', ascending=False)\n",
        "\n",
        "print(\"Топ-5 по permutation importance:\")\n",
        "perm_df.head()"
      ]
    },
    {
      "cell_type": "markdown",
      "metadata": {
        "id": "rCxJ7e3QYsgF"
      },
      "source": [
        "Как вы объясните полученные результаты?\n",
        "\n",
        "__Ответ:__ **Набор признаков достаточно слабый, так как даже самый лучший признак дает только 5% улучшения**"
      ]
    },
    {
      "cell_type": "markdown",
      "metadata": {
        "id": "075hgy9sP7QX"
      },
      "source": [
        "#### __Задание 15. Softmax регрессия__ (1 балл)\n",
        "\n",
        "Однако любознательные машинисты могут задаться вопросом \"А зачем нам вся эта шляпа, если у сигмоиды есть обобщение на случай многоклассовой классификации?\" Если вам понравилось считать градиенты в прошлом дз, или вам нравится обучать нейросети, этот пункт для вас. Здесь мы попробуем построить одну-единственную модель, которая будет всё предсказывать, а также сравним с вариантами выше"
      ]
    },
    {
      "cell_type": "markdown",
      "metadata": {
        "id": "HgBxUToxRPN8"
      },
      "source": [
        "Начнём с подсчёта лосса. Вспомним, что логистическая функция потерь это частный случай кросс-энтропии, её и будем пытаться оптимизировать.\n",
        "\n",
        "$$\n",
        "\\text{CE}(X, y) = -\\frac{1}{N}\\sum_i \\sum_k [y_i = k] \\log p(x_i = k)\n",
        "$$\n",
        "Вероятности в данном случае будем считать при помощи софтмакса, что есть общий случай сигмоиды\n",
        "\n",
        "$$\n",
        "p(x_i) = \\text{Softmax}(a(x_i)); \\quad\n",
        "\\text{Softmax}(x)_k = \\frac{e^{x_{k}}}{\\sum_j e^{x_{j}}} \\\\\n",
        "$$\n",
        "\n",
        "Предсказание модели на одном объекта будет делаться уже при помощи матрицы весов, посклоьку выходов несколько\n",
        "\n",
        "$$\n",
        "a(x_i) = x_i\\cdot W \\\\\n",
        "$$\n",
        "\n",
        "Ниже предлагается написать код для такой функции потерь. Если необходимо, модифицируйте шаблон по своему усмотрению (вспомогательные функции, новые аргументы, всё, что душа пожелает)"
      ]
    },
    {
      "cell_type": "code",
      "execution_count": 86,
      "metadata": {},
      "outputs": [
        {
          "name": "stdout",
          "output_type": "stream",
          "text": [
            "Collecting torch\n",
            "  Downloading torch-2.8.0-cp312-cp312-win_amd64.whl.metadata (30 kB)\n",
            "Requirement already satisfied: filelock in c:\\users\\user\\anaconda3\\lib\\site-packages (from torch) (3.13.1)\n",
            "Requirement already satisfied: typing-extensions>=4.10.0 in c:\\users\\user\\anaconda3\\lib\\site-packages (from torch) (4.11.0)\n",
            "Collecting sympy>=1.13.3 (from torch)\n",
            "  Downloading sympy-1.14.0-py3-none-any.whl.metadata (12 kB)\n",
            "Requirement already satisfied: networkx in c:\\users\\user\\anaconda3\\lib\\site-packages (from torch) (3.3)\n",
            "Requirement already satisfied: jinja2 in c:\\users\\user\\anaconda3\\lib\\site-packages (from torch) (3.1.4)\n",
            "Requirement already satisfied: fsspec in c:\\users\\user\\anaconda3\\lib\\site-packages (from torch) (2024.6.1)\n",
            "Requirement already satisfied: setuptools in c:\\users\\user\\anaconda3\\lib\\site-packages (from torch) (75.1.0)\n",
            "Requirement already satisfied: mpmath<1.4,>=1.1.0 in c:\\users\\user\\anaconda3\\lib\\site-packages (from sympy>=1.13.3->torch) (1.3.0)\n",
            "Requirement already satisfied: MarkupSafe>=2.0 in c:\\users\\user\\anaconda3\\lib\\site-packages (from jinja2->torch) (2.1.3)\n",
            "Downloading torch-2.8.0-cp312-cp312-win_amd64.whl (241.3 MB)\n",
            "   ---------------------------------------- 0.0/241.3 MB ? eta -:--:--\n",
            "   ---------------------------------------- 0.5/241.3 MB 5.6 MB/s eta 0:00:44\n",
            "   ---------------------------------------- 1.8/241.3 MB 6.3 MB/s eta 0:00:39\n",
            "   ---------------------------------------- 2.6/241.3 MB 5.0 MB/s eta 0:00:48\n",
            "    --------------------------------------- 3.9/241.3 MB 5.5 MB/s eta 0:00:44\n",
            "    --------------------------------------- 4.7/241.3 MB 5.6 MB/s eta 0:00:43\n",
            "    --------------------------------------- 5.2/241.3 MB 4.9 MB/s eta 0:00:49\n",
            "   - -------------------------------------- 6.8/241.3 MB 5.1 MB/s eta 0:00:46\n",
            "   - -------------------------------------- 6.8/241.3 MB 5.1 MB/s eta 0:00:46\n",
            "   - -------------------------------------- 8.1/241.3 MB 4.6 MB/s eta 0:00:51\n",
            "   - -------------------------------------- 9.2/241.3 MB 4.7 MB/s eta 0:00:50\n",
            "   - -------------------------------------- 10.5/241.3 MB 4.8 MB/s eta 0:00:48\n",
            "   - -------------------------------------- 11.8/241.3 MB 5.0 MB/s eta 0:00:47\n",
            "   -- ------------------------------------- 12.8/241.3 MB 5.0 MB/s eta 0:00:46\n",
            "   -- ------------------------------------- 14.2/241.3 MB 5.1 MB/s eta 0:00:45\n",
            "   -- ------------------------------------- 15.5/241.3 MB 5.2 MB/s eta 0:00:44\n",
            "   -- ------------------------------------- 16.8/241.3 MB 5.3 MB/s eta 0:00:43\n",
            "   -- ------------------------------------- 18.1/241.3 MB 5.3 MB/s eta 0:00:43\n",
            "   --- ------------------------------------ 19.1/241.3 MB 5.3 MB/s eta 0:00:42\n",
            "   --- ------------------------------------ 20.4/241.3 MB 5.4 MB/s eta 0:00:42\n",
            "   --- ------------------------------------ 21.5/241.3 MB 5.4 MB/s eta 0:00:41\n",
            "   --- ------------------------------------ 22.8/241.3 MB 5.4 MB/s eta 0:00:41\n",
            "   --- ------------------------------------ 24.1/241.3 MB 5.5 MB/s eta 0:00:40\n",
            "   ---- ----------------------------------- 25.4/241.3 MB 5.5 MB/s eta 0:00:40\n",
            "   ---- ----------------------------------- 26.7/241.3 MB 5.5 MB/s eta 0:00:39\n",
            "   ---- ----------------------------------- 28.0/241.3 MB 5.6 MB/s eta 0:00:39\n",
            "   ---- ----------------------------------- 29.1/241.3 MB 5.6 MB/s eta 0:00:39\n",
            "   ----- ---------------------------------- 30.4/241.3 MB 5.6 MB/s eta 0:00:38\n",
            "   ----- ---------------------------------- 31.7/241.3 MB 5.6 MB/s eta 0:00:38\n",
            "   ----- ---------------------------------- 33.0/241.3 MB 5.6 MB/s eta 0:00:38\n",
            "   ----- ---------------------------------- 33.8/241.3 MB 5.6 MB/s eta 0:00:38\n",
            "   ----- ---------------------------------- 34.9/241.3 MB 5.6 MB/s eta 0:00:38\n",
            "   ----- ---------------------------------- 35.9/241.3 MB 5.6 MB/s eta 0:00:38\n",
            "   ------ --------------------------------- 37.0/241.3 MB 5.6 MB/s eta 0:00:37\n",
            "   ------ --------------------------------- 38.3/241.3 MB 5.6 MB/s eta 0:00:37\n",
            "   ------ --------------------------------- 39.6/241.3 MB 5.6 MB/s eta 0:00:37\n",
            "   ------ --------------------------------- 40.9/241.3 MB 5.6 MB/s eta 0:00:36\n",
            "   ------ --------------------------------- 41.9/241.3 MB 5.6 MB/s eta 0:00:36\n",
            "   ------- -------------------------------- 43.3/241.3 MB 5.6 MB/s eta 0:00:36\n",
            "   ------- -------------------------------- 44.6/241.3 MB 5.6 MB/s eta 0:00:35\n",
            "   ------- -------------------------------- 45.9/241.3 MB 5.6 MB/s eta 0:00:35\n",
            "   ------- -------------------------------- 46.9/241.3 MB 5.7 MB/s eta 0:00:35\n",
            "   ------- -------------------------------- 48.2/241.3 MB 5.7 MB/s eta 0:00:35\n",
            "   -------- ------------------------------- 49.5/241.3 MB 5.7 MB/s eta 0:00:34\n",
            "   -------- ------------------------------- 50.9/241.3 MB 5.7 MB/s eta 0:00:34\n",
            "   -------- ------------------------------- 52.2/241.3 MB 5.7 MB/s eta 0:00:34\n",
            "   -------- ------------------------------- 53.5/241.3 MB 5.7 MB/s eta 0:00:33\n",
            "   --------- ------------------------------ 54.5/241.3 MB 5.7 MB/s eta 0:00:33\n",
            "   --------- ------------------------------ 55.8/241.3 MB 5.7 MB/s eta 0:00:33\n",
            "   --------- ------------------------------ 57.1/241.3 MB 5.8 MB/s eta 0:00:32\n",
            "   --------- ------------------------------ 58.5/241.3 MB 5.8 MB/s eta 0:00:32\n",
            "   --------- ------------------------------ 59.8/241.3 MB 5.8 MB/s eta 0:00:32\n",
            "   ---------- ----------------------------- 61.1/241.3 MB 5.8 MB/s eta 0:00:32\n",
            "   ---------- ----------------------------- 62.4/241.3 MB 5.8 MB/s eta 0:00:31\n",
            "   ---------- ----------------------------- 63.7/241.3 MB 5.8 MB/s eta 0:00:31\n",
            "   ---------- ----------------------------- 65.0/241.3 MB 5.8 MB/s eta 0:00:31\n",
            "   ---------- ----------------------------- 66.3/241.3 MB 5.8 MB/s eta 0:00:31\n",
            "   ----------- ---------------------------- 67.4/241.3 MB 5.8 MB/s eta 0:00:30\n",
            "   ----------- ---------------------------- 68.7/241.3 MB 5.8 MB/s eta 0:00:30\n",
            "   ----------- ---------------------------- 69.7/241.3 MB 5.8 MB/s eta 0:00:30\n",
            "   ----------- ---------------------------- 71.0/241.3 MB 5.8 MB/s eta 0:00:30\n",
            "   ----------- ---------------------------- 72.1/241.3 MB 5.8 MB/s eta 0:00:30\n",
            "   ------------ --------------------------- 73.4/241.3 MB 5.8 MB/s eta 0:00:29\n",
            "   ------------ --------------------------- 74.7/241.3 MB 5.8 MB/s eta 0:00:29\n",
            "   ------------ --------------------------- 76.0/241.3 MB 5.8 MB/s eta 0:00:29\n",
            "   ------------ --------------------------- 77.3/241.3 MB 5.8 MB/s eta 0:00:29\n",
            "   ------------ --------------------------- 78.4/241.3 MB 5.8 MB/s eta 0:00:28\n",
            "   ------------- -------------------------- 79.7/241.3 MB 5.8 MB/s eta 0:00:28\n",
            "   ------------- -------------------------- 81.0/241.3 MB 5.8 MB/s eta 0:00:28\n",
            "   ------------- -------------------------- 82.1/241.3 MB 5.8 MB/s eta 0:00:28\n",
            "   ------------- -------------------------- 83.4/241.3 MB 5.8 MB/s eta 0:00:28\n",
            "   ------------- -------------------------- 83.6/241.3 MB 5.8 MB/s eta 0:00:28\n",
            "   ------------- -------------------------- 84.4/241.3 MB 5.8 MB/s eta 0:00:28\n",
            "   -------------- ------------------------- 85.5/241.3 MB 5.7 MB/s eta 0:00:28\n",
            "   -------------- ------------------------- 86.2/241.3 MB 5.7 MB/s eta 0:00:28\n",
            "   -------------- ------------------------- 87.3/241.3 MB 5.7 MB/s eta 0:00:28\n",
            "   -------------- ------------------------- 88.3/241.3 MB 5.7 MB/s eta 0:00:27\n",
            "   -------------- ------------------------- 89.4/241.3 MB 5.7 MB/s eta 0:00:27\n",
            "   -------------- ------------------------- 90.4/241.3 MB 5.7 MB/s eta 0:00:27\n",
            "   --------------- ------------------------ 91.5/241.3 MB 5.7 MB/s eta 0:00:27\n",
            "   --------------- ------------------------ 92.5/241.3 MB 5.7 MB/s eta 0:00:27\n",
            "   --------------- ------------------------ 93.3/241.3 MB 5.6 MB/s eta 0:00:27\n",
            "   --------------- ------------------------ 94.4/241.3 MB 5.6 MB/s eta 0:00:27\n",
            "   --------------- ------------------------ 95.4/241.3 MB 5.6 MB/s eta 0:00:26\n",
            "   --------------- ------------------------ 96.5/241.3 MB 5.6 MB/s eta 0:00:26\n",
            "   ---------------- ----------------------- 97.5/241.3 MB 5.6 MB/s eta 0:00:26\n",
            "   ---------------- ----------------------- 98.6/241.3 MB 5.6 MB/s eta 0:00:26\n",
            "   ---------------- ----------------------- 99.6/241.3 MB 5.6 MB/s eta 0:00:26\n",
            "   ---------------- ----------------------- 100.7/241.3 MB 5.6 MB/s eta 0:00:26\n",
            "   ---------------- ----------------------- 101.7/241.3 MB 5.6 MB/s eta 0:00:25\n",
            "   ----------------- ---------------------- 102.8/241.3 MB 5.6 MB/s eta 0:00:25\n",
            "   ----------------- ---------------------- 104.1/241.3 MB 5.6 MB/s eta 0:00:25\n",
            "   ----------------- ---------------------- 105.1/241.3 MB 5.6 MB/s eta 0:00:25\n",
            "   ----------------- ---------------------- 106.2/241.3 MB 5.6 MB/s eta 0:00:25\n",
            "   ----------------- ---------------------- 107.5/241.3 MB 5.6 MB/s eta 0:00:24\n",
            "   ------------------ --------------------- 108.8/241.3 MB 5.6 MB/s eta 0:00:24\n",
            "   ------------------ --------------------- 110.1/241.3 MB 5.6 MB/s eta 0:00:24\n",
            "   ------------------ --------------------- 111.1/241.3 MB 5.6 MB/s eta 0:00:24\n",
            "   ------------------ --------------------- 112.5/241.3 MB 5.6 MB/s eta 0:00:24\n",
            "   ------------------ --------------------- 113.5/241.3 MB 5.6 MB/s eta 0:00:23\n",
            "   ------------------- -------------------- 114.8/241.3 MB 5.6 MB/s eta 0:00:23\n",
            "   ------------------- -------------------- 116.1/241.3 MB 5.6 MB/s eta 0:00:23\n",
            "   ------------------- -------------------- 117.4/241.3 MB 5.6 MB/s eta 0:00:23\n",
            "   ------------------- -------------------- 118.5/241.3 MB 5.6 MB/s eta 0:00:22\n",
            "   ------------------- -------------------- 119.8/241.3 MB 5.6 MB/s eta 0:00:22\n",
            "   -------------------- ------------------- 121.1/241.3 MB 5.6 MB/s eta 0:00:22\n",
            "   -------------------- ------------------- 122.4/241.3 MB 5.6 MB/s eta 0:00:22\n",
            "   -------------------- ------------------- 123.5/241.3 MB 5.6 MB/s eta 0:00:21\n",
            "   -------------------- ------------------- 124.8/241.3 MB 5.6 MB/s eta 0:00:21\n",
            "   -------------------- ------------------- 126.1/241.3 MB 5.6 MB/s eta 0:00:21\n",
            "   --------------------- ------------------ 127.4/241.3 MB 5.6 MB/s eta 0:00:21\n",
            "   --------------------- ------------------ 128.5/241.3 MB 5.6 MB/s eta 0:00:21\n",
            "   --------------------- ------------------ 129.8/241.3 MB 5.6 MB/s eta 0:00:20\n",
            "   --------------------- ------------------ 130.8/241.3 MB 5.6 MB/s eta 0:00:20\n",
            "   --------------------- ------------------ 131.9/241.3 MB 5.6 MB/s eta 0:00:20\n",
            "   ---------------------- ----------------- 133.2/241.3 MB 5.6 MB/s eta 0:00:20\n",
            "   ---------------------- ----------------- 134.5/241.3 MB 5.6 MB/s eta 0:00:19\n",
            "   ---------------------- ----------------- 135.8/241.3 MB 5.7 MB/s eta 0:00:19\n",
            "   ---------------------- ----------------- 136.8/241.3 MB 5.7 MB/s eta 0:00:19\n",
            "   ---------------------- ----------------- 137.9/241.3 MB 5.6 MB/s eta 0:00:19\n",
            "   ----------------------- ---------------- 139.2/241.3 MB 5.6 MB/s eta 0:00:19\n",
            "   ----------------------- ---------------- 140.5/241.3 MB 5.7 MB/s eta 0:00:18\n",
            "   ----------------------- ---------------- 141.6/241.3 MB 5.7 MB/s eta 0:00:18\n",
            "   ----------------------- ---------------- 142.6/241.3 MB 5.7 MB/s eta 0:00:18\n",
            "   ----------------------- ---------------- 143.9/241.3 MB 5.7 MB/s eta 0:00:18\n",
            "   ------------------------ --------------- 145.0/241.3 MB 5.7 MB/s eta 0:00:18\n",
            "   ------------------------ --------------- 146.3/241.3 MB 5.6 MB/s eta 0:00:17\n",
            "   ------------------------ --------------- 147.3/241.3 MB 5.7 MB/s eta 0:00:17\n",
            "   ------------------------ --------------- 148.6/241.3 MB 5.7 MB/s eta 0:00:17\n",
            "   ------------------------ --------------- 149.7/241.3 MB 5.6 MB/s eta 0:00:17\n",
            "   ------------------------ --------------- 150.7/241.3 MB 5.6 MB/s eta 0:00:17\n",
            "   ------------------------- -------------- 151.8/241.3 MB 5.6 MB/s eta 0:00:16\n",
            "   ------------------------- -------------- 152.8/241.3 MB 5.6 MB/s eta 0:00:16\n",
            "   ------------------------- -------------- 153.6/241.3 MB 5.6 MB/s eta 0:00:16\n",
            "   ------------------------- -------------- 154.7/241.3 MB 5.6 MB/s eta 0:00:16\n",
            "   ------------------------- -------------- 156.0/241.3 MB 5.6 MB/s eta 0:00:16\n",
            "   -------------------------- ------------- 157.0/241.3 MB 5.6 MB/s eta 0:00:15\n",
            "   -------------------------- ------------- 158.3/241.3 MB 5.6 MB/s eta 0:00:15\n",
            "   -------------------------- ------------- 159.4/241.3 MB 5.6 MB/s eta 0:00:15\n",
            "   -------------------------- ------------- 160.4/241.3 MB 5.6 MB/s eta 0:00:15\n",
            "   -------------------------- ------------- 162.0/241.3 MB 5.6 MB/s eta 0:00:15\n",
            "   -------------------------- ------------- 162.8/241.3 MB 5.6 MB/s eta 0:00:14\n",
            "   --------------------------- ------------ 164.1/241.3 MB 5.6 MB/s eta 0:00:14\n",
            "   --------------------------- ------------ 165.2/241.3 MB 5.6 MB/s eta 0:00:14\n",
            "   --------------------------- ------------ 166.5/241.3 MB 5.6 MB/s eta 0:00:14\n",
            "   --------------------------- ------------ 167.5/241.3 MB 5.6 MB/s eta 0:00:14\n",
            "   --------------------------- ------------ 168.8/241.3 MB 5.6 MB/s eta 0:00:13\n",
            "   ---------------------------- ----------- 169.9/241.3 MB 5.6 MB/s eta 0:00:13\n",
            "   ---------------------------- ----------- 171.2/241.3 MB 5.6 MB/s eta 0:00:13\n",
            "   ---------------------------- ----------- 172.2/241.3 MB 5.6 MB/s eta 0:00:13\n",
            "   ---------------------------- ----------- 173.5/241.3 MB 5.7 MB/s eta 0:00:12\n",
            "   ---------------------------- ----------- 174.6/241.3 MB 5.7 MB/s eta 0:00:12\n",
            "   ----------------------------- ---------- 175.9/241.3 MB 5.7 MB/s eta 0:00:12\n",
            "   ----------------------------- ---------- 176.9/241.3 MB 5.7 MB/s eta 0:00:12\n",
            "   ----------------------------- ---------- 178.3/241.3 MB 5.7 MB/s eta 0:00:12\n",
            "   ----------------------------- ---------- 179.3/241.3 MB 5.7 MB/s eta 0:00:11\n",
            "   ----------------------------- ---------- 180.6/241.3 MB 5.7 MB/s eta 0:00:11\n",
            "   ------------------------------ --------- 181.9/241.3 MB 5.7 MB/s eta 0:00:11\n",
            "   ------------------------------ --------- 183.2/241.3 MB 5.7 MB/s eta 0:00:11\n",
            "   ------------------------------ --------- 184.5/241.3 MB 5.7 MB/s eta 0:00:10\n",
            "   ------------------------------ --------- 185.6/241.3 MB 5.7 MB/s eta 0:00:10\n",
            "   ------------------------------ --------- 186.9/241.3 MB 5.7 MB/s eta 0:00:10\n",
            "   ------------------------------- -------- 188.0/241.3 MB 5.7 MB/s eta 0:00:10\n",
            "   ------------------------------- -------- 189.3/241.3 MB 5.7 MB/s eta 0:00:10\n",
            "   ------------------------------- -------- 190.3/241.3 MB 5.7 MB/s eta 0:00:09\n",
            "   ------------------------------- -------- 191.6/241.3 MB 5.7 MB/s eta 0:00:09\n",
            "   ------------------------------- -------- 192.4/241.3 MB 5.7 MB/s eta 0:00:09\n",
            "   -------------------------------- ------- 193.5/241.3 MB 5.7 MB/s eta 0:00:09\n",
            "   -------------------------------- ------- 194.8/241.3 MB 5.7 MB/s eta 0:00:09\n",
            "   -------------------------------- ------- 195.8/241.3 MB 5.6 MB/s eta 0:00:09\n",
            "   -------------------------------- ------- 196.9/241.3 MB 5.6 MB/s eta 0:00:08\n",
            "   -------------------------------- ------- 197.9/241.3 MB 5.6 MB/s eta 0:00:08\n",
            "   -------------------------------- ------- 199.0/241.3 MB 5.6 MB/s eta 0:00:08\n",
            "   --------------------------------- ------ 200.3/241.3 MB 5.6 MB/s eta 0:00:08\n",
            "   --------------------------------- ------ 201.3/241.3 MB 5.6 MB/s eta 0:00:08\n",
            "   --------------------------------- ------ 202.4/241.3 MB 5.6 MB/s eta 0:00:07\n",
            "   --------------------------------- ------ 203.4/241.3 MB 5.6 MB/s eta 0:00:07\n",
            "   --------------------------------- ------ 204.7/241.3 MB 5.6 MB/s eta 0:00:07\n",
            "   ---------------------------------- ----- 206.0/241.3 MB 5.6 MB/s eta 0:00:07\n",
            "   ---------------------------------- ----- 207.4/241.3 MB 5.6 MB/s eta 0:00:07\n",
            "   ---------------------------------- ----- 208.7/241.3 MB 5.6 MB/s eta 0:00:06\n",
            "   ---------------------------------- ----- 210.0/241.3 MB 5.6 MB/s eta 0:00:06\n",
            "   ----------------------------------- ---- 211.3/241.3 MB 5.6 MB/s eta 0:00:06\n",
            "   ----------------------------------- ---- 212.6/241.3 MB 5.6 MB/s eta 0:00:06\n",
            "   ----------------------------------- ---- 213.9/241.3 MB 5.6 MB/s eta 0:00:05\n",
            "   ----------------------------------- ---- 215.2/241.3 MB 5.6 MB/s eta 0:00:05\n",
            "   ----------------------------------- ---- 216.3/241.3 MB 5.6 MB/s eta 0:00:05\n",
            "   ------------------------------------ --- 217.6/241.3 MB 5.6 MB/s eta 0:00:05\n",
            "   ------------------------------------ --- 218.9/241.3 MB 5.6 MB/s eta 0:00:04\n",
            "   ------------------------------------ --- 220.2/241.3 MB 5.6 MB/s eta 0:00:04\n",
            "   ------------------------------------ --- 221.2/241.3 MB 5.6 MB/s eta 0:00:04\n",
            "   ------------------------------------ --- 222.6/241.3 MB 5.6 MB/s eta 0:00:04\n",
            "   ------------------------------------- -- 223.6/241.3 MB 5.6 MB/s eta 0:00:04\n",
            "   ------------------------------------- -- 224.9/241.3 MB 5.6 MB/s eta 0:00:03\n",
            "   ------------------------------------- -- 226.2/241.3 MB 5.6 MB/s eta 0:00:03\n",
            "   ------------------------------------- -- 227.3/241.3 MB 5.6 MB/s eta 0:00:03\n",
            "   ------------------------------------- -- 228.6/241.3 MB 5.6 MB/s eta 0:00:03\n",
            "   -------------------------------------- - 229.9/241.3 MB 5.6 MB/s eta 0:00:03\n",
            "   -------------------------------------- - 230.9/241.3 MB 5.6 MB/s eta 0:00:02\n",
            "   -------------------------------------- - 232.3/241.3 MB 5.6 MB/s eta 0:00:02\n",
            "   -------------------------------------- - 233.6/241.3 MB 5.6 MB/s eta 0:00:02\n",
            "   -------------------------------------- - 234.6/241.3 MB 5.6 MB/s eta 0:00:02\n",
            "   ---------------------------------------  235.9/241.3 MB 5.6 MB/s eta 0:00:01\n",
            "   ---------------------------------------  237.2/241.3 MB 5.6 MB/s eta 0:00:01\n",
            "   ---------------------------------------  238.3/241.3 MB 5.6 MB/s eta 0:00:01\n",
            "   ---------------------------------------  239.6/241.3 MB 5.6 MB/s eta 0:00:01\n",
            "   ---------------------------------------  240.9/241.3 MB 5.6 MB/s eta 0:00:01\n",
            "   ---------------------------------------  241.2/241.3 MB 5.6 MB/s eta 0:00:01\n",
            "   ---------------------------------------- 241.3/241.3 MB 5.6 MB/s eta 0:00:00\n",
            "Downloading sympy-1.14.0-py3-none-any.whl (6.3 MB)\n",
            "   ---------------------------------------- 0.0/6.3 MB ? eta -:--:--\n",
            "   ------ --------------------------------- 1.0/6.3 MB 5.6 MB/s eta 0:00:01\n",
            "   -------------- ------------------------- 2.4/6.3 MB 5.8 MB/s eta 0:00:01\n",
            "   --------------------- ------------------ 3.4/6.3 MB 5.6 MB/s eta 0:00:01\n",
            "   ---------------------------- ----------- 4.5/6.3 MB 5.6 MB/s eta 0:00:01\n",
            "   --------------------------------- ------ 5.2/6.3 MB 5.4 MB/s eta 0:00:01\n",
            "   ---------------------------------------- 6.3/6.3 MB 5.2 MB/s eta 0:00:00\n",
            "Installing collected packages: sympy, torch\n",
            "  Attempting uninstall: sympy\n",
            "    Found existing installation: sympy 1.13.2\n",
            "    Uninstalling sympy-1.13.2:\n",
            "      Successfully uninstalled sympy-1.13.2\n",
            "Successfully installed sympy-1.14.0 torch-2.8.0\n"
          ]
        }
      ],
      "source": [
        "!pip install torch"
      ]
    },
    {
      "cell_type": "code",
      "execution_count": 88,
      "metadata": {
        "id": "AYsBvtxmTK5d"
      },
      "outputs": [],
      "source": [
        "from typing import Iterable, Optional\n",
        "from torch.nn.functional import cross_entropy\n",
        "import torch\n",
        "\n",
        "def custom_ce(\n",
        "    y_pred: np.ndarray[float],\n",
        "    y_true: np.ndarray[int],\n",
        ") -> float:\n",
        "    \n",
        "    exp_pred = np.exp(y_pred - np.max(y_pred, axis=1, keepdims=True))  \n",
        "    probabilities = exp_pred / np.sum(exp_pred, axis=1, keepdims=True)\n",
        "\n",
        "    N = y_true.shape[0]\n",
        "    true_class_probs = probabilities[np.arange(N), y_true]\n",
        "    \n",
        "    loss = -np.mean(np.log(true_class_probs + 1e-8))\n",
        "\n",
        "    return loss"
      ]
    },
    {
      "cell_type": "code",
      "execution_count": 91,
      "metadata": {
        "id": "JOK4eJXpSamh"
      },
      "outputs": [],
      "source": [
        "for _ in range(1000):\n",
        "\n",
        "    n_objects = np.random.randint(1, 100)\n",
        "    n_classes = np.random.randint(2, 20)\n",
        "    y_pred = np.random.normal(0, 1, (n_objects, n_classes))\n",
        "    y_true = np.random.randint(low=0, high=n_classes, size=(n_objects,))\n",
        "\n",
        "    your_ce = custom_ce(y_pred, y_true) \n",
        "    torch_ce = cross_entropy(torch.tensor(y_pred), torch.tensor(y_true, dtype=torch.long))\n",
        "    assert np.allclose(your_ce, torch_ce), \"Что-то пошло не так\""
      ]
    },
    {
      "cell_type": "markdown",
      "metadata": {
        "id": "X9MLDIQrT24U"
      },
      "source": [
        "Дальше самая интересная часть - нужно вывести производную этой функции потерь (на всякий случай уточним, что `torch` использовать нельзя, разве что для самопроверки). Полезные факты, которые вам могут пригодиться:\n",
        "\n",
        "- в матричном виде найти производную непросто, попробуйте сперва сделать это для одного объекта, обобщить будет полегче\n",
        "- логсофтмакс дифференцировать гораздо легче, чем просто софтмакс\n",
        "- не забывайте про правило дифференцирования сложной функции\n",
        "- поскольку веса в данном случае матрица, результат будет тоже матрица, учтите при сверке размерностей\n",
        "- если вы не придумали, как преобразовать индикаторы в векторный вид, сейчас самое время"
      ]
    },
    {
      "cell_type": "code",
      "execution_count": 92,
      "metadata": {
        "id": "tYHes6fVVO7s"
      },
      "outputs": [],
      "source": [
        "def ce_gradient(X: np.ndarray, W: np.ndarray, y: np.ndarray) -> np.ndarray[float]:\n",
        "    \n",
        "    N, D = X.shape\n",
        "    K = W.shape[1]\n",
        "    \n",
        "    \n",
        "    logits = X @ W\n",
        "    \n",
        "    \n",
        "    shifted_logits = logits - np.max(logits, axis=1, keepdims=True)\n",
        "    exp_logits = np.exp(shifted_logits)\n",
        "    probs = exp_logits / np.sum(exp_logits, axis=1, keepdims=True)  \n",
        "    \n",
        "    \n",
        "    y_one_hot = np.eye(K)[y]  \n",
        "    \n",
        "    \n",
        "    gradient = (X.T @ (probs - y_one_hot)) / N\n",
        "    \n",
        "    return gradient\n",
        "\n"
      ]
    },
    {
      "cell_type": "markdown",
      "metadata": {
        "id": "x8KP9v4WW6UL"
      },
      "source": [
        "Дальше дело за малым. Вспомните (или узнайте), как делается градиентный спуск, и дополните класс софтмакс-регрессии ниже. Здесь разумнее использовать критерий останова по итерациям, но логрег из `sklearn` устроен немного хитрее. Если хотите добавить еще критерии останова, какие-то другие параметры, то пожалуйста"
      ]
    },
    {
      "cell_type": "code",
      "execution_count": 93,
      "metadata": {
        "id": "n133i8Nlc9Et"
      },
      "outputs": [],
      "source": [
        "class SoftmaxRegression:\n",
        "    def __init__(self, lr=1e-3, max_iter=10000, tol=1e-4, random_state=None):\n",
        "        self.W = None\n",
        "        self.max_iter = max_iter\n",
        "        self.lr = lr\n",
        "        self.tol = tol\n",
        "        self.random_state = random_state\n",
        "        self.loss_history = []\n",
        "        \n",
        "    def fit(self, X, y):\n",
        "        \n",
        "        if self.random_state is not None:\n",
        "            np.random.seed(self.random_state)\n",
        "            \n",
        "        N, D = X.shape\n",
        "        self.classes_ = np.unique(y)\n",
        "        K = len(self.classes_)\n",
        "        \n",
        "       \n",
        "        self.W = np.random.normal(0, 0.01, (D, K))\n",
        "        \n",
        "        \n",
        "        y_indices = np.searchsorted(self.classes_, y)\n",
        "        \n",
        "        \n",
        "        prev_loss = float('inf')\n",
        "        \n",
        "        for i in range(self.max_iter):\n",
        "            logits = X @ self.W\n",
        "            shifted_logits = logits - np.max(logits, axis=1, keepdims=True)\n",
        "            exp_logits = np.exp(shifted_logits)\n",
        "            probs = exp_logits / np.sum(exp_logits, axis=1, keepdims=True)\n",
        "            \n",
        "            true_class_probs = probs[np.arange(N), y_indices]\n",
        "            loss = -np.mean(np.log(true_class_probs + 1e-8))\n",
        "            self.loss_history.append(loss)\n",
        "            \n",
        "            if i > 0 and abs(prev_loss - loss) < self.tol:\n",
        "                print(f\"Converged at iteration {i}, loss: {loss:.6f}\")\n",
        "                break\n",
        "                \n",
        "            prev_loss = loss\n",
        "            \n",
        "            y_one_hot = np.eye(K)[y_indices]\n",
        "            gradient = (X.T @ (probs - y_one_hot)) / N\n",
        "            \n",
        "            self.W -= self.lr * gradient\n",
        "            \n",
        "            if i % 1000 == 0:\n",
        "                print(f\"Iteration {i}, loss: {loss:.6f}\")\n",
        "    \n",
        "    def predict_proba(self, X):\n",
        "        \n",
        "        logits = X @ self.W\n",
        "        shifted_logits = logits - np.max(logits, axis=1, keepdims=True)\n",
        "        exp_logits = np.exp(shifted_logits)\n",
        "        probs = exp_logits / np.sum(exp_logits, axis=1, keepdims=True)\n",
        "        return probs\n",
        "    \n",
        "    def predict(self, X):\n",
        "       \n",
        "        probs = self.predict_proba(X)\n",
        "        predictions = np.argmax(probs, axis=1)\n",
        "        return self.classes_[predictions]\n",
        "    \n",
        "    def score(self, X, y):\n",
        "        \n",
        "        y_pred = self.predict(X)\n",
        "        return np.mean(y_pred == y)"
      ]
    },
    {
      "cell_type": "markdown",
      "metadata": {
        "id": "-JSpEv6oXSIX"
      },
      "source": [
        "Обучите на тех же данных, что и выше, замерьте те же три параметра, плюс сравните значения кросс-энтропии для уже трёх моделей. Сравните модели между собой и выберите фаворита в данной задаче."
      ]
    },
    {
      "cell_type": "code",
      "execution_count": 94,
      "metadata": {},
      "outputs": [
        {
          "name": "stdout",
          "output_type": "stream",
          "text": [
            "Iteration 0, loss: 1.105717\n",
            "Converged at iteration 141, loss: 0.947216\n",
            "Обучение SoftmaxRegression заняло 0.131 секунд\n",
            "Размер матрицы весов: (45, 3)\n"
          ]
        },
        {
          "name": "stderr",
          "output_type": "stream",
          "text": [
            "c:\\Users\\User\\anaconda3\\Lib\\site-packages\\sklearn\\metrics\\_classification.py:1531: UndefinedMetricWarning: Precision is ill-defined and being set to 0.0 in labels with no predicted samples. Use `zero_division` parameter to control this behavior.\n",
            "  _warn_prf(average, modifier, f\"{metric.capitalize()} is\", len(result))\n"
          ]
        }
      ],
      "source": [
        "start_softmax = time.time()\n",
        "\n",
        "softmax_model = SoftmaxRegression(\n",
        "    lr=0.1,                    # learning rate\n",
        "    max_iter=10000,            # максимальное число итераций\n",
        "    tol=1e-4,                  # критерий сходимости\n",
        "    random_state=42            # для воспроизводимости\n",
        ")\n",
        "\n",
        "softmax_model.fit(X_train_transformed, y_train)\n",
        "time_softmax = time.time() - start_softmax\n",
        "\n",
        "print(f'Обучение SoftmaxRegression заняло {round(time_softmax, 3)} секунд')\n",
        "print(f\"Размер матрицы весов: {softmax_model.W.shape}\")\n",
        "\n",
        "# Предсказания\n",
        "y_pred_softmax = softmax_model.predict(X_test_transformed)\n",
        "\n",
        "# Метрики\n",
        "precision_per_class_softmax = precision_score(y_test, y_pred_softmax, average=None)\n",
        "recall_per_class_softmax = recall_score(y_test, y_pred_softmax, average=None)\n",
        "f1_per_class_softmax = f1_score(y_test, y_pred_softmax, average=None)\n"
      ]
    },
    {
      "cell_type": "code",
      "execution_count": 95,
      "metadata": {},
      "outputs": [],
      "source": [
        "df_metrics.loc['SoftMax Regression'] = [\n",
        "    f1_per_class_softmax.mean(),\n",
        "    precision_per_class_softmax.mean(),\n",
        "    recall_per_class_softmax.mean(),\n",
        "    softmax_model.W.shape[1],           # классов столько, сколько выходов\n",
        "    round(time_softmax, 3)  \n",
        "]"
      ]
    },
    {
      "cell_type": "code",
      "execution_count": 96,
      "metadata": {},
      "outputs": [
        {
          "data": {
            "text/html": [
              "<style type=\"text/css\">\n",
              "#T_b00d5_row0_col0 {\n",
              "  background-color: #f36b42;\n",
              "  color: #f1f1f1;\n",
              "}\n",
              "#T_b00d5_row0_col1 {\n",
              "  background-color: #fff8b4;\n",
              "  color: #000000;\n",
              "}\n",
              "#T_b00d5_row0_col2 {\n",
              "  background-color: #f16640;\n",
              "  color: #f1f1f1;\n",
              "}\n",
              "#T_b00d5_row0_col4 {\n",
              "  background-color: #016a38;\n",
              "  color: #f1f1f1;\n",
              "}\n",
              "#T_b00d5_row1_col0, #T_b00d5_row1_col4, #T_b00d5_row2_col0, #T_b00d5_row3_col1, #T_b00d5_row3_col2 {\n",
              "  background-color: #006837;\n",
              "  color: #f1f1f1;\n",
              "}\n",
              "#T_b00d5_row1_col1, #T_b00d5_row2_col1 {\n",
              "  background-color: #fffab6;\n",
              "  color: #000000;\n",
              "}\n",
              "#T_b00d5_row1_col2, #T_b00d5_row2_col2 {\n",
              "  background-color: #36a657;\n",
              "  color: #f1f1f1;\n",
              "}\n",
              "#T_b00d5_row2_col4 {\n",
              "  background-color: #bd1726;\n",
              "  color: #f1f1f1;\n",
              "}\n",
              "#T_b00d5_row3_col0 {\n",
              "  background-color: #d7ee8a;\n",
              "  color: #000000;\n",
              "}\n",
              "#T_b00d5_row3_col4, #T_b00d5_row4_col0, #T_b00d5_row4_col1, #T_b00d5_row4_col2 {\n",
              "  background-color: #a50026;\n",
              "  color: #f1f1f1;\n",
              "}\n",
              "#T_b00d5_row4_col4 {\n",
              "  background-color: #06733d;\n",
              "  color: #f1f1f1;\n",
              "}\n",
              "</style>\n",
              "<table id=\"T_b00d5\">\n",
              "  <thead>\n",
              "    <tr>\n",
              "      <th class=\"blank level0\" >&nbsp;</th>\n",
              "      <th id=\"T_b00d5_level0_col0\" class=\"col_heading level0 col0\" >macro_F1</th>\n",
              "      <th id=\"T_b00d5_level0_col1\" class=\"col_heading level0 col1\" >macro_precision</th>\n",
              "      <th id=\"T_b00d5_level0_col2\" class=\"col_heading level0 col2\" >macro_recall</th>\n",
              "      <th id=\"T_b00d5_level0_col3\" class=\"col_heading level0 col3\" >Количество классификаторов</th>\n",
              "      <th id=\"T_b00d5_level0_col4\" class=\"col_heading level0 col4\" >Скорость обучения (секунд)</th>\n",
              "    </tr>\n",
              "  </thead>\n",
              "  <tbody>\n",
              "    <tr>\n",
              "      <th id=\"T_b00d5_level0_row0\" class=\"row_heading level0 row0\" >One-vs-Rest with Logistic Regression</th>\n",
              "      <td id=\"T_b00d5_row0_col0\" class=\"data row0 col0\" >0.397389</td>\n",
              "      <td id=\"T_b00d5_row0_col1\" class=\"data row0 col1\" >0.532561</td>\n",
              "      <td id=\"T_b00d5_row0_col2\" class=\"data row0 col2\" >0.434916</td>\n",
              "      <td id=\"T_b00d5_row0_col3\" class=\"data row0 col3\" >3</td>\n",
              "      <td id=\"T_b00d5_row0_col4\" class=\"data row0 col4\" >0.077000</td>\n",
              "    </tr>\n",
              "    <tr>\n",
              "      <th id=\"T_b00d5_level0_row1\" class=\"row_heading level0 row1\" >One-vs-One with Logistic Regression</th>\n",
              "      <td id=\"T_b00d5_row1_col0\" class=\"data row1 col0\" >0.413611</td>\n",
              "      <td id=\"T_b00d5_row1_col1\" class=\"data row1 col1\" >0.535071</td>\n",
              "      <td id=\"T_b00d5_row1_col2\" class=\"data row1 col2\" >0.441842</td>\n",
              "      <td id=\"T_b00d5_row1_col3\" class=\"data row1 col3\" >3</td>\n",
              "      <td id=\"T_b00d5_row1_col4\" class=\"data row1 col4\" >0.064000</td>\n",
              "    </tr>\n",
              "    <tr>\n",
              "      <th id=\"T_b00d5_level0_row2\" class=\"row_heading level0 row2\" >One-vs-One + Optuna with Logistic Regression</th>\n",
              "      <td id=\"T_b00d5_row2_col0\" class=\"data row2 col0\" >0.413611</td>\n",
              "      <td id=\"T_b00d5_row2_col1\" class=\"data row2 col1\" >0.535071</td>\n",
              "      <td id=\"T_b00d5_row2_col2\" class=\"data row2 col2\" >0.441842</td>\n",
              "      <td id=\"T_b00d5_row2_col3\" class=\"data row2 col3\" >3</td>\n",
              "      <td id=\"T_b00d5_row2_col4\" class=\"data row2 col4\" >2.596000</td>\n",
              "    </tr>\n",
              "    <tr>\n",
              "      <th id=\"T_b00d5_level0_row3\" class=\"row_heading level0 row3\" >One-vs-Rest + Optuna with Logistic Regression</th>\n",
              "      <td id=\"T_b00d5_row3_col0\" class=\"data row3 col0\" >0.405606</td>\n",
              "      <td id=\"T_b00d5_row3_col1\" class=\"data row3 col1\" >0.709400</td>\n",
              "      <td id=\"T_b00d5_row3_col2\" class=\"data row3 col2\" >0.443286</td>\n",
              "      <td id=\"T_b00d5_row3_col3\" class=\"data row3 col3\" >3</td>\n",
              "      <td id=\"T_b00d5_row3_col4\" class=\"data row3 col4\" >2.724000</td>\n",
              "    </tr>\n",
              "    <tr>\n",
              "      <th id=\"T_b00d5_level0_row4\" class=\"row_heading level0 row4\" >SoftMax Regression</th>\n",
              "      <td id=\"T_b00d5_row4_col0\" class=\"data row4 col0\" >0.393401</td>\n",
              "      <td id=\"T_b00d5_row4_col1\" class=\"data row4 col1\" >0.371450</td>\n",
              "      <td id=\"T_b00d5_row4_col2\" class=\"data row4 col2\" >0.432978</td>\n",
              "      <td id=\"T_b00d5_row4_col3\" class=\"data row4 col3\" >3</td>\n",
              "      <td id=\"T_b00d5_row4_col4\" class=\"data row4 col4\" >0.131000</td>\n",
              "    </tr>\n",
              "  </tbody>\n",
              "</table>\n"
            ],
            "text/plain": [
              "<pandas.io.formats.style.Styler at 0x1d423533080>"
            ]
          },
          "metadata": {},
          "output_type": "display_data"
        }
      ],
      "source": [
        "df_metrics['Количество классификаторов'] = df_metrics['Количество классификаторов'].astype(int)\n",
        "display(df_metrics.style\n",
        "    .background_gradient(subset=['macro_F1', 'macro_precision', 'macro_recall'], cmap='RdYlGn')\n",
        "    .background_gradient(subset=['Скорость обучения (секунд)'], cmap='RdYlGn_r'))"
      ]
    },
    {
      "cell_type": "markdown",
      "metadata": {
        "id": "U6xDfck0cfrr"
      },
      "source": [
        "__Ответ__: One-vs-One показывает лучший результат. Худшей стала Softmax регрессия, но она достаточно близко к остальным. Я думаю что SoftMax проигрывает из-за того, что строит 1 глобальную модель,а OvO строит отдельные модели для каждой пары классов => **может лучше улавливать сложнные закономерности**.\\\n",
        "Главная проблема данной задачи - низкое качество признаков. Я думаю, что с таким набором добиться macro F1 > 0.5 почти нереально. **Нужен feature engineering или/и новые признаки**"
      ]
    }
  ],
  "metadata": {
    "colab": {
      "collapsed_sections": [
        "xvhLtt4OP75Q",
        "RvWzOe4wP75T",
        "4VbJR0e3P75U"
      ],
      "provenance": []
    },
    "kernelspec": {
      "display_name": "base",
      "language": "python",
      "name": "python3"
    },
    "language_info": {
      "codemirror_mode": {
        "name": "ipython",
        "version": 3
      },
      "file_extension": ".py",
      "mimetype": "text/x-python",
      "name": "python",
      "nbconvert_exporter": "python",
      "pygments_lexer": "ipython3",
      "version": "3.12.3"
    }
  },
  "nbformat": 4,
  "nbformat_minor": 0
}
