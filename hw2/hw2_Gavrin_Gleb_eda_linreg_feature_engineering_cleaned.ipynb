{
 "cells": [
  {
   "cell_type": "markdown",
   "metadata": {
    "id": "tDdyDPH7EoF_"
   },
   "source": [
    "# Машинное обучение, ФКН ВШЭ\n",
    "\n",
    "## Практическое задание 2. Exploratory Data Analysis и линейная регрессия\n",
    "\n",
    "### Общая информация\n",
    "Дата выдачи: 12.10.2024\n",
    "\n",
    "Мягкий дедлайн: 23:59MSK 27.10.2024\n",
    "\n",
    "Жесткий дедлайн: 23:59MSK 31.10.2024"
   ]
  },
  {
   "cell_type": "markdown",
   "metadata": {
    "id": "EnR2J2aZEoGA"
   },
   "source": [
    "### О задании\n",
    "В этом задании мы попытаемся научиться анализировать данные и выделять из них полезные признаки. Мы также научимся пользоваться `sklearn`, а заодно привыкнем к основным понятиям машинного обучения.\n",
    "\n",
    "### Оценивание и штрафы\n",
    "Каждая из задач имеет определенную «стоимость» (указана в скобках около задачи). Максимально допустимая оценка за работу — 10 баллов. Проверяющий имеет право снизить оценку за неэффективную реализацию или неопрятные графики.\n",
    "\n",
    "**Обратите внимание**, что в каждом разделе домашнего задания есть оцениваниемые задачи и есть вопросы. Вопросы дополняют задачи и направлены на то, чтобы проинтерпретировать или обосновать происходящее. Код без интерпретации не имеет смысла, поэтому отвечать на вопросы обязательно — за отсутствие ответов мы будем снижать баллы за задачи. Если вы ответите на вопросы, но не напишете корректный код к соответствующим оцениваемым задачам, то баллы за такое выставлены не будут.\n",
    "\n",
    "Задание выполняется самостоятельно. «Похожие» решения считаются плагиатом и все задействованные студенты (в том числе те, у кого списали) не могут получить за него больше 0 баллов (подробнее о плагиате см. на странице курса). Если вы нашли решение какого-то из заданий (или его часть) в открытом источнике, необходимо указать ссылку на этот источник в отдельном блоке в конце вашей работы (скорее всего вы будете не единственным, кто это нашел, поэтому чтобы исключить подозрение в плагиате, необходима ссылка на источник).\n",
    "\n",
    "### Формат сдачи\n",
    "Задания сдаются через систему Anytask. Инвайт можно найти на странице курса. Присылать необходимо ноутбук с выполненным заданием. Сам ноутбук называйте в формате homework-practice-02-linregr-Username.ipynb, где Username — ваша фамилия.\n",
    "\n",
    "Для удобства проверки самостоятельно посчитайте свою максимальную оценку (исходя из набора решенных задач) и укажите ниже.\n",
    "\n",
    "Оценка: xx."
   ]
  },
  {
   "cell_type": "markdown",
   "metadata": {
    "id": "KNNRLdI_EoGB"
   },
   "source": [
    "В этом ноутбуке используется библиотека `folium` для визуализации карт. Она работает в google colab!"
   ]
  },
  {
   "cell_type": "code",
   "execution_count": null,
   "metadata": {
    "ExecuteTime": {
     "end_time": "2020-09-26T16:46:41.323933Z",
     "start_time": "2020-09-26T16:46:38.248043Z"
    },
    "id": "lUEEf5JeEoGB"
   },
   "outputs": [],
   "source": [
    "!pip install folium"
   ]
  },
  {
   "cell_type": "code",
   "execution_count": null,
   "metadata": {
    "ExecuteTime": {
     "end_time": "2020-09-26T16:54:29.903693Z",
     "start_time": "2020-09-26T16:54:29.891068Z"
    },
    "collapsed": true,
    "id": "2ey5NPQWEoGC"
   },
   "outputs": [],
   "source": [
    "import folium\n",
    "\n",
    "m = folium.Map(location=(50.97178, 9.79418), zoom_start=15)\n",
    "\n",
    "#m"
   ]
  },
  {
   "cell_type": "markdown",
   "metadata": {
    "id": "wK6RuhUsEoGC"
   },
   "source": [
    "Если вы всё сделали правильно, то выше должна открыться карта"
   ]
  },
  {
   "cell_type": "code",
   "execution_count": null,
   "metadata": {},
   "outputs": [],
   "source": [
    "!pip install haversine\n"
   ]
  },
  {
   "cell_type": "markdown",
   "metadata": {
    "id": "_yZX6lnAFMz2"
   },
   "source": [
    "### 📌 **Памятка по дз2**\n",
    "\n",
    "Обрабатывать данные можно любым способом (`polars`, `pandas`, `pyspark`, ...), который вам нравится и запускается в ноутбуке, и любой библиотекой для визуализации (`matplotlib`, `seaborn`, `plotly`, ...). Пользуйтесь на здоровье, но!\n",
    "\n",
    "> Учтите, что `polars` всё ещё молодой и не все библиотеки его поддерживают. `sklearn` во многом уже работает, но на всякий случай не стесняйтесь пользоваться методами `pl.DataFrame.to_pandas()` или `pl.DataFrame.to_numpy()`    \n",
    "\n",
    "> Впрочем, `pandas` тоже не лишён проблем. `sklearn` принимает `pd.DataFrame` почти везде, проблемы очень редки, но если вдруг возникнет какая-то беда с шейпами, или ещё какой-нибудь казус, а вы уверены, что всё правильно, пользуйтесь `pd.DataFrame.to_numpy()`. Это не всегда решает проблему, но часто помогает понять, что на самом деле не так. При желании можно передавать и `Iterable`, и sparse-матрицы\n",
    "\n",
    "> Графики должны быть понятные, читаемые и пр. Консультируйтесь с памяткой из дз1 в задании на график\n",
    "\n",
    "> Для воспроизводимости результатов не забывайте пользоваться `np.random.seed(...)`, при необходимости чистите мусор `gc.collect()`, лучше в каждой ячейке\n",
    "\n",
    "> Все результаты должны быть получены в ноутбуке. На каждый **Вопрос** долен быть дан **Ответ** (письменно (в Markdown например) или кодом)"
   ]
  },
  {
   "cell_type": "code",
   "execution_count": null,
   "metadata": {
    "id": "Bv2pcc8EFWzP"
   },
   "outputs": [],
   "source": [
    "import numpy as np\n",
    "\n",
    "import pandas as pd  # your favorite data package\n",
    "import matplotlib.pyplot as plt\n",
    "import seaborn as sns\n",
    "import plotly.graph_objects as go  # your favorite visualization package\n",
    "from tqdm import tqdm"
   ]
  },
  {
   "cell_type": "markdown",
   "metadata": {
    "id": "PkVS571gEoGD"
   },
   "source": [
    "## Часть 0. Подготовка (1 балл)"
   ]
  },
  {
   "cell_type": "markdown",
   "metadata": {
    "id": "Lajrlou5EoGD"
   },
   "source": [
    "**Задание 1 (1 балл)**. Мы будем работать с данными из соревнования [New York City Taxi Trip Duration](https://www.kaggle.com/c/nyc-taxi-trip-duration/overview), в котором нужно было предсказать длительность поездки на такси. Скачайте обучающую выборку из этого соревнования и загрузите ее:"
   ]
  },
  {
   "cell_type": "code",
   "execution_count": null,
   "metadata": {},
   "outputs": [],
   "source": [
    "#описание с kaggle"
   ]
  },
  {
   "cell_type": "markdown",
   "metadata": {},
   "source": [
    "\n",
    "Data fields\\\n",
    "id - a unique identifier for each trip\\\n",
    "vendor_id - a code indicating the provider associated with the trip record\\\n",
    "pickup_datetime - date and time when the meter was engaged\\\n",
    "dropoff_datetime - date and time when the meter was disengaged\\\n",
    "passenger_count - the number of passengers in the vehicle (driver entered value)\\\n",
    "pickup_longitude - the longitude where the meter was engaged\\\n",
    "pickup_latitude - the latitude where the meter was engaged\\\n",
    "dropoff_longitude - the longitude where the meter was disengaged\\\n",
    "dropoff_latitude - the latitude where the meter was disengaged\\\n",
    "store_and_fwd_flag - This flag indicates whether the trip record was held in vehicle memory before sending to the vendor because the vehicle did not have a connection to the server - Y=store and forward; N=not a store and forward trip\\\n",
    "trip_duration - duration of the trip in seconds"
   ]
  },
  {
   "cell_type": "code",
   "execution_count": null,
   "metadata": {
    "ExecuteTime": {
     "end_time": "2020-09-26T17:03:41.260445Z",
     "start_time": "2020-09-26T17:03:37.878813Z"
    },
    "id": "MDqyPDHTEoGD"
   },
   "outputs": [],
   "source": [
    "df = pd.read_csv('train_taxi.csv')"
   ]
  },
  {
   "cell_type": "code",
   "execution_count": null,
   "metadata": {},
   "outputs": [],
   "source": [
    "df.head()"
   ]
  },
  {
   "cell_type": "code",
   "execution_count": null,
   "metadata": {},
   "outputs": [],
   "source": [
    "df.shape"
   ]
  },
  {
   "cell_type": "code",
   "execution_count": null,
   "metadata": {},
   "outputs": [],
   "source": [
    "df.dtypes"
   ]
  },
  {
   "cell_type": "code",
   "execution_count": null,
   "metadata": {},
   "outputs": [],
   "source": [
    "df['id'].nunique()\n",
    "# нет дубликатов записей по поездкам"
   ]
  },
  {
   "cell_type": "code",
   "execution_count": null,
   "metadata": {},
   "outputs": [],
   "source": [
    "df.vendor_id.value_counts()\n",
    "# всего 2 компании "
   ]
  },
  {
   "cell_type": "code",
   "execution_count": null,
   "metadata": {},
   "outputs": [],
   "source": [
    "df.isnull().sum()\n",
    "# пропусков нет"
   ]
  },
  {
   "cell_type": "markdown",
   "metadata": {
    "id": "V4Db6hxxEoGE"
   },
   "source": [
    "Обратите внимание на колонки `pickup_datetime` и `dropoff_datetime`. `dropoff_datetime` был добавлена организаторами только в обучающую выборку, то есть использовать эту колонку нельзя, давайте удалим ее. В `pickup_datetime` записаны дата и время начала поездки. Чтобы с ней было удобно работать, давайте преобразуем даты в `datetime`-объекты"
   ]
  },
  {
   "cell_type": "code",
   "execution_count": null,
   "metadata": {
    "id": "c9BkrxQnEoGE"
   },
   "outputs": [],
   "source": [
    "df.drop('dropoff_datetime', axis=1, inplace=True)\n",
    "\n",
    "df['pickup_datetime'] = pd.to_datetime(df['pickup_datetime'])"
   ]
  },
  {
   "cell_type": "markdown",
   "metadata": {
    "id": "SGOIn54JEoGE"
   },
   "source": [
    "В колонке `trip_duration` записано целевое значение, которое мы хотим предсказывать. Давайте посмотрим на распределение таргета в обучающей выборке. Для этого нарисуйте его гистограмму:"
   ]
  },
  {
   "cell_type": "code",
   "execution_count": null,
   "metadata": {
    "id": "Y7ckLUTmEoGF"
   },
   "outputs": [],
   "source": [
    "plt.figure(figsize=(12,8))\n",
    "\n",
    "sns.histplot(df['trip_duration'], bins=30, kde=True, color=\"#0C742B\", edgecolor='red')\n",
    "\n",
    "plt.axvline(df['trip_duration'].median(), color='yellow', linestyle='--', linewidth=2, label=f'Медиана: {df['trip_duration'].median():.1f}')\n",
    "plt.axvline(df['trip_duration'].mean(), color='red', linestyle='--', linewidth=2, label=f'Среднее: {df['trip_duration'].mean():.1f}')\n",
    "\n",
    "plt.xlabel('Продолжительность поездки')\n",
    "plt.ylabel('Частота')\n",
    "plt.title('Гистограмма распределения продолжительности поездок')\n",
    "plt.legend()\n",
    "plt.show()"
   ]
  },
  {
   "cell_type": "code",
   "execution_count": null,
   "metadata": {},
   "outputs": [],
   "source": [
    "plt.figure(figsize=(12,8))\n",
    "sns.set_style(\"whitegrid\")\n",
    "plt.figure(figsize=(10, 2))\n",
    "boxplot = sns.boxplot(\n",
    "    data=df[[\"trip_duration\"]], \n",
    "    orient=\"h\",\n",
    "    width=0.6,\n",
    "    color=\"#0C742B\",\n",
    "    linewidth=2,\n",
    "    flierprops=dict(\n",
    "        markerfacecolor='#DD8452',\n",
    "        marker='D', \n",
    "        markersize=6\n",
    "    ),\n",
    "    boxprops=dict(alpha=0.8)\n",
    ")\n",
    "plt.title(\"Распределение продолжительности поездок\", pad=20, fontsize=14)\n",
    "plt.xlabel(\"Продолжительность поездки\", fontsize=12)\n",
    "plt.yticks([])"
   ]
  },
  {
   "cell_type": "code",
   "execution_count": null,
   "metadata": {},
   "outputs": [],
   "source": [
    "df[\"trip_duration\"].describe()"
   ]
  },
  {
   "cell_type": "markdown",
   "metadata": {
    "id": "0Lrim8I5EoGF"
   },
   "source": [
    "**Вопрос**: Что можно сказать о целевой переменной по гистограмме её значений?"
   ]
  },
  {
   "cell_type": "markdown",
   "metadata": {},
   "source": [
    "В целевой переменной есть значительные выбросы, которые искажают распределение. Интересно посмотреть, сколько их. Я посмотрю с помощью интерквартильного размаха"
   ]
  },
  {
   "cell_type": "code",
   "execution_count": null,
   "metadata": {},
   "outputs": [],
   "source": [
    "df_small = df[(df['trip_duration'] >= np.quantile(df['trip_duration'], 0.25)) & (df['trip_duration'] <= np.quantile(df['trip_duration'], 0.75))]\n",
    "print(f'{round(((df.shape[0] - df_small.shape[0]) / df.shape[0])*100, 3)}% данных являются выбросами по методу интерквартильного размаха')"
   ]
  },
  {
   "cell_type": "markdown",
   "metadata": {},
   "source": [
    "**В целевой переменной слишком большая дисперсия**"
   ]
  },
  {
   "cell_type": "markdown",
   "metadata": {
    "id": "5pe0qkO4EoGF"
   },
   "source": [
    "В соревновании в качестве метрики качества использовалось RMSLE:\n",
    "$$\\text{RMSLE}(X, y, a) = \\sqrt{\\frac{1}{\\ell}\\sum_{i=1}^{\\ell} \\big(\\log{(y_i + 1)} - \\log{(a(x_i) + 1)}\\big)^2}$$\n",
    "\n",
    "**Вопрос**: Как вы думаете, почему авторы соревнования выбрали именно RMSLE, а не RMSE?"
   ]
  },
  {
   "cell_type": "markdown",
   "metadata": {},
   "source": [
    "Я думаю, что авторы выбрали RMSLE потому, что распределение таргета не близко к нормальному и в нем много выбросов, из-за чего оптимизация с помощью RMSE затрудняется,\n",
    "так как RMSE чувствителен к выбросам(так как ошибка возводится в квадрат => сложно оценить модель адекватно).\\\n",
    "В данном случае RMSLE хорош тем, что логарифмическая функция потерь менее чувствительна к выбросам => **оценка качества модели будет более объективной**"
   ]
  },
  {
   "cell_type": "markdown",
   "metadata": {
    "id": "sjIdIjE2EoGF"
   },
   "source": [
    "На семинаре мы рассматривали несколько моделей линейной регрессии в `sklearn`, но каждая из них оптимизировала среднеквадратичную ошибку (MSE), а не RMSLE. Давайте проделаем следующий трюк: будем предсказывать не целевую переменную, а ее *логарифм*. Обозначим $\\hat{y}_i = \\log{(y_i + 1)}$ — модифицированный таргет, а $\\hat{a}(x_i)$ — предсказание модели, которая обучалась на $\\hat{y}_i$, то есть логарифм таргета. Чтобы предсказать исходное значение, мы можем просто взять экспоненту от нашего предсказания: $a(x_i) = \\exp(\\hat{a}(x_i)) - 1$.\n",
    "\n",
    "**Вопрос**: Покажите, что оптимизация RMSLE для модели $a$ эквивалентна оптимизации MSE для модели $\\hat{a}$.\n",
    "\n",
    "\n",
    "\n"
   ]
  },
  {
   "cell_type": "markdown",
   "metadata": {},
   "source": [
    "**Доказательство**: "
   ]
  },
  {
   "attachments": {
    "image.png": {
     "image/png": "[encoded data removed]"
    }
   },
   "cell_type": "markdown",
   "metadata": {
    "id": "zuHDDRflEoGG"
   },
   "source": [
    "![image.png](attachment:image.png)"
   ]
  },
  {
   "cell_type": "markdown",
   "metadata": {},
   "source": [
    "Итак, мы смогли свести задачу оптимизации RMSLE к задаче оптимизации MSE, которую мы умеем решать! Кроме того, у логарифмирования таргета есть еще одно полезное свойство. Чтобы его увидеть, добавьте к нашей выборке колонку `log_trip_duration` (воспользуйтесь `np.log1p`) и нарисуйте гистограмму модифицированного таргета по обучающей выборке. Удалите колонку со старым таргетом."
   ]
  },
  {
   "cell_type": "code",
   "execution_count": null,
   "metadata": {},
   "outputs": [],
   "source": [
    "df['log_trip_duration'] = np.log1p(df['trip_duration'])"
   ]
  },
  {
   "cell_type": "code",
   "execution_count": null,
   "metadata": {},
   "outputs": [],
   "source": [
    "plt.figure(figsize=(12,8))\n",
    "sns.histplot(df['log_trip_duration'], bins=30, kde=True, color=\"#0C742B\", edgecolor='red')\n",
    "\n",
    "plt.axvline(df['log_trip_duration'].median(), color='yellow', linestyle='--', linewidth=2, label=f'Медиана: {df['log_trip_duration'].median():.1f}')\n",
    "plt.axvline(df['log_trip_duration'].mean(), color='red', linestyle='--', linewidth=2, label=f'Среднее: {df['log_trip_duration'].mean():.1f}')\n",
    "\n",
    "plt.xlabel('Логарифмированная продолжительность поездки')\n",
    "plt.ylabel('Частота')\n",
    "plt.title('Гистограмма распределения log(продолжительности поездок + 1)')\n",
    "plt.legend()\n",
    "plt.show()"
   ]
  },
  {
   "cell_type": "markdown",
   "metadata": {},
   "source": [
    "Теперь распределение таргета близко к нормальному. Значит, распределение исходного таргета - логнормальное"
   ]
  },
  {
   "cell_type": "code",
   "execution_count": null,
   "metadata": {},
   "outputs": [],
   "source": [
    "df.drop('trip_duration', axis=1, inplace=True)"
   ]
  },
  {
   "cell_type": "markdown",
   "metadata": {
    "id": "LemSA66dEoGG"
   },
   "source": [
    "Чтобы иметь некоторую точку отсчета, давайте посчитаем значение метрики при наилучшем константном предсказании:"
   ]
  },
  {
   "cell_type": "code",
   "execution_count": null,
   "metadata": {
    "id": "yUp_dA0_EoGG"
   },
   "outputs": [],
   "source": [
    "# наилучшее константное предсказание - это среднее\n",
    "best_constant_prediction = df['log_trip_duration'].mean()\n",
    "\n",
    "def rmsle(log1p_y_true, log1p_y_pred):\n",
    "    log_diff_square = np.square(np.subtract(log1p_y_true, log1p_y_pred)) # получаем массив с разностями логарифмов, возведенных в квадрат\n",
    "    log_diff_square_sum_mean = np.sum(log_diff_square) / len(log_diff_square) # получаем среднее\n",
    "    rmsle_metric = np.sqrt(log_diff_square_sum_mean) # берем корень\n",
    "\n",
    "    return rmsle_metric\n",
    "    \n",
    "    raise NotImplementedError\n",
    "\n",
    "rmsle_best_const = rmsle(df['log_trip_duration'].values, best_constant_prediction)\n",
    "print(rmsle_best_const)\n",
    "assert np.allclose(rmsle_best_const, 0.79575, 1e-4)"
   ]
  },
  {
   "cell_type": "markdown",
   "metadata": {
    "id": "pAFeUHJMEoGG"
   },
   "source": [
    "## Часть 1. Изучаем `pickup_datetime` (2 балла)\n",
    "\n",
    "**Задание 2 (0.25 баллов)**. Для начала давайте посмотрим, сколько всего было поездок в каждый из дней. Постройте график зависимости количества поездок от дня в году:"
   ]
  },
  {
   "cell_type": "code",
   "execution_count": null,
   "metadata": {
    "id": "JjPu9549EoGG"
   },
   "outputs": [],
   "source": [
    "df['pickup_date'] = df.pickup_datetime.dt.date\n",
    "df['pickup_date'].nunique()"
   ]
  },
  {
   "cell_type": "code",
   "execution_count": null,
   "metadata": {},
   "outputs": [],
   "source": [
    "trip_day_count = df.groupby('pickup_date')['id'].count().reset_index(name='trip_count').sort_values(by='pickup_date')\n",
    "trip_day_count.head()"
   ]
  },
  {
   "cell_type": "code",
   "execution_count": null,
   "metadata": {},
   "outputs": [],
   "source": [
    "import plotly.express as px\n",
    "\n",
    "fig = px.line(trip_day_count, \n",
    "              x='pickup_date', \n",
    "              y='trip_count', \n",
    "              title='Количество поездок по дням в году',\n",
    "              color_discrete_sequence=[\"#16B128\"])\n",
    "\n",
    "fig.update_layout(\n",
    "    xaxis_title='Дата',          \n",
    "    yaxis_title='Количество поездок',\n",
    "    title_font_size=20,     \n",
    "    font=dict(size=12)     \n",
    ")\n",
    "\n",
    "fig.update_traces(\n",
    "    line_width=2       \n",
    ")\n",
    "\n",
    "fig.show()"
   ]
  },
  {
   "cell_type": "markdown",
   "metadata": {
    "id": "I-LkA5nHEoGH"
   },
   "source": [
    "**Вопрос**: Вы, вероятно, заметили, что на графике есть 2 периода с аномально маленькими количествами поездок. Вычислите, в какие даты происходили эти скачки вниз и найдите информацию о том, что происходило в эти дни в Нью-Йорке.\n"
   ]
  },
  {
   "cell_type": "markdown",
   "metadata": {},
   "source": [
    "Самые большие просадки наблюдаются 23 января и 30 мая 2016. \\\n",
    "23 января движение на улицах Нью-Йорка было почти остановлено из-за снежной бури. \\\n",
    "30 мая в США федеральный праздник, многие люди не работают. Поэтому поездок меньше, чем обычно"
   ]
  },
  {
   "cell_type": "markdown",
   "metadata": {},
   "source": [
    "Нарисуйте графики зависимости количества поездок от дня недели и от часов в сутках:"
   ]
  },
  {
   "cell_type": "code",
   "execution_count": null,
   "metadata": {},
   "outputs": [],
   "source": [
    "trip_day_count.pickup_date = pd.to_datetime(trip_day_count.pickup_date)"
   ]
  },
  {
   "cell_type": "code",
   "execution_count": null,
   "metadata": {},
   "outputs": [],
   "source": [
    "# график по дням недели\n",
    "\n",
    "trip_day_count['weekday'] = trip_day_count.pickup_date.dt.day_name()\n",
    "\n",
    "weekdays_trip_count = trip_day_count.groupby('weekday')['trip_count'].sum().reset_index(name='trips')"
   ]
  },
  {
   "cell_type": "code",
   "execution_count": null,
   "metadata": {},
   "outputs": [],
   "source": [
    "plt.figure(figsize=(9, 5))\n",
    "sns.barplot(data = weekdays_trip_count, x = 'weekday', y = 'trips', color = 'green')\n",
    "\n",
    "plt.title('Суммарное количество поездок по дням недели')\n",
    "plt.xlabel('День недели')\n",
    "plt.ylabel('Количество поездок')\n",
    "plt.show()"
   ]
  },
  {
   "cell_type": "code",
   "execution_count": null,
   "metadata": {},
   "outputs": [],
   "source": [
    "# график от часов в сутках\n",
    "\n",
    "trip_day_count_dt = df.groupby('pickup_datetime')['id'].count().reset_index(name='trip_count').sort_values(by='pickup_datetime')\n",
    "\n",
    "trip_day_count_dt['hour'] = trip_day_count_dt.pickup_datetime.dt.hour\n",
    "trip_day_count_dt['month'] = trip_day_count_dt.pickup_datetime.dt.month_name()\n",
    "\n",
    "hour_trip_count = trip_day_count_dt.groupby('hour')['trip_count'].sum().reset_index(name='trips')\n",
    "#hour_trip_count\n"
   ]
  },
  {
   "cell_type": "code",
   "execution_count": null,
   "metadata": {},
   "outputs": [],
   "source": [
    "plt.figure(figsize=(9, 5))\n",
    "sns.barplot(data = hour_trip_count, x = 'hour', y = 'trips', color = 'green')\n",
    "\n",
    "plt.title('Суммарное количество поездок по часам в сутках')\n",
    "plt.xlabel('Час в сутках')\n",
    "plt.ylabel('Количество поездок')\n",
    "plt.show()"
   ]
  },
  {
   "cell_type": "markdown",
   "metadata": {},
   "source": [
    "Ожидаемая просадка в ночные часы и наибольшее количество поездок в 18-19 часов, когда все едут с работы"
   ]
  },
  {
   "cell_type": "markdown",
   "metadata": {
    "id": "nvZ2ERAlEoGH"
   },
   "source": [
    "**Задание 3 (0.5 баллов)**. Нарисуйте на одном графике зависимости количества поездок от часа в сутках для разных месяцев (разные кривые, соответствующие разным месяцам, окрашивайте в разные цвета, поищите, как это делается). Аналогично нарисуйте зависимости количества поездок от часа в сутках для разных дней недели."
   ]
  },
  {
   "cell_type": "code",
   "execution_count": null,
   "metadata": {},
   "outputs": [],
   "source": [
    "hour_month_trip_count = trip_day_count_dt.groupby(['hour', 'month'])['trip_count'].sum().reset_index(name='trips')\n"
   ]
  },
  {
   "cell_type": "code",
   "execution_count": null,
   "metadata": {},
   "outputs": [],
   "source": [
    "hour_month_trip_count = hour_month_trip_count.sort_values(by=['month', 'hour'])\n",
    "#hour_month_trip_count"
   ]
  },
  {
   "cell_type": "code",
   "execution_count": null,
   "metadata": {},
   "outputs": [],
   "source": [
    "import plotly.graph_objects as go"
   ]
  },
  {
   "cell_type": "code",
   "execution_count": null,
   "metadata": {},
   "outputs": [],
   "source": [
    "hr = hour_month_trip_count.copy(deep=True)\n",
    "hr.head(2)"
   ]
  },
  {
   "cell_type": "markdown",
   "metadata": {},
   "source": [
    "Данному способу построения графика с несколькими рядами разных цветов я научился на майноре ИАД, нам его показывали на семинаре по временным рядам"
   ]
  },
  {
   "cell_type": "code",
   "execution_count": null,
   "metadata": {},
   "outputs": [],
   "source": [
    "fig = go.Figure()\n",
    "\n",
    "for i in hr['month'].unique().tolist():\n",
    "    fig.add_trace(\n",
    "        go.Scatter(x=hr[hr[\"month\"] == i][\"hour\"], y=hr[hr[\"month\"] == i][\"trips\"], name=str(i))\n",
    "    )\n",
    "fig.update_layout(title=\"Зависимость количества поездок от часа в сутках в разрезе по месяцам\", xaxis_title=\"Время в сутках\", yaxis_title=\"Количество поездок\")\n",
    "fig.update_layout(width=1400, height=600)  \n",
    "fig.show()"
   ]
  },
  {
   "cell_type": "code",
   "execution_count": null,
   "metadata": {},
   "outputs": [],
   "source": [
    "trip_day_count_dt['dayofweek'] = trip_day_count_dt['pickup_datetime'].dt.day_name()\n",
    "hour_day_trip_count = trip_day_count_dt.groupby(['hour', 'dayofweek'])['trip_count'].sum().reset_index(name='trips')"
   ]
  },
  {
   "cell_type": "code",
   "execution_count": null,
   "metadata": {},
   "outputs": [],
   "source": [
    "hr1 = hour_day_trip_count.copy(deep=True)"
   ]
  },
  {
   "cell_type": "code",
   "execution_count": null,
   "metadata": {},
   "outputs": [],
   "source": [
    "fig = go.Figure()\n",
    "\n",
    "for i in hr1['dayofweek'].unique().tolist():\n",
    "    fig.add_trace(\n",
    "        go.Scatter(x=hr1[hr1[\"dayofweek\"] == i][\"hour\"], y=hr1[hr1[\"dayofweek\"] == i][\"trips\"], name=str(i))\n",
    "    )\n",
    "fig.update_layout(title=\"Зависимость количества поездок от часа в сутках в разрезе по дням недели\", xaxis_title=\"Время в сутках\", yaxis_title=\"Количество поездок\")\n",
    "fig.update_layout(width=1400, height=600)  \n",
    "fig.show()"
   ]
  },
  {
   "cell_type": "markdown",
   "metadata": {},
   "source": [
    "**Вопрос**: Какие выводы можно сделать, основываясь на графиках выше? Выделяются ли какие-нибудь дни недели? Месяца? Время суток? С чем это связано?\n"
   ]
  },
  {
   "cell_type": "markdown",
   "metadata": {},
   "source": [
    "**Выводы по графикам:**\n",
    "\n",
    "Из графика по месяцам можно заметить, что весенние месяцы лидируют по количеству поездок почти на всем дневном интервале.\\\n",
    "При этом январь почти всегда последний.\n",
    "\n",
    "Из графика по дням недели можно выделить, что начиная с утренних часов по воскресеньям меньше всего поездок почти на всем промежутке до вечера. При этом в ночные часы воскресенье лидирует. Я предполагаю, что это связано с тем, что ночью с субботы на воскресенье все возвращаются с тусовок. А днем на работу никому не надо, поэтому поездок мало.\\\n",
    "Похожая картина в плане ночных часов и в субботу.\n",
    "\n",
    "По времени суток можно выделить, что ожидаемо в ночные часы поездок немного, в утренние часы количество нарастает, днем в рабочие часы выходит на плато, а к вечеру сильно возрастает, так как все возвращаются домой."
   ]
  },
  {
   "cell_type": "markdown",
   "metadata": {
    "id": "3gXhl4OrEoGH"
   },
   "source": [
    "\n",
    "**Задание 4 (0.5 баллов)**. Разбейте выборку на обучающую и тестовую в отношении 7:3 (используйте `train_test_split` из `sklearn`). По обучающей выборке нарисуйте график зависимости среднего логарифма времени поездки от дня недели. Затем сделайте то же самое, но для часа в сутках и дня в году."
   ]
  },
  {
   "cell_type": "code",
   "execution_count": null,
   "metadata": {},
   "outputs": [],
   "source": [
    "df.columns"
   ]
  },
  {
   "cell_type": "code",
   "execution_count": null,
   "metadata": {},
   "outputs": [],
   "source": [
    "from sklearn.model_selection import train_test_split\n",
    "\n",
    "X = df[['id', 'vendor_id', 'pickup_datetime', 'passenger_count',\n",
    "       'pickup_longitude', 'pickup_latitude', 'dropoff_longitude',\n",
    "       'dropoff_latitude', 'store_and_fwd_flag',\n",
    "       'pickup_date']]\n",
    "\n",
    "y = df['log_trip_duration']"
   ]
  },
  {
   "cell_type": "code",
   "execution_count": null,
   "metadata": {},
   "outputs": [],
   "source": [
    "X_train, X_test, y_train, y_test = train_test_split(\n",
    "  X,y , random_state=104,test_size=0.3, shuffle=True)"
   ]
  },
  {
   "cell_type": "code",
   "execution_count": null,
   "metadata": {},
   "outputs": [],
   "source": [
    "X_train_c = X_train.copy(deep=True)"
   ]
  },
  {
   "cell_type": "code",
   "execution_count": null,
   "metadata": {},
   "outputs": [],
   "source": [
    "X_train_c.pickup_date = pd.to_datetime(X_train_c.pickup_date)\n",
    "X_train_c['weekday'] = X_train_c.pickup_date.dt.day_name()\n",
    "X_train_c['target'] = y_train\n",
    "day_targt_mean = X_train_c.groupby('weekday')['target'].mean().reset_index(name='mean_target')\n",
    "\n",
    "plt.figure(figsize=(9, 5))\n",
    "sns.barplot(data = day_targt_mean, x = 'weekday', y = 'mean_target', color = 'purple')\n",
    "\n",
    "plt.title('Средний логарифм длительности поездок по дням недели')\n",
    "plt.xlabel('День недели')\n",
    "plt.ylabel('Средний логарифм длительности поездок')\n",
    "plt.show()"
   ]
  },
  {
   "cell_type": "code",
   "execution_count": null,
   "metadata": {},
   "outputs": [],
   "source": [
    "X_train_c['hour'] = X_train_c.pickup_datetime.dt.hour\n",
    "X_train_c['target'] = y_train\n",
    "day_targt_mean = X_train_c.groupby('hour')['target'].mean().reset_index(name='mean_target')\n",
    "\n",
    "plt.figure(figsize=(9, 5))\n",
    "sns.barplot(data = day_targt_mean, x = 'hour', y = 'mean_target', color = 'purple')\n",
    "\n",
    "plt.title('Средний логарифм длительности поездок по часам в сутках')\n",
    "plt.xlabel('Час в сутках')\n",
    "plt.ylabel('Средний логарифм длительности поездок')\n",
    "plt.show()"
   ]
  },
  {
   "cell_type": "code",
   "execution_count": null,
   "metadata": {},
   "outputs": [],
   "source": [
    "day_targt_mean = X_train_c.groupby('pickup_date')['target'].mean().reset_index(name='mean_target')\n",
    "fig = px.line(day_targt_mean, \n",
    "              x='pickup_date', \n",
    "              y='mean_target', \n",
    "              title='Средний логарифм времени поездки по дням в году',\n",
    "              color_discrete_sequence=[\"#7E1279\"])\n",
    "\n",
    "fig.update_layout(\n",
    "    xaxis_title='Дата',          \n",
    "    yaxis_title='Средний логарифм времени поездки',\n",
    "    title_font_size=20,     \n",
    "    font=dict(size=12)     \n",
    ")\n",
    "\n",
    "fig.update_traces(\n",
    "    line_width=2       \n",
    ")\n",
    "\n",
    "fig.show()"
   ]
  },
  {
   "cell_type": "markdown",
   "metadata": {
    "id": "lgSOuc3GEoGH"
   },
   "source": [
    "**Вопрос**: Похожи ли графики зависимости таргета от дня недели и от часа в сутках на аналогичные графики для количества поездок? Почему? Что происходит со средним таргетом в те два аномальных периода, что мы видели выше? Почему так происходит? Наблюдаете ли вы какой-нибудь тренд на графике зависимости `log_trip_duration` от номера дня в году?"
   ]
  },
  {
   "cell_type": "markdown",
   "metadata": {},
   "source": [
    "Графики непохожи, так как логарифмирование снижает разрывы между значениями.\n",
    "\n",
    "Длительность поездок в аномальный период в январе (во время бури) высокая относительно других дней, это судя по всему связано с низкой скоростью передвижения из-за заснеженных дорог.\n",
    "\n",
    "Заметен **небольшой возрастающий тренд** на графике зависимости log_trip_duration от дня в году.\n"
   ]
  },
  {
   "cell_type": "markdown",
   "metadata": {
    "id": "TjuyUesbEoGH"
   },
   "source": [
    "Добавьте следующие признаки на основе `pickup_datetime`:\n",
    "1. День недели\n",
    "2. Месяц\n",
    "3. Час\n",
    "4. Является ли период аномальным (два бинарных признака, соответствующие двум аномальным периодам)\n",
    "5. Номер дня в году"
   ]
  },
  {
   "cell_type": "code",
   "execution_count": null,
   "metadata": {},
   "outputs": [],
   "source": [
    "df4 = df.copy(deep=True)\n",
    "df4['day_of_week'] = df4['pickup_datetime'].dt.weekday\n",
    "df4['month'] = df4['pickup_datetime'].dt.month\n",
    "df4['hour'] = df4['pickup_datetime'].dt.hour\n",
    "\n",
    "abnormal1_condition = (df4['pickup_datetime'].dt.date.isin([pd.to_datetime('2016-01-23').date(), pd.to_datetime('2016-01-24').date(), pd.to_datetime('2016-05-25').date()]))\n",
    "df4['abnormal_period_1'] = np.where(abnormal1_condition, 1, 0)\n",
    "\n",
    "abnormal2_condition = (df4['pickup_datetime'].dt.date.isin([pd.to_datetime('2016-05-29').date(), pd.to_datetime('2016-05-30').date()]))\n",
    "df4['abnormal_period_2'] = np.where(abnormal2_condition, 1, 0)\n",
    "\n",
    "df4['day_number'] = df4['pickup_datetime'].dt.dayofyear"
   ]
  },
  {
   "cell_type": "code",
   "execution_count": null,
   "metadata": {},
   "outputs": [],
   "source": [
    "df4.head()"
   ]
  },
  {
   "cell_type": "markdown",
   "metadata": {
    "id": "YZqSNGlnEoGI"
   },
   "source": [
    "Итак, мы уже создали некоторое количество признаков.\n",
    "\n",
    "**Вопрос**: Какие из признаков _стоит рассматривать в этой задаче_   как категориальные, а какие - как численные? Почему?"
   ]
  },
  {
   "cell_type": "markdown",
   "metadata": {},
   "source": [
    "День недели и флаги аномальных периодов лучше рассматривать как категориальные, так как в них слишком мало значений. День в году, час в сутках - лучше как числовые"
   ]
  },
  {
   "cell_type": "markdown",
   "metadata": {
    "id": "J-3Fv4KpEoGI"
   },
   "source": [
    "**Задание 5 (0.75 баллов)**. Обучите `Ridge`-регрессию с параметрами по умолчанию, закодировав все категориальные признаки с помощью `OneHotEncoder`. Численные признаки отмасштабируйте с помощью `StandardScaler`. Используйте только признаки, которые мы выделили в этой части задания."
   ]
  },
  {
   "cell_type": "code",
   "execution_count": null,
   "metadata": {},
   "outputs": [],
   "source": [
    "from sklearn.preprocessing import StandardScaler\n",
    "from sklearn.linear_model import Ridge\n",
    "from sklearn.preprocessing import OneHotEncoder\n",
    "from sklearn.compose import ColumnTransformer\n",
    "from sklearn.metrics import r2_score"
   ]
  },
  {
   "cell_type": "code",
   "execution_count": null,
   "metadata": {},
   "outputs": [],
   "source": [
    "df5 = df4[['day_of_week', 'month', 'hour', 'abnormal_period_1', 'abnormal_period_2', 'day_number', 'log_trip_duration']]\n",
    "\n",
    "X5 = df5[['day_of_week', 'month', 'hour', 'abnormal_period_1', 'abnormal_period_2', 'day_number']]\n",
    "y5 = df5['log_trip_duration']\n",
    "\n",
    "X_train, X_test, y_train, y_test = train_test_split(X5, y5, random_state=104, test_size=0.3, shuffle=True)"
   ]
  },
  {
   "cell_type": "code",
   "execution_count": null,
   "metadata": {},
   "outputs": [],
   "source": [
    "# подготовка признаков\n",
    "\n",
    "categorical_features = ['day_of_week', 'abnormal_period_1', 'abnormal_period_2']  # категориальные признаки\n",
    "numeric_features = ['day_number', 'hour'] # числовые признаки\n",
    "\n",
    "preprocessor = ColumnTransformer(\n",
    "    transformers=[\n",
    "        ('num', StandardScaler(), numeric_features),\n",
    "        ('cat', OneHotEncoder(sparse_output=False, handle_unknown='ignore'), categorical_features)\n",
    "    ])\n",
    "\n",
    "\n",
    "preprocessor.fit(X_train)\n",
    "X_train_transformed = preprocessor.transform(X_train)\n",
    "X_test_transformed = preprocessor.transform(X_test)"
   ]
  },
  {
   "cell_type": "code",
   "execution_count": null,
   "metadata": {},
   "outputs": [],
   "source": [
    "# модель\n",
    "\n",
    "ridge5 = Ridge() # с параметрами по умолчанию\n",
    "ridge5.fit(X_train_transformed, y_train)"
   ]
  },
  {
   "cell_type": "code",
   "execution_count": null,
   "metadata": {},
   "outputs": [],
   "source": [
    "# считаем R^2\n",
    "\n",
    "y_pred = ridge5.predict(X_test_transformed)\n",
    "\n",
    "r2 = round(r2_score(y_test, y_pred), 4)\n",
    "print(f'R^2 в Ridge регрессии с параметрами по умолчанию и временными признаками = {round(r2_score(y_test, y_pred), 4)}')\n"
   ]
  },
  {
   "cell_type": "code",
   "execution_count": null,
   "metadata": {},
   "outputs": [],
   "source": [
    "# считаем rmsle\n",
    "\n",
    "rmsle1 = rmsle(y_test, y_pred)\n",
    "rmsle1"
   ]
  },
  {
   "cell_type": "code",
   "execution_count": null,
   "metadata": {},
   "outputs": [],
   "source": [
    "results_df = pd.DataFrame(columns=['Model', 'RMSLE', 'R2'])\n",
    "\n",
    "results_df = pd.concat([\n",
    "    results_df,\n",
    "    pd.DataFrame([{'Model': 'Ridge с временными признаками', 'RMSLE': rmsle1, 'R2': r2}])\n",
    "], ignore_index=True)\n",
    "\n",
    "\n",
    "display(results_df.style\n",
    "        .background_gradient(subset=['RMSLE', 'R2'], cmap='RdYlGn_r')) # нашел вот такую функцию для красивой визуализации"
   ]
  },
  {
   "cell_type": "markdown",
   "metadata": {},
   "source": [
    "R^2 в модели очень низкий => малая часть дисперсии объясняется моделью"
   ]
  },
  {
   "cell_type": "code",
   "execution_count": null,
   "metadata": {},
   "outputs": [],
   "source": [
    "coefficients = ridge5.coef_\n",
    "feature_names = preprocessor.get_feature_names_out()\n",
    "feature_importance = pd.DataFrame({'feature': feature_names, 'coefficient': coefficients})\n",
    "feature_importance = feature_importance.sort_values('coefficient', key=abs, ascending=False)"
   ]
  },
  {
   "cell_type": "code",
   "execution_count": null,
   "metadata": {},
   "outputs": [],
   "source": [
    "# важность признаков\n",
    "\n",
    "plt.figure(figsize=(12, 8))\n",
    "sns.barplot(x='coefficient', y='feature', data=feature_importance.head(20))\n",
    "plt.xlabel('Значение коэффициента')\n",
    "plt.tight_layout()\n",
    "plt.show()"
   ]
  },
  {
   "cell_type": "code",
   "execution_count": null,
   "metadata": {},
   "outputs": [],
   "source": [
    "plt.figure(figsize=(10, 6))\n",
    "plt.scatter(y_test, y_pred, alpha=0.5)\n",
    "plt.plot([y_test.min(), y_test.max()], [y_test.min(), y_test.max()], 'r--')\n",
    "plt.xlabel('Реальные значения из тестовой выборки')\n",
    "plt.ylabel('Предсказанные значения из тестовой выборки')\n",
    "plt.show()"
   ]
  },
  {
   "cell_type": "markdown",
   "metadata": {},
   "source": [
    "По визуализации реальных значений и прогнозов можно убедиться, что предсказательная способность такой модели на низком уровне. Идеальная модель - красная линия"
   ]
  },
  {
   "cell_type": "markdown",
   "metadata": {
    "id": "IqXqxoB8EoGI"
   },
   "source": [
    "## Часть 2. Изучаем координаты (3 балла)\n",
    "Мы уже очень хорошо изучили данные о времени начала поездки, давайте теперь посмотрим на информацию о координатах начала и конца поездки. Мы подготовили для вас функцию, которая на карте рисует точки начала или конца поездки. Примеры ее вызова вы найдете ниже. Обратите внимание, что в эту функцию мы передаем лишь небольшой кусочек данных, посколько иначе функция будет работать очень долго"
   ]
  },
  {
   "cell_type": "code",
   "execution_count": null,
   "metadata": {
    "id": "QwsYkIm8EoGI"
   },
   "outputs": [],
   "source": [
    "from typing import Iterable\n",
    "\n",
    "def show_circles_on_map(\n",
    "    latitude_values: Iterable[float],\n",
    "    longitude_values: Iterable[float],\n",
    "    color: str = \"blue\",\n",
    ") -> folium.Map:\n",
    "    \"\"\"\n",
    "    The function draws map with circles on it.\n",
    "    The center of the map is the mean of coordinates passed in data.\n",
    "    Works best on samples of size < 10k, too costly otherwise\n",
    "\n",
    "    latitude_values: sample latitude values of a dataframe\n",
    "    longitude_column: sample longitude values of a dataframe\n",
    "    color: the color of circles to be drawn\n",
    "    \"\"\"\n",
    "\n",
    "    location = (np.mean(latitude_values), np.mean(longitude_values))\n",
    "    m = folium.Map(location=location)\n",
    "\n",
    "    for lat, lon in zip(latitude_values, longitude_values):\n",
    "        folium.Circle(\n",
    "            radius=100,\n",
    "            location=(lat, lon),\n",
    "            color=color,\n",
    "            fill_color=color,\n",
    "            fill=True\n",
    "        ).add_to(m)\n",
    "\n",
    "    return m"
   ]
  },
  {
   "cell_type": "markdown",
   "metadata": {
    "id": "AKOS4yXmEoGI"
   },
   "source": [
    "Напишите функция, которая вернет значения колонок `pickup_latitude`, `pickup_longitude` на каком-нибудь разумном кусочке датафрейма, например, `df.sample(1000)` и покажите на карте, используя `show_circles_on_map`"
   ]
  },
  {
   "cell_type": "code",
   "execution_count": null,
   "metadata": {},
   "outputs": [],
   "source": [
    "import random "
   ]
  },
  {
   "cell_type": "code",
   "execution_count": null,
   "metadata": {
    "ExecuteTime": {
     "end_time": "2020-09-26T17:05:16.699973Z",
     "start_time": "2020-09-26T17:05:16.026291Z"
    },
    "id": "J2StlNlOEoGI"
   },
   "outputs": [],
   "source": [
    "random.seed(123)\n",
    "df_piece = df.sample(1000)\n",
    "your_lat_values = df_piece['pickup_latitude'].values\n",
    "your_lon_values = df_piece['pickup_longitude'].values\n",
    "\n",
    "show_circles_on_map(your_lat_values, your_lon_values, color=\"midnightblue\")"
   ]
  },
  {
   "cell_type": "markdown",
   "metadata": {
    "id": "K717UVClEoGI"
   },
   "source": [
    "**Вопрос**: Какие пункты (или скопления точек, в количестве 2-3), по вашему мнению, выделяются на карте от основной массы и могут быть полезны для нашей задачи? Почему вы их выбрали? В чём особенность этих скоплений точек для нашей задачи?"
   ]
  },
  {
   "cell_type": "markdown",
   "metadata": {},
   "source": [
    "Сильно выделяется район Манхеттен из-за большого количества офисов и бизнес-центров там.\\\n",
    "Также выделяется аэропорт, от которого все едут на такси.\\\n",
    "Третьим скоплением является второй аэропорт"
   ]
  },
  {
   "cell_type": "markdown",
   "metadata": {
    "id": "49LTh74REoGI"
   },
   "source": [
    "**Задание 6 (0.75 балл)**. Как мы все прекрасно помним, $t = s / v_{\\text{ср}}$, поэтому очевидно, что самым сильным признаком будет расстояние, которое необходимо проехать. Мы не можем посчитать точное расстояние, которое необходимо преодолеть такси, но мы можем его оценить, посчитав кратчайшее расстояние между точками начала и конца поездки. Чтобы корректно посчитать расстояние между двумя точками на Земле, можно использовать функцию `haversine`. Также можно воспользоваться кодом с первого семинара. Посчитайте кратчайшее расстояние для объектов и запишите его в колонку `haversine`:"
   ]
  },
  {
   "cell_type": "code",
   "execution_count": null,
   "metadata": {},
   "outputs": [],
   "source": [
    "from haversine import haversine\n",
    "from haversine import haversine_vector"
   ]
  },
  {
   "cell_type": "code",
   "execution_count": null,
   "metadata": {},
   "outputs": [],
   "source": [
    "df['haversine'] = haversine_vector(\n",
    "    df[['pickup_latitude', 'pickup_longitude']].values,\n",
    "    df[['dropoff_latitude', 'dropoff_longitude']].values,\n",
    "    unit='km'\n",
    ")"
   ]
  },
  {
   "cell_type": "code",
   "execution_count": null,
   "metadata": {},
   "outputs": [],
   "source": [
    "df.head(3)"
   ]
  },
  {
   "cell_type": "markdown",
   "metadata": {
    "id": "5sTMm3CNEoGJ"
   },
   "source": [
    "Так как мы предсказываем логарифм времени поездки и хотим, чтобы наши признаки были линейно зависимы с этой целевой переменной, нам нужно логарифмировать расстояние: $\\log t = \\log s - \\log{v_{\\text{ср}}}$. Запишите логарифм `haversine` в отдельную колонку `log_haversine`:"
   ]
  },
  {
   "cell_type": "code",
   "execution_count": null,
   "metadata": {
    "id": "pdiR9eLlEoGJ"
   },
   "outputs": [],
   "source": [
    "df['log_haversine'] = np.log1p(df['haversine'])"
   ]
  },
  {
   "cell_type": "markdown",
   "metadata": {
    "id": "3wk20swoEoGJ"
   },
   "source": [
    "Посчитайте корреляцию и убедитесь, что логарифм расстояния лучше отражает таргет, чем просто расстояние:"
   ]
  },
  {
   "cell_type": "code",
   "execution_count": null,
   "metadata": {
    "id": "fFnZyHAOEoGJ"
   },
   "outputs": [],
   "source": [
    "df['log_trip_duration'].corr(df['haversine']), df['log_trip_duration'].corr(df['log_haversine'])"
   ]
  },
  {
   "cell_type": "markdown",
   "metadata": {},
   "source": [
    "Действительно, линейная зависимость между логарифмами более сильно выражена"
   ]
  },
  {
   "cell_type": "markdown",
   "metadata": {
    "id": "R17AucnyEoGJ"
   },
   "source": [
    "**Задание 7 (0.75 балла)**. Давайте изучим среднюю скорость движения такси. Посчитайте среднюю скорость для каждого объекта обучающей выборки, разделив `haversine` на `trip_duration`, и нарисуйте гистограмму ее распределения"
   ]
  },
  {
   "cell_type": "code",
   "execution_count": null,
   "metadata": {
    "id": "5BhNStPiEoGJ"
   },
   "outputs": [],
   "source": [
    "df['trip_duration'] = np.expm1(df['log_trip_duration']) # в секундах\n",
    "df['trip_duration_h'] =  df['trip_duration'] / 3600                                                   # перевожу в часы\n",
    "\n",
    "df['speed_mean'] = df['haversine'] / df['trip_duration_h']\n",
    "df\n"
   ]
  },
  {
   "cell_type": "code",
   "execution_count": null,
   "metadata": {},
   "outputs": [],
   "source": [
    "plt.figure(figsize=(12,8))\n",
    "sns.histplot(df['speed_mean'], bins=30, kde=True, color=\"#1C0C74\", edgecolor='red')\n",
    "\n",
    "plt.axvline(df['speed_mean'].median(), color='yellow', linestyle='--', linewidth=2, label=f'Медиана: {df['speed_mean'].median():.1f}')\n",
    "plt.axvline(df['speed_mean'].mean(), color='red', linestyle='--', linewidth=2, label=f'Среднее: {df['speed_mean'].mean():.1f}')\n",
    "\n",
    "plt.xlabel('Средняя скорость во время поездки')\n",
    "plt.ylabel('Частота')\n",
    "plt.title('Гистограмма распределения средней скорости во время поездок')\n",
    "plt.legend()\n",
    "plt.show()"
   ]
  },
  {
   "cell_type": "code",
   "execution_count": null,
   "metadata": {},
   "outputs": [],
   "source": [
    "df4['trip_duration'] = np.expm1(df4['log_trip_duration']) # в секундах\n",
    "df4['trip_duration_h'] =  df4['trip_duration'] / 3600                                                   # перевожу в часы\n",
    "df4['haversine'] = haversine_vector(\n",
    "    df4[['pickup_latitude', 'pickup_longitude']].values,\n",
    "    df4[['dropoff_latitude', 'dropoff_longitude']].values,\n",
    "    unit='km'\n",
    ")\n",
    "df4['speed_mean'] = df4['haversine'] / df4['trip_duration_h']\n",
    "#df"
   ]
  },
  {
   "cell_type": "markdown",
   "metadata": {
    "id": "CB3TSvD6EoGJ"
   },
   "source": [
    "Как можно видеть по гистограмме, для некоторых объектов у нас получились очень больше значения скоростей. Нарисуйте гистограмму по объектам, для которых значение скорости получилось разумным (например, можно не включать рассмотрение объекты, где скорость больше некоторой квантили):"
   ]
  },
  {
   "cell_type": "code",
   "execution_count": null,
   "metadata": {
    "id": "iu1pMm_MEoGJ"
   },
   "outputs": [],
   "source": [
    "df_restr  = df4[df4['speed_mean'] <= np.quantile(df4['speed_mean'], 0.75)]\n",
    "\n",
    "plt.figure(figsize=(12,8))\n",
    "sns.histplot(df_restr['speed_mean'], bins=30, kde=True, color=\"#1C0C74\", edgecolor='red')\n",
    "\n",
    "plt.axvline(df_restr['speed_mean'].median(), color='yellow', linestyle='--', linewidth=2, label=f'Медиана: {df_restr['speed_mean'].median():.1f}')\n",
    "plt.axvline(df_restr['speed_mean'].mean(), color='red', linestyle='--', linewidth=2, label=f'Среднее: {df_restr['speed_mean'].mean():.1f}')\n",
    "\n",
    "plt.xlabel('Средняя скорость во время поездки')\n",
    "plt.ylabel('Частота')\n",
    "plt.title('Гистограмма распределения средней скорости во время поездок')\n",
    "plt.legend()\n",
    "plt.show()"
   ]
  },
  {
   "cell_type": "markdown",
   "metadata": {
    "id": "aAkEw_bdEoGJ"
   },
   "source": [
    "Для каждой пары (день недели, час суток) посчитайте медиану скоростей. Нарисуйте Heatmap-график, где по осям будут дни недели и часы, а в качестве значения функции - медиана скорости"
   ]
  },
  {
   "cell_type": "code",
   "execution_count": null,
   "metadata": {},
   "outputs": [],
   "source": [
    "day_hour_speed = df_restr.groupby(['day_of_week', 'hour'])['speed_mean'].median().reset_index(name='speed_median')"
   ]
  },
  {
   "cell_type": "code",
   "execution_count": null,
   "metadata": {},
   "outputs": [],
   "source": [
    "heatmap_data = day_hour_speed.pivot_table(\n",
    "    index='day_of_week',\n",
    "    columns='hour',\n",
    "    values='speed_median'\n",
    ")\n",
    "heatmap_data\n"
   ]
  },
  {
   "cell_type": "code",
   "execution_count": null,
   "metadata": {},
   "outputs": [],
   "source": [
    "plt.figure(figsize=(12, 8))\n",
    "sns.heatmap(\n",
    "    heatmap_data,\n",
    "    cmap='viridis',      \n",
    "    annot=True,          \n",
    "    fmt='.2f',          \n",
    "    cbar_kws={'label': 'Значения медианы скорости'}\n",
    ")\n",
    "plt.title('Медианы скорости для каждой пары (день недели, час в сутках)', fontsize=20)\n",
    "plt.xlabel('Медиана скорости', fontsize=15)\n",
    "plt.ylabel('День недели (0 - понедельник, 6 - воскресенье)', fontsize=15)\n",
    "plt.tight_layout()\n",
    "plt.show()"
   ]
  },
  {
   "cell_type": "markdown",
   "metadata": {
    "id": "p-SHoA9_EoGJ"
   },
   "source": [
    "Не забудьте удалить колонку со значением скорости из данных!\n",
    "\n",
    "**Вопрос**: Почему значение скорости нельзя использовать во время обучения?"
   ]
  },
  {
   "cell_type": "markdown",
   "metadata": {
    "id": "IpG1f3mHEoGJ"
   },
   "source": [
    "Значение скорости нельзя использовать во время обучения потому, что этот признак сгенерирован напрямую из длительности поездки (таргета)"
   ]
  },
  {
   "cell_type": "markdown",
   "metadata": {
    "id": "HsS9Nqw9EoGK"
   },
   "source": [
    "**Вопрос**: Посмотрите внимательно на график и скажите, в какие моменты времени скорость минимальна; максимальна.\n",
    "\n",
    "Создайте признаки \"поездка совершается в период пробок\" и \"поездка совершается в период свободных дорог\" (естественно, они не должен зависеть от скорости!):"
   ]
  },
  {
   "cell_type": "markdown",
   "metadata": {},
   "source": [
    "**Скорость минимальна по будням в дневное время** (пробки на дорогах сильно влияют на это).\\\n",
    "**Скорость максимальна ранним утром**, в 4-6 утра, в любые дни недели."
   ]
  },
  {
   "cell_type": "code",
   "execution_count": null,
   "metadata": {},
   "outputs": [],
   "source": [
    "traffic_jams = ( (df4['day_of_week'].isin([0,1,2,3,4])) & (df4['hour'].isin([9,10,11,12,13,14,15])))\n",
    "df4['traffic_jams_time'] = np.where(traffic_jams, 1, 0)  # бинарный признак что поездка совершается в период пробок\n",
    "\n",
    "free_roads = ( (df4['hour'].isin([4, 5, 6])))\n",
    "df4['free_roads_time'] = np.where(free_roads, 1, 0) # бинарный признак что поездка совершается в период свободных дорог"
   ]
  },
  {
   "cell_type": "code",
   "execution_count": null,
   "metadata": {},
   "outputs": [],
   "source": [
    "df4.head()"
   ]
  },
  {
   "cell_type": "markdown",
   "metadata": {
    "id": "0djsisvMEoGK"
   },
   "source": [
    "**Задание 8 (0.25 балла)**. Для каждого из замеченных вами выше 2-3 пунктов добавьте в выборку по два признака:\n",
    "- началась ли поездка в этом пункте\n",
    "- закончилась ли поездка в этом пункте\n",
    "\n",
    "Как вы думаете, почему эти признаки могут быть полезны?"
   ]
  },
  {
   "cell_type": "code",
   "execution_count": null,
   "metadata": {
    "id": "L1In5s8WEoGK"
   },
   "outputs": [],
   "source": [
    "#намеченные пункты\n",
    "important_places = {\n",
    "    'manch': {'lat': 40.7553, 'lon': -73.9845},  # центр Манхеттена - района с огромным скоплением поездок\n",
    "    'airport_kennedy': {'lat': 40.6413, 'lon': -73.7781},  # Аэропорт Кеннеди\n",
    "    'place_3': {'lat': 40.7420, 'lon': -73.9696}   # Edo Seaplane Base\n",
    "}"
   ]
  },
  {
   "cell_type": "code",
   "execution_count": null,
   "metadata": {},
   "outputs": [],
   "source": [
    "#Функция для проверки близости к этим пунктам. Я взял радиус 4 км, так как ширина Манхеттена 3.7 км\n",
    "\n",
    "def is_near_point(point_lat, point_lon, target_lat, target_lon, max_distance_km=4.0):\n",
    "\n",
    "    distance = haversine(\n",
    "        (point_lat, point_lon),\n",
    "        (target_lat, target_lon),\n",
    "        unit='km'\n",
    "    )\n",
    "    return 1 if distance <= max_distance_km else 0"
   ]
  },
  {
   "cell_type": "code",
   "execution_count": null,
   "metadata": {},
   "outputs": [],
   "source": [
    "important_places.items()"
   ]
  },
  {
   "cell_type": "code",
   "execution_count": null,
   "metadata": {},
   "outputs": [],
   "source": [
    "RADIUS_KM = 4.0\n",
    "\n",
    "for place_name, coords in tqdm(important_places.items()):\n",
    "    # Поездка началась в этом месте\n",
    "    df4[f'start_{place_name}'] = df4.apply(\n",
    "        lambda row: is_near_point(\n",
    "            row['pickup_latitude'], \n",
    "            row['pickup_longitude'],\n",
    "            coords['lat'], \n",
    "            coords['lon'],\n",
    "            RADIUS_KM\n",
    "        ),\n",
    "        axis=1\n",
    "    )\n",
    "    \n",
    "    # Поездка закончилась в этом месте\n",
    "    df4[f'end_{place_name}'] = df4.apply(\n",
    "        lambda row: is_near_point(\n",
    "            row['dropoff_latitude'], \n",
    "            row['dropoff_longitude'],\n",
    "            coords['lat'], \n",
    "            coords['lon'],\n",
    "            RADIUS_KM\n",
    "        ),\n",
    "        axis=1\n",
    "    )"
   ]
  },
  {
   "cell_type": "code",
   "execution_count": null,
   "metadata": {},
   "outputs": [],
   "source": [
    "df4.head(2)"
   ]
  },
  {
   "cell_type": "code",
   "execution_count": null,
   "metadata": {},
   "outputs": [],
   "source": [
    "df4.columns"
   ]
  },
  {
   "cell_type": "markdown",
   "metadata": {
    "id": "sMfdXM1WEoGK"
   },
   "source": [
    "Для каждого из созданных признаков нарисуйте \"ящик с усами\" (aka boxplot) распределения логарифма времени поездки"
   ]
  },
  {
   "cell_type": "code",
   "execution_count": null,
   "metadata": {},
   "outputs": [],
   "source": [
    "plt.figure(figsize=(10, 8))\n",
    "sns.set_theme(style=\"whitegrid\")\n",
    "\n",
    "sns.boxplot(x='traffic_jams_time', y='log_trip_duration', data=df4, palette='muted')\n",
    "plt.title('Зависимость Логарифма времени поездки от факта времени загруженных дорог', fontsize=15)\n",
    "plt.xlabel('Время пробок на дорогах', fontsize=13)\n",
    "plt.ylabel('Логарифм длительности поездок')\n",
    "plt.tight_layout()\n",
    "plt.show()"
   ]
  },
  {
   "cell_type": "markdown",
   "metadata": {},
   "source": [
    "Четко видно, что распределение логарифмированного времени поездки сдвинуто вправо для поездок, прошедших в периоды пробок => **признак полезный**"
   ]
  },
  {
   "cell_type": "code",
   "execution_count": null,
   "metadata": {},
   "outputs": [],
   "source": [
    "plt.figure(figsize=(10, 8))\n",
    "sns.set_theme(style=\"whitegrid\")\n",
    "\n",
    "sns.boxplot(x='free_roads_time', y='log_trip_duration', data=df4, palette='muted')\n",
    "plt.title('Зависимость Логарифма времени поездки от факта времени свободных дорог', fontsize=15)\n",
    "plt.xlabel('Время свободных дорог', fontsize=13)\n",
    "plt.ylabel('Логарифм длительности поездок')\n",
    "plt.tight_layout()\n",
    "plt.show()"
   ]
  },
  {
   "cell_type": "markdown",
   "metadata": {},
   "source": [
    "Здесь ожидаемо обратная ситуация => **признак полезный**"
   ]
  },
  {
   "cell_type": "code",
   "execution_count": null,
   "metadata": {},
   "outputs": [],
   "source": [
    "plt.figure(figsize=(10, 8))\n",
    "sns.set_theme(style=\"whitegrid\")\n",
    "\n",
    "sns.boxplot(x='start_manch', y='log_trip_duration', data=df4, palette='muted')\n",
    "plt.title('Зависимость Логарифма времени поездки от факта начала поездки в Манхеттене', fontsize=15)\n",
    "plt.xlabel('Поездка началась в Манхеттене', fontsize=13)\n",
    "plt.ylabel('Логарифм длительности поездок')\n",
    "plt.tight_layout()\n",
    "plt.show()"
   ]
  },
  {
   "cell_type": "markdown",
   "metadata": {},
   "source": [
    "Скорее всего, такая картина связана с тем, что люди в Mанхеттене редко заказывают такси, чтобы ехать куда-то далеко (например, за город). Они берут такси и перемещаются между офисами / между домом и офисом"
   ]
  },
  {
   "cell_type": "code",
   "execution_count": null,
   "metadata": {},
   "outputs": [],
   "source": [
    "plt.figure(figsize=(10, 8))\n",
    "sns.set_theme(style=\"whitegrid\")\n",
    "\n",
    "sns.boxplot(x='end_manch', y='log_trip_duration', data=df4, palette='muted')\n",
    "plt.title('Зависимость Логарифма времени поездки от факта окончания поездки в Манхеттене', fontsize=15)\n",
    "plt.xlabel('Поездка закончилась в Манхеттене', fontsize=13)\n",
    "plt.ylabel('Логарифм длительности поездок')\n",
    "plt.tight_layout()\n",
    "plt.show()"
   ]
  },
  {
   "cell_type": "markdown",
   "metadata": {},
   "source": [
    "Похожая картина, те же причины"
   ]
  },
  {
   "cell_type": "code",
   "execution_count": null,
   "metadata": {},
   "outputs": [],
   "source": [
    "plt.figure(figsize=(10, 8))\n",
    "sns.set_theme(style=\"whitegrid\")\n",
    "\n",
    "sns.boxplot(x='start_airport_kennedy', y='log_trip_duration', data=df4, palette='muted')\n",
    "plt.title('Зависимость Логарифма времени поездки от факта начала поездки в районе аэропорта им. Кеннеди', fontsize=15)\n",
    "plt.xlabel('Поездка началась в районе аэропорта им. Кеннеди', fontsize=13)\n",
    "plt.ylabel('Логарифм длительности поездок')\n",
    "plt.tight_layout()\n",
    "plt.show()"
   ]
  },
  {
   "cell_type": "markdown",
   "metadata": {},
   "source": [
    "Люди, прилетевшие в Нью-Йорк на самолете, заказывают такси на дальние расстояния (например, до гостиницы). Поэтому для района аэропорта длительность поездок существенно выше чем в среднем по городу"
   ]
  },
  {
   "cell_type": "code",
   "execution_count": null,
   "metadata": {},
   "outputs": [],
   "source": [
    "plt.figure(figsize=(10, 8))\n",
    "sns.set_theme(style=\"whitegrid\")\n",
    "\n",
    "sns.boxplot(x='end_airport_kennedy', y='log_trip_duration', data=df4, palette='muted')\n",
    "plt.title('Зависимость Логарифма времени поездки от факта окончания поездки в районе аэропорта им. Кеннеди', fontsize=15)\n",
    "plt.xlabel('Поездка закончилась в районе аэропорта им. Кеннеди', fontsize=13)\n",
    "plt.ylabel('Логарифм длительности поездок')\n",
    "plt.tight_layout()\n",
    "plt.show()"
   ]
  },
  {
   "cell_type": "markdown",
   "metadata": {},
   "source": [
    "Похожая картина. До аэропорта люди добираются зачастую издалека"
   ]
  },
  {
   "cell_type": "code",
   "execution_count": null,
   "metadata": {},
   "outputs": [],
   "source": [
    "plt.figure(figsize=(10, 8))\n",
    "sns.set_theme(style=\"whitegrid\")\n",
    "\n",
    "sns.boxplot(x='start_place_3', y='log_trip_duration', data=df4, palette='muted')\n",
    "plt.title('Зависимость Логарифма времени поездки от факта начала поездки в районе Edo Seaplane Base', fontsize=15)\n",
    "plt.xlabel('Поездка началась в районе Edo Seaplane Base', fontsize=13)\n",
    "plt.ylabel('Логарифм длительности поездок')\n",
    "plt.tight_layout()\n",
    "plt.show()"
   ]
  },
  {
   "cell_type": "markdown",
   "metadata": {},
   "source": [
    " Здесь разница не такая ощутимая, да и я сходу немогу придумать причин, почкму поездки, начинающиеся в районе базы гидросамолетов в среднем менее долгие"
   ]
  },
  {
   "cell_type": "code",
   "execution_count": null,
   "metadata": {},
   "outputs": [],
   "source": [
    "plt.figure(figsize=(10, 8))\n",
    "sns.set_theme(style=\"whitegrid\")\n",
    "\n",
    "sns.boxplot(x='end_place_3', y='log_trip_duration', data=df4, palette='muted')\n",
    "plt.title('Зависимость Логарифма времени поездки от факта окончания поездки в районе Edo Seaplane Base', fontsize=15)\n",
    "plt.xlabel('Поездка закончилась в районе Edo Seaplane Base', fontsize=13)\n",
    "plt.ylabel('Логарифм длительности поездок')\n",
    "plt.tight_layout()\n",
    "plt.show()"
   ]
  },
  {
   "cell_type": "markdown",
   "metadata": {
    "id": "c0F99WCzEoGK"
   },
   "source": [
    "**Вопрос**: судя по графикам, как вы думаете, хорошими ли получились эти признаки?"
   ]
  },
  {
   "cell_type": "markdown",
   "metadata": {},
   "source": [
    "Да, **признаки получились очень хорошими**, расписал подробнее выше"
   ]
  },
  {
   "cell_type": "markdown",
   "metadata": {
    "id": "s9EYWEqiEoGK"
   },
   "source": [
    "<img src=\"https://www.dropbox.com/s/xson9nukz5hba7c/map.png?raw=1\" align=\"right\" width=\"20%\" style=\"margin-left: 20px; margin-bottom: 20px\">\n",
    "\n",
    "**Задание 9 (1 балл)**. Сейчас мы почти что не используем сами значения координат. На это есть несколько причин: по отдельности рассматривать широту и долготу не имеет особого смысла, стоит рассматривать их вместе. Во-вторых, понятно, что зависимость между нашим таргетом и координатами не линейная. Чтобы как-то использовать координаты, можно прибегнуть к следующему трюку: обрамим область с наибольшим количеством поездок прямоугольником (как на рисунке). Разобьем этот прямоугольник на ячейки. Каждой точке сопоставим номер ее ячейки, а тем точкам, что не попали ни в одну из ячеек, сопоставим значение -1.\n",
    "\n",
    "Напишите трансформер, который сначала разбивает показанную на рисунке область на ячейки, а затем создает два признака: номер ячейки, в которой началась поездка, и номер ячейки, в которой закончилась поездка. Количество строк и столбцов выберите самостоятельно.\n",
    "\n",
    "Обратите внимание, что все вычисления должны быть векторизованными, трансформер не должен модифицировать передаваемую ему выборку inplace, а все необходимые статистики (если они вдруг нужны) нужно считать только по обучающей выборке в методе `fit`:"
   ]
  },
  {
   "cell_type": "markdown",
   "metadata": {},
   "source": [
    "**В написании трансформера мне помог deepseek**"
   ]
  },
  {
   "cell_type": "code",
   "execution_count": null,
   "metadata": {
    "id": "uS-nwBvcEoGK"
   },
   "outputs": [],
   "source": [
    "from sklearn.base import BaseEstimator, TransformerMixin\n",
    "import numpy as np\n",
    "import folium\n",
    "\n",
    "class MapGridTransformer(BaseEstimator, TransformerMixin):\n",
    "    def __init__(self, n_rows=10, n_cols=6, quantile_low=0.05, quantile_high=0.95):\n",
    "        self.n_rows = n_rows\n",
    "        self.n_cols = n_cols\n",
    "        self.quantile_low = quantile_low\n",
    "        self.quantile_high = quantile_high\n",
    "        \n",
    "    def show_map(self, X_sample=None, sample_size=1000):\n",
    "        \n",
    "        center_lat = (self.lat_min + self.lat_max) / 2\n",
    "        center_lon = (self.lon_min + self.lon_max) / 2\n",
    "        \n",
    "        m = folium.Map(location=[center_lat, center_lon], zoom_start=12)\n",
    "        \n",
    "        folium.Rectangle(\n",
    "            bounds=[[self.lat_min, self.lon_min], [self.lat_max, self.lon_max]],\n",
    "            color='red',\n",
    "            fill=False,\n",
    "            weight=3,\n",
    "            popup=f\"Main Area: {self.lat_min:.4f}-{self.lat_max:.4f} lat, {self.lon_min:.4f}-{self.lon_max:.4f} lon\"\n",
    "        ).add_to(m)\n",
    "        \n",
    "        for i in range(self.n_rows + 1):\n",
    "            for j in range(self.n_cols + 1):\n",
    "                lat = self.lat_min + i * self.lat_step\n",
    "                lon = self.lon_min + j * self.lon_step\n",
    "                \n",
    "                if i < self.n_rows and j < self.n_cols:\n",
    "                    cell_bounds = [\n",
    "                        [self.lat_min + i * self.lat_step, self.lon_min + j * self.lon_step],\n",
    "                        [self.lat_min + (i+1) * self.lat_step, self.lon_min + (j+1) * self.lon_step]\n",
    "                    ]\n",
    "                    \n",
    "                    folium.Rectangle(\n",
    "                        bounds=cell_bounds,\n",
    "                        color='blue',\n",
    "                        fill=False,\n",
    "                        weight=1,\n",
    "                        opacity=0.5,\n",
    "                        popup=f\"Cell ({i},{j})\"\n",
    "                    ).add_to(m)\n",
    "        \n",
    "        if X_sample is not None:\n",
    "            if len(X_sample) > sample_size:\n",
    "                X_sample = X_sample.sample(sample_size)\n",
    "                \n",
    "            for _, row in X_sample.iterrows():\n",
    "                folium.CircleMarker(\n",
    "                    location=[row['pickup_latitude'], row['pickup_longitude']],\n",
    "                    radius=2,\n",
    "                    color='green',\n",
    "                    fill=True,\n",
    "                    fillColor='green',\n",
    "                    opacity=0.6,\n",
    "                    popup=f\"Lat: {row['pickup_latitude']:.4f}, Lon: {row['pickup_longitude']:.4f}\"\n",
    "                ).add_to(m)\n",
    "        \n",
    "        folium.Marker([self.lat_min, self.lon_min], popup='SW Corner').add_to(m)\n",
    "        folium.Marker([self.lat_max, self.lon_max], popup='NE Corner').add_to(m)\n",
    "        \n",
    "        return m\n",
    "\n",
    "    def fit(self, X, y=None):\n",
    "    \n",
    "        lat = X['pickup_latitude']\n",
    "        lon = X['pickup_longitude']\n",
    "    \n",
    "        self.lat_min = lat.quantile(0.0005)  \n",
    "        self.lat_max = lat.quantile(0.9995)  \n",
    "        self.lon_min = lon.quantile(0.0005)\n",
    "        self.lon_max = lon.quantile(0.9995)\n",
    "    \n",
    "        lat_median = lat.median()\n",
    "        lon_median = lon.median()\n",
    "        lat_range = (self.lat_max - self.lat_min) * 0.3  \n",
    "        lon_range = (self.lon_max - self.lon_min) * 0.3\n",
    "    \n",
    "        self.lat_min = lat_median - lat_range / 2\n",
    "        self.lat_max = lat_median + lat_range / 2\n",
    "        self.lon_min = lon_median - lon_range / 2\n",
    "        self.lon_max = lon_median + lon_range / 2\n",
    "    \n",
    "        self.lat_step = (self.lat_max - self.lat_min) / self.n_rows\n",
    "        self.lon_step = (self.lon_max - self.lon_min) / self.n_cols\n",
    "    \n",
    "        return self\n",
    "\n",
    "    def transform(self, X, y=None):\n",
    "        X_transformed = X.copy()\n",
    "        \n",
    "        pickup_lat_idx = ((X['pickup_latitude'] - self.lat_min) // self.lat_step).astype(int)\n",
    "        pickup_lon_idx = ((X['pickup_longitude'] - self.lon_min) // self.lon_step).astype(int)\n",
    "        \n",
    "        dropoff_lat_idx = ((X['dropoff_latitude'] - self.lat_min) // self.lat_step).astype(int)\n",
    "        dropoff_lon_idx = ((X['dropoff_longitude'] - self.lon_min) // self.lon_step).astype(int)\n",
    "        \n",
    "        pickup_in_bounds = (\n",
    "            (X['pickup_latitude'] >= self.lat_min) & (X['pickup_latitude'] <= self.lat_max) &\n",
    "            (X['pickup_longitude'] >= self.lon_min) & (X['pickup_longitude'] <= self.lon_max)\n",
    "        )\n",
    "        \n",
    "        dropoff_in_bounds = (\n",
    "            (X['dropoff_latitude'] >= self.lat_min) & (X['dropoff_latitude'] <= self.lat_max) &\n",
    "            (X['dropoff_longitude'] >= self.lon_min) & (X['dropoff_longitude'] <= self.lon_max)\n",
    "        )\n",
    "        \n",
    "        X_transformed['pickup_cell_id'] = np.where(\n",
    "            pickup_in_bounds,\n",
    "            pickup_lat_idx * self.n_cols + pickup_lon_idx,\n",
    "            -1\n",
    "        )\n",
    "        \n",
    "        X_transformed['dropoff_cell_id'] = np.where(\n",
    "            dropoff_in_bounds,\n",
    "            dropoff_lat_idx * self.n_cols + dropoff_lon_idx,\n",
    "            -1\n",
    "        )\n",
    "        \n",
    "        return X_transformed"
   ]
  },
  {
   "cell_type": "code",
   "execution_count": null,
   "metadata": {},
   "outputs": [],
   "source": [
    "df4.columns"
   ]
  },
  {
   "cell_type": "code",
   "execution_count": null,
   "metadata": {},
   "outputs": [],
   "source": [
    "df9 = df4[['vendor_id', 'pickup_datetime', 'passenger_count',\n",
    "       'pickup_longitude', 'pickup_latitude', 'dropoff_longitude',\n",
    "       'dropoff_latitude', 'store_and_fwd_flag', 'log_trip_duration',\n",
    "       'pickup_date', 'day_of_week', 'month', 'hour', 'abnormal_period_1',\n",
    "       'abnormal_period_2', 'day_number', 'trip_duration', 'trip_duration_h',\n",
    "       'haversine', 'speed_mean', 'traffic_jams_time', 'free_roads_time',\n",
    "       'start_manch', 'end_manch', 'start_airport_kennedy',\n",
    "       'end_airport_kennedy', 'start_place_3', 'end_place_3']]\n",
    "\n",
    "X9 = df9[['vendor_id', 'pickup_datetime', 'passenger_count',\n",
    "       'pickup_longitude', 'pickup_latitude', 'dropoff_longitude',\n",
    "       'dropoff_latitude', 'store_and_fwd_flag',\n",
    "       'pickup_date', 'day_of_week', 'month', 'hour', 'abnormal_period_1',\n",
    "       'abnormal_period_2', 'day_number',\n",
    "       'haversine', 'speed_mean', 'traffic_jams_time', 'free_roads_time',\n",
    "       'start_manch', 'end_manch', 'start_airport_kennedy',\n",
    "       'end_airport_kennedy', 'start_place_3', 'end_place_3']]\n",
    "y9 = df9['log_trip_duration']\n",
    "\n",
    "X9_train, X9_test, y9_train, y9_test = train_test_split(X9, y9, random_state=104, test_size=0.3, shuffle=True)"
   ]
  },
  {
   "cell_type": "code",
   "execution_count": null,
   "metadata": {},
   "outputs": [],
   "source": [
    "transformer = MapGridTransformer(n_rows=8, n_cols=4)\n",
    "transformer.fit(X9_train)\n",
    "\n",
    "map_obj = transformer.show_map(X9_train.sample(500))  # 500 случайных точек\n",
    "map_obj.save('grid_map.html')  \n",
    "map_obj"
   ]
  },
  {
   "cell_type": "markdown",
   "metadata": {},
   "source": [
    "## Добавляю новые признаки"
   ]
  },
  {
   "cell_type": "code",
   "execution_count": null,
   "metadata": {},
   "outputs": [],
   "source": [
    "X9_train_transformed = transformer.transform(X9_train)\n",
    "X9_test_transformed = transformer.transform(X9_test)"
   ]
  },
  {
   "cell_type": "code",
   "execution_count": null,
   "metadata": {},
   "outputs": [],
   "source": [
    "X9_train_transformed.head(2)"
   ]
  },
  {
   "cell_type": "markdown",
   "metadata": {
    "id": "HyaEBoUNEoGK"
   },
   "source": [
    "**Задание 10 (0.25 балла)**. Обучите `Ridge`-регрессию со стандартными параметрами на признаках, которые мы выделили к текущему моменту. Категориальные признаки закодируйте через one-hot-кодирование, числовые признаки отмасштабируйте."
   ]
  },
  {
   "cell_type": "code",
   "execution_count": null,
   "metadata": {},
   "outputs": [],
   "source": [
    "X9_train_transformed.columns"
   ]
  },
  {
   "cell_type": "code",
   "execution_count": null,
   "metadata": {},
   "outputs": [],
   "source": [
    "# подготовка признаков\n",
    "\n",
    "categorical_features = ['day_of_week', 'month', 'hour', 'abnormal_period_1', 'abnormal_period_2', 'traffic_jams_time', 'free_roads_time', 'start_manch',\n",
    "       'end_manch', 'start_airport_kennedy', 'end_airport_kennedy',\n",
    "       'start_place_3', 'end_place_3', 'pickup_cell_id', 'dropoff_cell_id']  # категориальные признаки\n",
    "\n",
    "numeric_features = ['day_number'] # числовые признаки\n",
    "\n",
    "\n",
    "preprocessor9 = ColumnTransformer(\n",
    "    transformers=[\n",
    "        ('num', StandardScaler(), numeric_features),\n",
    "        ('cat', OneHotEncoder(sparse_output=False, handle_unknown='ignore'), categorical_features)\n",
    "    ])\n",
    "\n",
    "\n",
    "preprocessor9.fit(X9_train_transformed)\n",
    "X9_train_transformed = preprocessor9.transform(X9_train_transformed)\n",
    "X9_test_transformed = preprocessor9.transform(X9_test_transformed)"
   ]
  },
  {
   "cell_type": "code",
   "execution_count": null,
   "metadata": {},
   "outputs": [],
   "source": [
    "# модель\n",
    "\n",
    "ridge9 = Ridge() # с параметрами по умолчанию\n",
    "ridge9.fit(X9_train_transformed, y9_train)"
   ]
  },
  {
   "cell_type": "code",
   "execution_count": null,
   "metadata": {},
   "outputs": [],
   "source": [
    "# считаем R^2\n",
    "\n",
    "y_pred9 = ridge9.predict(X9_test_transformed)\n",
    "\n",
    "r2_2 = round(r2_score(y9_test, y_pred9), 4)\n",
    "print(f'R^2 в Ridge регрессии с параметрами по умолчанию, временными признаками и признаками на основе координат = {round(r2_score(y9_test, y_pred9), 4)}')"
   ]
  },
  {
   "cell_type": "markdown",
   "metadata": {},
   "source": [
    "C добавлением признаков на основе координат **R2 значительно вырос**"
   ]
  },
  {
   "cell_type": "code",
   "execution_count": null,
   "metadata": {},
   "outputs": [],
   "source": [
    "# считаем rmsle\n",
    "\n",
    "rmsle2 = rmsle(y9_test, y_pred9)"
   ]
  },
  {
   "cell_type": "code",
   "execution_count": null,
   "metadata": {},
   "outputs": [],
   "source": [
    "results_df = pd.concat([\n",
    "    results_df,\n",
    "    pd.DataFrame([{'Model': 'Ridge с временными признаками и признаками на основе координат', 'RMSLE': rmsle2, 'R2': r2_2}])\n",
    "], ignore_index=True)\n",
    "\n",
    "\n",
    "display(results_df.style\n",
    "    .background_gradient(subset=['RMSLE'], cmap='RdYlGn_r')  \n",
    "    .background_gradient(subset=['R2'], cmap='RdYlGn')      \n",
    ")"
   ]
  },
  {
   "cell_type": "code",
   "execution_count": null,
   "metadata": {},
   "outputs": [],
   "source": [
    "# посмотрим на коэффициенты:\n",
    "coefficients = ridge9.coef_\n",
    "feature_names = preprocessor9.get_feature_names_out()\n",
    "feature_importance = pd.DataFrame({'feature': feature_names, 'coefficient': coefficients})\n",
    "feature_importance = feature_importance.sort_values('coefficient', key=abs, ascending=False)\n",
    "\n",
    "plt.figure(figsize=(12, 8))\n",
    "sns.barplot(x='coefficient', y='feature', data=feature_importance.head(20))\n",
    "plt.xlabel('Значение коэффициента')\n",
    "plt.tight_layout()\n",
    "plt.show()"
   ]
  },
  {
   "cell_type": "code",
   "execution_count": null,
   "metadata": {
    "id": "U5Yq8pwhEoGK"
   },
   "outputs": [],
   "source": [
    "plt.figure(figsize=(10, 6))\n",
    "plt.scatter(y9_test, y_pred9, alpha=0.5)\n",
    "plt.plot([y_test.min(), y_test.max()], [y_test.min(), y_test.max()], 'r--')\n",
    "plt.xlabel('Реальные значения из тестовой выборки')\n",
    "plt.ylabel('Предсказанные значения из тестовой выборки')\n",
    "plt.show()"
   ]
  },
  {
   "cell_type": "markdown",
   "metadata": {},
   "source": [
    "**Картина чуть лучше, уже не просто прямая горизонтальная линия**"
   ]
  },
  {
   "cell_type": "markdown",
   "metadata": {
    "id": "KNVvdsEBEoGK"
   },
   "source": [
    "## Часть 3. Изучаем оставшиеся признаки (1 балл)\n",
    "\n",
    "**Задание 11 (0.75 баллов)**. У нас осталось еще 3 признака, которые мы не исследовали: `vendor_id`, `passenger_count` и `store_and_fwd_flag`.\n",
    "\n",
    "**Вопрос**: Подумайте, почему каждый из этих признаков может быть потенциально полезным.\n",
    "\n",
    "Посчитайте, сколько есть уникальных значений у каждого из этих признаков:"
   ]
  },
  {
   "cell_type": "markdown",
   "metadata": {},
   "source": [
    "## vendor_id"
   ]
  },
  {
   "cell_type": "code",
   "execution_count": null,
   "metadata": {
    "id": "QsRW9fh0EoGK"
   },
   "outputs": [],
   "source": [
    "df4.vendor_id.value_counts()"
   ]
  },
  {
   "cell_type": "markdown",
   "metadata": {},
   "source": [
    "Этот признак может быть потенциально полезен потому, что операторы могут работать в разных частях города => среднее время поездки может отличаться для них. Проверим это визуализацией"
   ]
  },
  {
   "cell_type": "code",
   "execution_count": null,
   "metadata": {},
   "outputs": [],
   "source": [
    "vendor = df4.groupby('vendor_id')['trip_duration'].mean().reset_index(name = 'q_trips')\n",
    "#vendor\n",
    "\n",
    "plt.figure(figsize=(10, 7))\n",
    "sns.barplot(data = vendor, x = 'vendor_id', y = 'q_trips', color = 'orange')\n",
    "\n",
    "plt.title('Средняя длительность поездок по перевозчикам')\n",
    "plt.xlabel('Перевозчик')\n",
    "plt.ylabel('Средняя длительность поездок')\n",
    "plt.show()"
   ]
  },
  {
   "cell_type": "markdown",
   "metadata": {},
   "source": [
    "Гипотеза подтвердилась"
   ]
  },
  {
   "cell_type": "markdown",
   "metadata": {},
   "source": [
    "## passenger_count"
   ]
  },
  {
   "cell_type": "code",
   "execution_count": null,
   "metadata": {},
   "outputs": [],
   "source": [
    "df4.passenger_count.value_counts()"
   ]
  },
  {
   "cell_type": "markdown",
   "metadata": {},
   "source": [
    "Пока не приходит в голову чем может быть полезен признак. Построим аналогичную визуализацию"
   ]
  },
  {
   "cell_type": "code",
   "execution_count": null,
   "metadata": {},
   "outputs": [],
   "source": [
    "vendor = df4.groupby('passenger_count')['trip_duration'].mean().reset_index(name = 'q_trips')\n",
    "#vendor\n",
    "\n",
    "plt.figure(figsize=(10, 7))\n",
    "sns.barplot(data = vendor, x = 'passenger_count', y = 'q_trips', color = 'orange')\n",
    "\n",
    "plt.title('Средняя длительность поездок по количеству пассажиров')\n",
    "plt.xlabel('Количество пассажиров')\n",
    "plt.ylabel('Средняя длительность поездок')\n",
    "plt.show()"
   ]
  },
  {
   "cell_type": "markdown",
   "metadata": {},
   "source": [
    "Для 7+ пассажиров очень мало наблюдений, поэтому тут выводы сделать сложно.\\\n",
    "Для остального количества пассажиорв заметен возрастающий тренд длительности поездки по количеству пассажиров.\\\n",
    "Это может быть связано с тем, что:\n",
    "1) Машина медленнее едет при увеличении нагрузки\n",
    "2) Когда машину заказывают на большое количество пассажиров, чаще едут дольше, так как маршрут может содержать несколько остановок."
   ]
  },
  {
   "cell_type": "markdown",
   "metadata": {},
   "source": [
    "## store_and_fwd_flag"
   ]
  },
  {
   "cell_type": "code",
   "execution_count": null,
   "metadata": {},
   "outputs": [],
   "source": [
    "df4.store_and_fwd_flag.value_counts()"
   ]
  },
  {
   "cell_type": "code",
   "execution_count": null,
   "metadata": {},
   "outputs": [],
   "source": [
    "store = df4.groupby('store_and_fwd_flag')['trip_duration'].mean().reset_index(name = 'q_trips')\n",
    "#vendor\n",
    "\n",
    "plt.figure(figsize=(10, 7))\n",
    "sns.barplot(data = store, x = 'store_and_fwd_flag', y = 'q_trips', color = 'orange')\n",
    "\n",
    "plt.title('Средняя длительность поездок по факту отправки информации в систему')\n",
    "plt.xlabel('Факт отправки информации в систему')\n",
    "plt.ylabel('Средняя длительность поездок')\n",
    "plt.show()"
   ]
  },
  {
   "cell_type": "markdown",
   "metadata": {
    "id": "_DF_LaGNEoGL"
   },
   "source": [
    "Постройте \"ящики с усами\" распределений логарифма времени поездки в зависимости от значений каждого из признаков"
   ]
  },
  {
   "cell_type": "code",
   "execution_count": null,
   "metadata": {},
   "outputs": [],
   "source": [
    "plt.figure(figsize=(10, 8))\n",
    "sns.set_theme(style=\"whitegrid\")\n",
    "\n",
    "sns.boxplot(x='passenger_count', y='log_trip_duration', data=df4, palette='muted')\n",
    "plt.title('Средний логарифм длительности поездок по количеству пассажиров', fontsize=15)\n",
    "plt.xlabel('Количество пассажиров', fontsize=13)\n",
    "plt.ylabel('Логарифм длительности поездок')\n",
    "plt.tight_layout()\n",
    "plt.show()"
   ]
  },
  {
   "cell_type": "code",
   "execution_count": null,
   "metadata": {},
   "outputs": [],
   "source": [
    "plt.figure(figsize=(10, 8))\n",
    "sns.set_theme(style=\"whitegrid\")\n",
    "\n",
    "sns.boxplot(x='vendor_id', y='log_trip_duration', data=df4, palette='muted')\n",
    "plt.title('Средний логарифм длительности поездок по перевозчику', fontsize=15)\n",
    "plt.xlabel('Перевозчик', fontsize=13)\n",
    "plt.ylabel('Логарифм длительности поездок')\n",
    "plt.tight_layout()\n",
    "plt.show()"
   ]
  },
  {
   "cell_type": "markdown",
   "metadata": {},
   "source": [
    "По перевозчику распределение почти идентичное, логарифм нивелирует разрыв"
   ]
  },
  {
   "cell_type": "code",
   "execution_count": null,
   "metadata": {},
   "outputs": [],
   "source": [
    "plt.figure(figsize=(10, 8))\n",
    "sns.set_theme(style=\"whitegrid\")\n",
    "\n",
    "sns.boxplot(x='store_and_fwd_flag', y='log_trip_duration', data=df4, palette='muted')\n",
    "plt.title('Средний логарифм длительности поездок по факту отправки информации в систему', fontsize=15)\n",
    "plt.xlabel('Факт отправки информации в систему', fontsize=13)\n",
    "plt.ylabel('Логарифм длительности поездок')\n",
    "plt.tight_layout()\n",
    "plt.show()"
   ]
  },
  {
   "cell_type": "markdown",
   "metadata": {
    "id": "1bsFyHnlEoGL"
   },
   "source": [
    "Переведите признаки `vendor_id` и `store_and_fwd_flag` в значения $\\{0;1\\}$"
   ]
  },
  {
   "cell_type": "code",
   "execution_count": null,
   "metadata": {
    "id": "uXJWIQ_0EoGL"
   },
   "outputs": [],
   "source": [
    "df4['vendor_id'] = np.where(df4['vendor_id']==1, 0, 1)\n",
    "\n",
    "df4['store_and_fwd_flag'] = np.where(df4['store_and_fwd_flag']=='N', 0, 1)"
   ]
  },
  {
   "cell_type": "markdown",
   "metadata": {
    "id": "h5rCTsxOEoGL"
   },
   "source": [
    "**Вопрос**: Основываясь на графиках выше, как вы думаете, будут ли эти признаки сильными?"
   ]
  },
  {
   "cell_type": "markdown",
   "metadata": {},
   "source": [
    "Судя по всему, **эти признаки не будут очень сильными**"
   ]
  },
  {
   "cell_type": "markdown",
   "metadata": {
    "id": "8KriIMoSEoGL"
   },
   "source": [
    "**Задание 12 (0.25 баллов)**. Проверьте свои предположения, обучив модель в том числе и на этих трех признаках. Обучайте `Ridge`-регрессию со стандартными параметрами. Категориальные признаки закодируйте one-hot-кодированием, а численные отмасштабируйте."
   ]
  },
  {
   "cell_type": "markdown",
   "metadata": {},
   "source": [
    "Я считаю, что можно внести редкие значения passenger count в одну категорию, и рассматривать его как категориальный"
   ]
  },
  {
   "cell_type": "code",
   "execution_count": null,
   "metadata": {},
   "outputs": [],
   "source": [
    "X12_train_transformed = transformer.transform(X9_train)\n",
    "X12_test_transformed = transformer.transform(X9_test)\n",
    "\n",
    "\n"
   ]
  },
  {
   "cell_type": "code",
   "execution_count": null,
   "metadata": {},
   "outputs": [],
   "source": [
    "condition_mod = (X12_train_transformed['passenger_count'].isin([0,7,8,9]))\n",
    "condition_mod1 = (X12_test_transformed['passenger_count'].isin([0,7,8,9]))\n",
    "\n",
    "X12_train_transformed['passenger_count_mod'] = np.where(condition_mod, '7+', X12_train_transformed['passenger_count']) #X12_train_transformed['passenger_count']\n",
    "X12_test_transformed['passenger_count_mod'] = np.where(condition_mod1, '7+', X12_test_transformed['passenger_count']) #X12_train_transformed['passenger_count']"
   ]
  },
  {
   "cell_type": "code",
   "execution_count": null,
   "metadata": {},
   "outputs": [],
   "source": [
    "X12_train_transformed.columns"
   ]
  },
  {
   "cell_type": "code",
   "execution_count": null,
   "metadata": {},
   "outputs": [],
   "source": [
    "X12_train_transformed.drop('passenger_count', axis=1, inplace=True)\n",
    "X12_test_transformed.drop('passenger_count', axis=1, inplace=True)"
   ]
  },
  {
   "cell_type": "code",
   "execution_count": null,
   "metadata": {},
   "outputs": [],
   "source": [
    "# подготовка признаков\n",
    "\n",
    "categorical_features = ['day_of_week', 'month', 'hour', 'abnormal_period_1', 'abnormal_period_2', 'traffic_jams_time', 'free_roads_time', 'start_manch',\n",
    "       'end_manch', 'start_airport_kennedy', 'end_airport_kennedy',\n",
    "       'start_place_3', 'end_place_3', 'pickup_cell_id', 'dropoff_cell_id', 'passenger_count_mod', 'store_and_fwd_flag', 'vendor_id']  # категориальные признаки\n",
    "\n",
    "numeric_features = ['day_number'] # числовые признаки\n",
    "\n",
    "\n",
    "preprocessor12 = ColumnTransformer(\n",
    "    transformers=[\n",
    "        ('num', StandardScaler(), numeric_features),\n",
    "        ('cat', OneHotEncoder(sparse_output=False, handle_unknown='ignore'), categorical_features)\n",
    "    ])\n",
    "\n",
    "\n",
    "preprocessor12.fit(X12_train_transformed)\n",
    "X12_train_transformed = preprocessor12.transform(X12_train_transformed)\n",
    "X12_test_transformed = preprocessor12.transform(X12_test_transformed)"
   ]
  },
  {
   "cell_type": "code",
   "execution_count": null,
   "metadata": {},
   "outputs": [],
   "source": [
    "# модель\n",
    "\n",
    "ridge12 = Ridge() # с параметрами по умолчанию\n",
    "ridge12.fit(X12_train_transformed, y9_train)"
   ]
  },
  {
   "cell_type": "code",
   "execution_count": null,
   "metadata": {},
   "outputs": [],
   "source": [
    "# считаем R^2\n",
    "\n",
    "y_pred12 = ridge12.predict(X12_test_transformed)\n",
    "\n",
    "r2_3 = round(r2_score(y9_test, y_pred12), 4)\n",
    "#print(f'R^2 в Ridge регрессии с параметрами по умолчанию, временными признаками, признаками на основе координат и еще 3мя признаками = {round(r2_score(y9_test, y_pred9), 4)}')\n",
    "\n",
    "# считаем rmsle\n",
    "rmsle3 = rmsle(y9_test, y_pred12)\n",
    "\n",
    "results_df = pd.concat([\n",
    "    results_df,\n",
    "    pd.DataFrame([{'Model': 'Ridge с временными признаками, признаками на основе координат и еще 3мя признаками', 'RMSLE': rmsle3, 'R2': r2_3}])\n",
    "], ignore_index=True)\n",
    "\n",
    "\n",
    "display(results_df.style\n",
    "    .background_gradient(subset=['RMSLE'], cmap='RdYlGn_r')  \n",
    "    .background_gradient(subset=['R2'], cmap='RdYlGn')      \n",
    ")"
   ]
  },
  {
   "cell_type": "code",
   "execution_count": null,
   "metadata": {},
   "outputs": [],
   "source": [
    "plt.figure(figsize=(10, 6))\n",
    "plt.scatter(y9_test, y_pred12, alpha=0.5)\n",
    "plt.plot([y9_test.min(), y9_test.max()], [y9_test.min(), y9_test.max()], 'r--')\n",
    "plt.xlabel('Реальные значения из тестовой выборки')\n",
    "plt.ylabel('Предсказанные значения из тестовой выборки')\n",
    "plt.show()"
   ]
  },
  {
   "cell_type": "markdown",
   "metadata": {
    "id": "8af4FGdmEoGL"
   },
   "source": [
    "Если признаки не дали какого-то ощутимого улучшения метрики, их можно выбросить из данных."
   ]
  },
  {
   "cell_type": "markdown",
   "metadata": {},
   "source": [
    "**Улучшение совсем незначительное**, поэтому не буду в дальнейшем использовать эти признаки"
   ]
  },
  {
   "cell_type": "markdown",
   "metadata": {
    "id": "TzcV-A9fEoGL"
   },
   "source": [
    "## Часть 4. Улучшаем модель (3 балла)"
   ]
  },
  {
   "cell_type": "markdown",
   "metadata": {
    "id": "Y_WBQCHmEoGL"
   },
   "source": [
    "**Задание 13 (1 балл)**. В наших данных есть нетипичные объекты (выбросы, или outliers): с аномально маленьким времени поездки, с очень большим пройденным расстоянием или очень большими остатками регрессии. В этом задании предлагается исключить такие объекты из обучающей выборки. Для этого нарисуйте гистограммы распределения упомянутых выше величин, выберите объекты, которые можно назвать выбросами, и очистите __обучающую выборку__ от них.\n",
    "\n",
    "Отметим, что хотя эти объекты и выглядят как выбросы, в тестовой выборке тоже скорее всего будут объекты с такими же странными значениями целевой переменной и/или признаков. Поэтому, возможно, чистка обучающей выборки приведёт к ухудшению качества на тесте. Тем не менее, всё равно лучше удалять выбросы из обучения, чтобы модель получалась более разумной и интерпретируемой."
   ]
  },
  {
   "cell_type": "code",
   "execution_count": null,
   "metadata": {},
   "outputs": [],
   "source": [
    "X13_train_transformed = transformer.transform(X9_train)\n",
    "X13_test_transformed = transformer.transform(X9_test)"
   ]
  },
  {
   "cell_type": "code",
   "execution_count": null,
   "metadata": {},
   "outputs": [],
   "source": [
    "X13_train_transformed.columns"
   ]
  },
  {
   "cell_type": "markdown",
   "metadata": {},
   "source": [
    "## Время поездки"
   ]
  },
  {
   "cell_type": "code",
   "execution_count": null,
   "metadata": {},
   "outputs": [],
   "source": [
    "X13_train_transformed.shape"
   ]
  },
  {
   "cell_type": "code",
   "execution_count": null,
   "metadata": {},
   "outputs": [],
   "source": [
    "X13_train_transformed.head()"
   ]
  },
  {
   "cell_type": "code",
   "execution_count": null,
   "metadata": {},
   "outputs": [],
   "source": [
    "y9_train_basic = np.expm1(y9_train) # перевожу в изначальную шкалу - длительность в секундах\n",
    "plt.figure(figsize=(12,8))\n",
    "\n",
    "sns.histplot(y9_train_basic, bins=30, kde=True, color=\"#0C742B\", edgecolor='red')\n",
    "\n",
    "plt.axvline(y9_train_basic.median(), color='yellow', linestyle='--', linewidth=2, label=f'Медиана: {y9_train_basic.median():.1f}')\n",
    "plt.axvline(y9_train_basic.mean(), color='red', linestyle='--', linewidth=2, label=f'Среднее: {y9_train_basic.mean():.1f}')\n",
    "\n",
    "plt.xlabel('Продолжительность поездки')\n",
    "plt.ylabel('Частота')\n",
    "plt.title('Гистограмма распределения продолжительности поездок')\n",
    "plt.legend()\n",
    "plt.show()"
   ]
  },
  {
   "cell_type": "code",
   "execution_count": null,
   "metadata": {},
   "outputs": [],
   "source": [
    "wq = pd.DataFrame()\n",
    "wq['trip_dur'] = y9_train_basic\n",
    "wq['trip_dur'].describe()"
   ]
  },
  {
   "cell_type": "code",
   "execution_count": null,
   "metadata": {},
   "outputs": [],
   "source": [
    "wq['trip_dur'].min()"
   ]
  },
  {
   "cell_type": "code",
   "execution_count": null,
   "metadata": {},
   "outputs": [],
   "source": [
    "wq.sort_values(by='trip_dur').head(10)"
   ]
  },
  {
   "cell_type": "code",
   "execution_count": null,
   "metadata": {},
   "outputs": [],
   "source": [
    "wq[wq['trip_dur']<=60].shape[0]"
   ]
  },
  {
   "cell_type": "code",
   "execution_count": null,
   "metadata": {},
   "outputs": [],
   "source": [
    "# посмотрим, сколько поездок по продолжительности быстрее 1 квантиля распределения\n",
    "\n",
    "wq[wq['trip_dur']<=np.quantile(wq['trip_dur'], 0.25)].shape[0] / wq.shape[0]"
   ]
  },
  {
   "cell_type": "markdown",
   "metadata": {},
   "source": [
    "Много неправдоподобных поездок с длительностью меьньше минуты. Скорее всего, большинство из них - это ошибки в данных"
   ]
  },
  {
   "cell_type": "markdown",
   "metadata": {},
   "source": [
    "Я решил **удалить поездки короче 60 секунд**"
   ]
  },
  {
   "cell_type": "code",
   "execution_count": null,
   "metadata": {},
   "outputs": [],
   "source": [
    "np.log1p(60)"
   ]
  },
  {
   "cell_type": "markdown",
   "metadata": {},
   "source": [
    "## Пройденное расстояние"
   ]
  },
  {
   "cell_type": "code",
   "execution_count": null,
   "metadata": {},
   "outputs": [],
   "source": [
    " #расстояние в км\n",
    "plt.figure(figsize=(12,8))\n",
    "\n",
    "sns.histplot(df['haversine'], bins=30, kde=True, color=\"#DA1626\", edgecolor='red')\n",
    "\n",
    "plt.axvline(df['haversine'].median(), color='yellow', linestyle='--', linewidth=2, label=f'Медиана: {df['haversine'].median():.1f}')\n",
    "plt.axvline(df['haversine'].mean(), color='red', linestyle='--', linewidth=2, label=f'Среднее: {df['haversine'].mean():.1f}')\n",
    "\n",
    "plt.xlabel('Пройденное расстояние (км)')\n",
    "plt.ylabel('Частота')\n",
    "plt.title('Гистограмма распределения пройденного расстояния')\n",
    "plt.legend()\n",
    "plt.show()"
   ]
  },
  {
   "cell_type": "code",
   "execution_count": null,
   "metadata": {},
   "outputs": [],
   "source": [
    "df['haversine'].describe()"
   ]
  },
  {
   "cell_type": "code",
   "execution_count": null,
   "metadata": {},
   "outputs": [],
   "source": [
    "df['haversine'].max()"
   ]
  },
  {
   "cell_type": "code",
   "execution_count": null,
   "metadata": {},
   "outputs": [],
   "source": [
    "df[df['haversine'] > 30].shape[0]"
   ]
  },
  {
   "cell_type": "code",
   "execution_count": null,
   "metadata": {},
   "outputs": [],
   "source": [
    "np.quantile(df['haversine'], 0.75)"
   ]
  },
  {
   "cell_type": "code",
   "execution_count": null,
   "metadata": {},
   "outputs": [],
   "source": [
    "df[df['haversine'] > np.quantile(df['haversine'], 0.75)].shape[0]"
   ]
  },
  {
   "cell_type": "markdown",
   "metadata": {},
   "source": [
    "Я решил, что поездки на расстояние > 30 км можем считать выбросами в данной задаче, так как возможны редкие поездки за город, но основной целью по ходу выполнения дз стало моделирование поездок внутри Манхеттена и в ближайшие районы, поэтому **будем считать выбросами поездки на расстояние 30км+**"
   ]
  },
  {
   "cell_type": "markdown",
   "metadata": {},
   "source": [
    "## Остатки регрессии"
   ]
  },
  {
   "cell_type": "code",
   "execution_count": null,
   "metadata": {},
   "outputs": [],
   "source": [
    "y_pred9_train = ridge9.predict(X9_train_transformed)\n"
   ]
  },
  {
   "cell_type": "code",
   "execution_count": null,
   "metadata": {},
   "outputs": [],
   "source": [
    "residuals = y9_train - y_pred9_train\n",
    "\n",
    "# я считаю выбросами осатки > 3 стандартных отклонений\n",
    "residuals_std = residuals.std()\n",
    "outliers_mask = np.abs(residuals) > 3 * residuals_std\n",
    "\n",
    "print(f\"Найдено выбросов: {outliers_mask.sum()}\")\n",
    "print(f\"Доля выбросов: {outliers_mask.mean():.3%}\")"
   ]
  },
  {
   "cell_type": "markdown",
   "metadata": {},
   "source": [
    "Посмотрим еще на выбросы > 2 станд отклонений:"
   ]
  },
  {
   "cell_type": "code",
   "execution_count": null,
   "metadata": {},
   "outputs": [],
   "source": [
    "outliers_mask_2 = np.abs(residuals) > 2 * residuals_std\n",
    "\n",
    "print(f\"Найдено выбросов: {outliers_mask_2.sum()}\")\n",
    "print(f\"Доля выбросов: {outliers_mask_2.mean():.3%}\")"
   ]
  },
  {
   "cell_type": "markdown",
   "metadata": {},
   "source": [
    "Будем считать выбросами превышение на **2 стандартных отклонения**"
   ]
  },
  {
   "cell_type": "markdown",
   "metadata": {},
   "source": [
    "## Удаляю выбросы по 3 критериям"
   ]
  },
  {
   "cell_type": "code",
   "execution_count": null,
   "metadata": {},
   "outputs": [],
   "source": [
    "X13_train_transformed.head(3)"
   ]
  },
  {
   "cell_type": "code",
   "execution_count": null,
   "metadata": {},
   "outputs": [],
   "source": [
    "X13_train_transformed.shape[0], len(y9_train)"
   ]
  },
  {
   "cell_type": "code",
   "execution_count": null,
   "metadata": {},
   "outputs": [],
   "source": [
    "mask = (y9_train >= np.log1p(60))\n",
    "\n",
    "X_train_filtered = X13_train_transformed[mask]\n",
    "y_train_filtered = y9_train[mask]"
   ]
  },
  {
   "cell_type": "code",
   "execution_count": null,
   "metadata": {},
   "outputs": [],
   "source": [
    "X_train_filtered.shape[0], len(y_train_filtered)"
   ]
  },
  {
   "cell_type": "code",
   "execution_count": null,
   "metadata": {},
   "outputs": [],
   "source": [
    "print(f'Наблюдений до очистки от выбросов: {X13_train_transformed.shape[0]}')\n",
    "# время поездки\n",
    "mask_time = (y9_train >= np.log1p(60))\n",
    "X13_train_transformed_filt = X13_train_transformed[mask_time]\n",
    "y9_train_filt = y9_train[mask_time]\n",
    "\n",
    "\n",
    "# пройденное расстояние\n",
    "distance = X13_train_transformed_filt['haversine']\n",
    "mask_distance = (distance <= 30)\n",
    "X13_train_transformed_filt = X13_train_transformed_filt[mask_distance]\n",
    "y9_train_filt = y9_train_filt[mask_distance]\n",
    "\n",
    "\n",
    "# остатки регрессии\n",
    "X13_train_transformed_filt = X13_train_transformed_filt[~outliers_mask_2] \n",
    "y9_train_filt = y9_train_filt[~outliers_mask_2]\n",
    "\n",
    "print(f'Наблюдений после очистки от выбросов: {X13_train_transformed_filt.shape[0]}, очистилось {round(100 - (X13_train_transformed_filt.shape[0] / X13_train_transformed.shape[0])*100, 2)}% данных')"
   ]
  },
  {
   "cell_type": "markdown",
   "metadata": {
    "id": "kEQjHVSyEoGL"
   },
   "source": [
    "Сейчас у нас очень много категориальных признаков. В категориальных признаках могут содержаться редкие категории, обычно это плохо: модель сильно переобучается на таких примерах. Для каждого категориального признака объедините действительно редкие категории в одну, если такие имеются (т.е. если категории действительно редкие)."
   ]
  },
  {
   "cell_type": "code",
   "execution_count": null,
   "metadata": {},
   "outputs": [],
   "source": [
    "X13_train_transformed_filt.head(3)"
   ]
  },
  {
   "cell_type": "code",
   "execution_count": null,
   "metadata": {},
   "outputs": [],
   "source": [
    "X13_train_transformed_filt['passenger_count'].value_counts()\n",
    "# здесь в каждой категории достаточно наблюдений"
   ]
  },
  {
   "cell_type": "code",
   "execution_count": null,
   "metadata": {},
   "outputs": [],
   "source": [
    "X13_train_transformed_filt['store_and_fwd_flag'].value_counts()\n",
    "# и здесь"
   ]
  },
  {
   "cell_type": "code",
   "execution_count": null,
   "metadata": {},
   "outputs": [],
   "source": [
    "X13_train_transformed_filt['day_of_week'].value_counts()\n"
   ]
  },
  {
   "cell_type": "code",
   "execution_count": null,
   "metadata": {},
   "outputs": [],
   "source": [
    "#X13_train_transformed_filt['month'].value_counts()"
   ]
  },
  {
   "cell_type": "code",
   "execution_count": null,
   "metadata": {},
   "outputs": [],
   "source": [
    "#X13_train_transformed_filt['hour'].value_counts()"
   ]
  },
  {
   "cell_type": "code",
   "execution_count": null,
   "metadata": {},
   "outputs": [],
   "source": [
    "X13_train_transformed_filt['day_number'].value_counts().min()"
   ]
  },
  {
   "cell_type": "code",
   "execution_count": null,
   "metadata": {},
   "outputs": [],
   "source": [
    "X13_train_transformed_filt.columns"
   ]
  },
  {
   "cell_type": "markdown",
   "metadata": {},
   "source": [
    "Остальные категориальные признаки имет лишь 2 возможных значения, поэтому их менять смысла нет. Просмотренные выше признаки тоже **не содержат действительно редких категорий**"
   ]
  },
  {
   "cell_type": "markdown",
   "metadata": {
    "id": "Qs2KhEBjEoGL"
   },
   "source": [
    "Обучите модель на очищенных данных и посчитайте качество на тестовой выборке."
   ]
  },
  {
   "cell_type": "code",
   "execution_count": null,
   "metadata": {},
   "outputs": [],
   "source": [
    "X9_test_transformed = transformer.transform(X9_test)"
   ]
  },
  {
   "cell_type": "code",
   "execution_count": null,
   "metadata": {},
   "outputs": [],
   "source": [
    "# подготовка признаков\n",
    "\n",
    "categorical_features = ['day_of_week', 'month', 'hour', 'abnormal_period_1', 'abnormal_period_2', 'traffic_jams_time', 'free_roads_time', 'start_manch',\n",
    "       'end_manch', 'start_airport_kennedy', 'end_airport_kennedy',\n",
    "       'start_place_3', 'end_place_3', 'pickup_cell_id', 'dropoff_cell_id']  # категориальные признаки\n",
    "\n",
    "numeric_features = ['day_number'] # числовые признаки\n",
    "\n",
    "\n",
    "preprocessor14 = ColumnTransformer(\n",
    "    transformers=[\n",
    "        ('num', StandardScaler(), numeric_features),\n",
    "        ('cat', OneHotEncoder(sparse_output=False, handle_unknown='ignore'), categorical_features)\n",
    "    ])\n",
    "\n",
    "\n",
    "preprocessor14.fit(X13_train_transformed_filt)\n",
    "X13_train_transformed_filt_tr = preprocessor14.transform(X13_train_transformed_filt)\n",
    "X13_test_transformed_filt_tr = preprocessor14.transform(X9_test_transformed)"
   ]
  },
  {
   "cell_type": "code",
   "execution_count": null,
   "metadata": {},
   "outputs": [],
   "source": [
    "# модель\n",
    "\n",
    "ridge14 = Ridge() # с параметрами по умолчанию\n",
    "ridge14.fit(X13_train_transformed_filt_tr, y9_train_filt)\n",
    "\n",
    "\n",
    "# считаем R^2\n",
    "\n",
    "y_pred14 = ridge14.predict(X13_test_transformed_filt_tr)\n",
    "\n",
    "r2_4 = round(r2_score(y9_test, y_pred14), 4)\n",
    "print(f'R^2 в Ridge регрессии с параметрами по умолчанию,  без выбросов = {round(r2_score(y9_test, y_pred14), 4)}')\n",
    "\n",
    "\n",
    "# считаем rmsle\n",
    "\n",
    "rmsle4 = rmsle(y9_test, y_pred14)\n",
    "\n",
    "\n",
    "results_df = pd.concat([\n",
    "    results_df,\n",
    "    pd.DataFrame([{'Model': 'Ridge без выбросов', 'RMSLE': rmsle4, 'R2': r2_4}])\n",
    "], ignore_index=True)\n",
    "\n",
    "\n",
    "display(results_df.style\n",
    "    .background_gradient(subset=['RMSLE'], cmap='RdYlGn_r')  \n",
    "    .background_gradient(subset=['R2'], cmap='RdYlGn')      \n",
    ")\n"
   ]
  },
  {
   "cell_type": "markdown",
   "metadata": {},
   "source": [
    "**Качество чуть хуже, чем у модели без очистки от выбросов по RMSLE по R2**"
   ]
  },
  {
   "cell_type": "code",
   "execution_count": null,
   "metadata": {},
   "outputs": [],
   "source": [
    "plt.figure(figsize=(10, 6))\n",
    "plt.scatter(y9_test, y_pred14, alpha=0.5)\n",
    "plt.plot([y9_test.min(), y9_test.max()], [y9_test.min(), y9_test.max()], 'r--')\n",
    "plt.xlabel('Реальные значения из тестовой выборки')\n",
    "plt.ylabel('Предсказанные значения из тестовой выборки')\n",
    "plt.show()"
   ]
  },
  {
   "cell_type": "markdown",
   "metadata": {
    "id": "EKRzGQXgEoGM"
   },
   "source": [
    "**Задание 14 (1 балл)**. После OneHot-кодирования количество признаков в нашем датасете сильно возрастает. Посчитайте колиество признаков до и после кодирования категориальных признаков."
   ]
  },
  {
   "cell_type": "code",
   "execution_count": null,
   "metadata": {},
   "outputs": [],
   "source": [
    "original_features_count = len(numeric_features) + len(categorical_features)\n",
    "print(f'Признаков до кодирования категориальных признаков: {original_features_count}')\n",
    "\n",
    "transformed_features_count = preprocessor14.named_transformers_['cat'].get_feature_names_out().shape[0] + len(numeric_features)\n",
    "print(f'Признаков после кодирования категориальных признаков: {transformed_features_count}')"
   ]
  },
  {
   "cell_type": "markdown",
   "metadata": {
    "id": "Y6YEjCw8EoGM"
   },
   "source": [
    "Попробуйте обучить не `Ridge`-, а `Lasso`-регрессию. Какой метод лучше?"
   ]
  },
  {
   "cell_type": "code",
   "execution_count": null,
   "metadata": {},
   "outputs": [],
   "source": [
    "from sklearn.linear_model import Lasso  "
   ]
  },
  {
   "cell_type": "code",
   "execution_count": null,
   "metadata": {},
   "outputs": [],
   "source": [
    "# модель\n",
    "\n",
    "lasso = Lasso()   # с параметрами по умолчанию\n",
    "lasso.fit(X13_train_transformed_filt_tr, y9_train_filt)\n",
    "\n",
    "\n",
    "# считаем R^2\n",
    "\n",
    "y_pred14_lasso = lasso.predict(X13_test_transformed_filt_tr)\n",
    "\n",
    "r2_5 = round(r2_score(y9_test, y_pred14_lasso), 4)\n",
    "print(f'R^2 в Lasso регрессии с параметрами по умолчанию,  без выбросов = {round(r2_score(y9_test, y_pred14_lasso), 4)}')\n",
    "\n",
    "\n",
    "# считаем rmsle\n",
    "\n",
    "rmsle5 = rmsle(y9_test, y_pred14_lasso)\n",
    "\n",
    "\n",
    "results_df = pd.concat([\n",
    "    results_df,\n",
    "    pd.DataFrame([{'Model': 'Lasso без выбросов', 'RMSLE': rmsle5, 'R2': r2_5}])\n",
    "], ignore_index=True)\n",
    "\n",
    "\n",
    "display(results_df.style\n",
    "    .background_gradient(subset=['RMSLE'], cmap='RdYlGn_r')  \n",
    "    .background_gradient(subset=['R2'], cmap='RdYlGn')      \n",
    ")\n",
    "\n"
   ]
  },
  {
   "cell_type": "markdown",
   "metadata": {},
   "source": [
    "Lasso с параметрами по умолчанию оказался совсем плох"
   ]
  },
  {
   "cell_type": "markdown",
   "metadata": {
    "id": "8dayx4UvEoGM"
   },
   "source": [
    "Разбейте _обучающую выборку_ на обучающую и валидационную в отношении 8:2. По валидационной выборке подберите оптимальные значения параметра регуляризации (по логарифмической сетке) для `Ridge` и `Lasso`, на тестовой выборке измерьте качество лучшей полученной модели."
   ]
  },
  {
   "cell_type": "code",
   "execution_count": null,
   "metadata": {
    "id": "vAsX0f2wEoGM"
   },
   "outputs": [],
   "source": [
    "X_train, X_valid, y_train, y_valid = train_test_split(X13_train_transformed_filt, y9_train_filt, random_state=104,test_size=0.2, shuffle=True)"
   ]
  },
  {
   "cell_type": "code",
   "execution_count": null,
   "metadata": {},
   "outputs": [],
   "source": [
    "X_train.columns"
   ]
  },
  {
   "cell_type": "markdown",
   "metadata": {},
   "source": [
    "## Ridge"
   ]
  },
  {
   "cell_type": "code",
   "execution_count": null,
   "metadata": {},
   "outputs": [],
   "source": [
    "preprocessor14.fit(X_train)\n",
    "X15_train_transformed = preprocessor14.transform(X_train)\n",
    "X15_valid_transformed = preprocessor14.transform(X_valid)\n",
    "#X15_test_transformed = preprocessor12.transform(X12_test_transformed)"
   ]
  },
  {
   "cell_type": "code",
   "execution_count": null,
   "metadata": {},
   "outputs": [],
   "source": [
    "alpha_values = np.logspace(-3, 3, 50)  # от 10^-3 до 10^3\n",
    "val_scores = []\n",
    "train_scores = []\n",
    "\n",
    "for alpha in tqdm(alpha_values):\n",
    "    ridge = Ridge(alpha=alpha, random_state=42)\n",
    "    ridge.fit(X15_train_transformed, y_train)\n",
    "    \n",
    "    # Прогнозы на обучающей и валидационной выборках\n",
    "    y_train_pred = ridge.predict(X15_train_transformed)\n",
    "    y_val_pred = ridge.predict(X15_valid_transformed)\n",
    "    \n",
    "    # Сохранение RMSLE\n",
    "    rmsle5_train = rmsle(y_train, y_train_pred)\n",
    "    train_scores.append(rmsle5_train)\n",
    "\n",
    "    rmsle5_valid = rmsle(y_valid, y_val_pred)\n",
    "    val_scores.append(rmsle5_valid)\n",
    "\n",
    "\n",
    "  \n",
    "\n",
    "# Нахождение оптимального alpha\n",
    "best_alpha_idx = np.argmin(val_scores)\n",
    "best_alpha = alpha_values[best_alpha_idx]\n",
    "best_val_score = val_scores[best_alpha_idx]\n",
    "\n",
    "print(f\"Лучший параметр alpha: {best_alpha}\")\n",
    "print(f\"Лучшее RMSLE на валидации: {best_val_score}\")\n",
    "\n",
    "\n",
    "\n"
   ]
  },
  {
   "cell_type": "markdown",
   "metadata": {},
   "source": [
    "## Lasso"
   ]
  },
  {
   "cell_type": "code",
   "execution_count": null,
   "metadata": {},
   "outputs": [],
   "source": [
    "alpha_values_lasso = np.logspace(-3, 3, 50)  # от 10^-3 до 10^3\n",
    "val_scores_lasso = []\n",
    "train_scores_lasso = []\n",
    "\n",
    "for alpha in tqdm(alpha_values_lasso):\n",
    "    lasso = Lasso(alpha=alpha, random_state=42)\n",
    "    lasso.fit(X15_train_transformed, y_train)\n",
    "    \n",
    "    # Прогнозы на обучающей и валидационной выборках\n",
    "    y_train_pred = lasso.predict(X15_train_transformed)\n",
    "    y_val_pred = lasso.predict(X15_valid_transformed)\n",
    "    \n",
    "    # Сохранение RMSLE\n",
    "    rmsle5_train = rmsle(y_train, y_train_pred)\n",
    "    train_scores_lasso.append(rmsle5_train)\n",
    "\n",
    "    rmsle5_valid = rmsle(y_valid, y_val_pred)\n",
    "    val_scores_lasso.append(rmsle5_valid)\n",
    "\n",
    "\n",
    "  \n",
    "\n",
    "# Нахождение оптимального alpha\n",
    "best_alpha_idx = np.argmin(val_scores_lasso)\n",
    "best_alpha_lasso = alpha_values_lasso[best_alpha_idx]\n",
    "best_val_score_lasso = val_scores_lasso[best_alpha_idx]\n",
    "\n",
    "print(f\"Лучший параметр alpha (Lasso): {best_alpha_lasso}\")\n",
    "print(f\"Лучшее RMSLE на валидации (Lasso): {best_val_score_lasso}\")"
   ]
  },
  {
   "cell_type": "code",
   "execution_count": null,
   "metadata": {},
   "outputs": [],
   "source": [
    "best_val_score < best_val_score_lasso"
   ]
  },
  {
   "cell_type": "markdown",
   "metadata": {},
   "source": [
    "**Ошибка у Ridge  модели с подобранным параметром регуляризации чуть меньше, чем у Lasso** "
   ]
  },
  {
   "cell_type": "markdown",
   "metadata": {
    "id": "4BqGQNSNL6Dc"
   },
   "source": [
    "Сохраните наилучшее значение, как бенчмарк на будущее"
   ]
  },
  {
   "cell_type": "code",
   "execution_count": null,
   "metadata": {
    "id": "E6Hi5Z5PL-ZG"
   },
   "outputs": [],
   "source": [
    "#╰( ͡° ͜ʖ ͡° )つ──☆*:・ﾟ\n",
    "best_rmsle = best_val_score"
   ]
  },
  {
   "cell_type": "markdown",
   "metadata": {
    "id": "5xIItrr3EoGM"
   },
   "source": [
    "Для каждого перебранного `alpha` для Lasso посчитайте количество нулевых весов в модели и нарисуйте график зависимости его от `alpha`. Как сильно придётся потерять в качестве, если мы хотим с помощью Lasso избавиться хотя бы от половины признаков?"
   ]
  },
  {
   "cell_type": "code",
   "execution_count": null,
   "metadata": {},
   "outputs": [],
   "source": [
    "# снова обучаю lasso модели\n",
    "\n",
    "\n",
    "alpha_values_lasso = np.logspace(-3, 3, 50)  # от 10^-3 до 10^3\n",
    "val_scores_lasso = []\n",
    "train_scores_lasso = []\n",
    "\n",
    "# для построения графика\n",
    "weights_null_quantity = []\n",
    "\n",
    "for alpha in tqdm(alpha_values_lasso):\n",
    "    lasso = Lasso(alpha=alpha, random_state=42)\n",
    "    lasso.fit(X15_train_transformed, y_train)\n",
    "\n",
    "    # считаю количество нулевых весов\n",
    "    lasso_0 = np.array([weight for weight in lasso.coef_ if weight == 0])\n",
    "    q_null = len(lasso_0)\n",
    "    weights_null_quantity.append(q_null)\n",
    "    \n",
    "    # Прогнозы на обучающей и валидационной выборках\n",
    "    y_train_pred = lasso.predict(X15_train_transformed)\n",
    "    y_val_pred = lasso.predict(X15_valid_transformed)\n",
    "    \n",
    "    # Сохранение RMSLE\n",
    "    rmsle5_train = rmsle(y_train, y_train_pred)\n",
    "    train_scores_lasso.append(rmsle5_train)\n",
    "\n",
    "    rmsle5_valid = rmsle(y_valid, y_val_pred)\n",
    "    val_scores_lasso.append(rmsle5_valid)\n",
    "\n",
    "\n",
    "  \n",
    "\n",
    "# Нахождение оптимального alpha\n",
    "best_alpha_idx = np.argmin(val_scores_lasso)\n",
    "best_alpha_lasso = alpha_values_lasso[best_alpha_idx]\n",
    "best_val_score_lasso = val_scores_lasso[best_alpha_idx]\n",
    "\n",
    "print(f\"Лучший параметр alpha (Lasso): {best_alpha_lasso}\")\n",
    "print(f\"Лучшее RMSLE на валидации (Lasso): {best_val_score_lasso}\")"
   ]
  },
  {
   "cell_type": "markdown",
   "metadata": {},
   "source": [
    "## График зависимости количества нулевых весов от параметра регуляризации альфа"
   ]
  },
  {
   "cell_type": "code",
   "execution_count": null,
   "metadata": {},
   "outputs": [],
   "source": [
    "fig = px.line(day_targt_mean, \n",
    "              x=alpha_values_lasso, \n",
    "              y=weights_null_quantity, \n",
    "              title='Зависимость количества нулевых весов в Lasso модели от параметра регуляризации',\n",
    "              color_discrete_sequence=[\"#260572\"])\n",
    "\n",
    "fig.update_layout(\n",
    "    xaxis_title='Параметр регуляризации (альфа)',          \n",
    "    yaxis_title='Количество нулевых весов',\n",
    "    title_font_size=20,     \n",
    "    font=dict(size=12)     \n",
    ")\n",
    "\n",
    "fig.update_traces(\n",
    "    line_width=2       \n",
    ")\n",
    "\n",
    "fig.show()"
   ]
  },
  {
   "cell_type": "code",
   "execution_count": null,
   "metadata": {},
   "outputs": [],
   "source": [
    "ggg = pd.DataFrame()\n",
    "ggg['gg'] = weights_null_quantity \n",
    "ggg['gg'].value_counts()"
   ]
  },
  {
   "cell_type": "markdown",
   "metadata": {},
   "source": [
    "После какого-то момента все веса в модели становятся нулевыми, дальнейшее рассмотрение неинформативно. Построим график как раз до этого порога:"
   ]
  },
  {
   "cell_type": "code",
   "execution_count": null,
   "metadata": {},
   "outputs": [],
   "source": [
    "alphas_weights = pd.DataFrame()\n",
    "alphas_weights['alphas'] = alpha_values_lasso\n",
    "alphas_weights['null_weights_q'] = weights_null_quantity"
   ]
  },
  {
   "cell_type": "code",
   "execution_count": null,
   "metadata": {},
   "outputs": [],
   "source": [
    "alphas_weights_restr = alphas_weights.head(17)\n",
    "\n",
    "\n",
    "\n",
    "fig = px.line(day_targt_mean, \n",
    "              x=alphas_weights_restr['alphas'], \n",
    "              y=alphas_weights_restr['null_weights_q'], \n",
    "              title='Зависимость количества нулевых весов в Lasso модели от параметра регуляризации',\n",
    "              color_discrete_sequence=[\"#260572\"])\n",
    "\n",
    "fig.update_layout(\n",
    "    xaxis_title='Параметр регуляризации (альфа)',          \n",
    "    yaxis_title='Количество нулевых весов',\n",
    "    title_font_size=20,     \n",
    "    font=dict(size=12)     \n",
    ")\n",
    "\n",
    "fig.update_traces(\n",
    "    line_width=2       \n",
    ")\n",
    "\n",
    "fig.show()"
   ]
  },
  {
   "cell_type": "markdown",
   "metadata": {},
   "source": [
    "Если мы хотим избавиться хотя бы от половины признаков, нужно рассматривать alpha от 0.001326. Посмотрим, насколько хуже будет качество, если перебирать только alpha от этого значения:"
   ]
  },
  {
   "cell_type": "code",
   "execution_count": null,
   "metadata": {},
   "outputs": [],
   "source": [
    "best_alpha_idx"
   ]
  },
  {
   "cell_type": "code",
   "execution_count": null,
   "metadata": {},
   "outputs": [],
   "source": [
    "second_best_alpha_idx = np.argmin(val_scores_lasso[1:]) + 1\n",
    "second_best_alpha_lasso = alpha_values_lasso[second_best_alpha_idx]\n",
    "second_best_val_score_lasso = val_scores_lasso[second_best_alpha_idx]\n",
    "\n",
    "print(f'Лучший параметр регуляризации, если мы хотим избавиться от как мин. половины признаков, равен {second_best_alpha_lasso}, RMSLE на валид. выборке при нем равно {second_best_val_score_lasso}')\n",
    "\n",
    "print(f'В таком случае мы ухудшаем RMSLE на {round((np.abs(best_val_score_lasso - second_best_val_score_lasso) / best_val_score_lasso)*100, 3)}%')"
   ]
  },
  {
   "cell_type": "markdown",
   "metadata": {},
   "source": [
    "**RMSLE не сильно падает, если мы ставим цель избавиться от как минимум половины признаков**"
   ]
  },
  {
   "cell_type": "markdown",
   "metadata": {
    "id": "CAoOSF9nEoGM"
   },
   "source": [
    "<img src=\"https://www.dropbox.com/s/wp4jj0599np17lh/map_direction.png?raw=1\" width=\"20%\" align=\"right\" style=\"margin-left: 20px\">\n",
    "\n",
    "**Задание 15 (1 балл)**. Часто бывает полезным использовать взаимодействия признаков (feature interactions), то есть строить новые признаки на основе уже существующих. Выше мы разбили карту Манхэттена на ячейки и придумали признаки \"из какой ячейки началась поездка\" и \"в какой ячейке закончилась поездка\".\n",
    "\n",
    "Давайте попробуем сделать следующее: посчитаем, сколько раз встречается каждая возможная пара этих признаков в нашем датасете и выберем 100 самых частых пар. Закодируем поездки с этими частыми парами как категориальный признак, остальным объектам припишем -1. Получается, что мы закодировали, откуда и куда должно было ехать такси.\n",
    "\n",
    "**Вопрос**: Почему такой признак потенциально полезный? Почему линейная модель не может самостоятельно \"вытащить\" эту информацию, ведь у нее в распоряжении есть признаки \"из какой ячейки началась поездка\" и \"в какой ячейке закончилась поездка\"?"
   ]
  },
  {
   "cell_type": "code",
   "execution_count": null,
   "metadata": {},
   "outputs": [],
   "source": [
    "X_train.columns"
   ]
  },
  {
   "cell_type": "code",
   "execution_count": null,
   "metadata": {},
   "outputs": [],
   "source": [
    "pair_counts = X_train.groupby(['pickup_cell_id', 'dropoff_cell_id']).size().reset_index(name='count')\n",
    "pair_counts['categ_feature_number'] = range(len(pair_counts['pickup_cell_id']))"
   ]
  },
  {
   "cell_type": "code",
   "execution_count": null,
   "metadata": {},
   "outputs": [],
   "source": [
    "pair_counts = pair_counts.sort_values(by='count', ascending=False)\n",
    "pair_counts"
   ]
  },
  {
   "cell_type": "code",
   "execution_count": null,
   "metadata": {},
   "outputs": [],
   "source": [
    "# не хотим считать -1, -1 как ячейку с большим кол-вом поездок\n",
    "\n",
    "pair_counts = pair_counts.iloc[1:]\n",
    "pair_counts = pair_counts.iloc[:100] # только топ-100\n",
    "pair_counts"
   ]
  },
  {
   "cell_type": "code",
   "execution_count": null,
   "metadata": {},
   "outputs": [],
   "source": [
    "X_test"
   ]
  },
  {
   "cell_type": "code",
   "execution_count": null,
   "metadata": {},
   "outputs": [],
   "source": [
    "# добавляем признак\n",
    "\n",
    "X_train16 = X_train.merge(pair_counts[['pickup_cell_id', 'dropoff_cell_id', 'categ_feature_number']], on=['pickup_cell_id', 'dropoff_cell_id'], how='left').fillna(-1)\n",
    "X_valid16 = X_valid.merge(pair_counts[['pickup_cell_id', 'dropoff_cell_id', 'categ_feature_number']], on=['pickup_cell_id', 'dropoff_cell_id'], how='left').fillna(-1)"
   ]
  },
  {
   "cell_type": "code",
   "execution_count": null,
   "metadata": {},
   "outputs": [],
   "source": [
    "X_train16.head()"
   ]
  },
  {
   "cell_type": "markdown",
   "metadata": {},
   "source": [
    "Такой признак потенциально полезен потому, что он **объединяет поездки со схожим расстоянием**, так как соединяет районы.\\\n",
    "Линейная модель не может вытащить информацию самостоятельно потому, что модель считает, что эффект начала и конца поездки независим. То есть для нее **поездка из А в Б эквивалентна поездке из Б в А**.\\\n",
    "В реальности, для примера, **поездка из спального района в центр города будет дольше, чем поездка назад вечером.** "
   ]
  },
  {
   "cell_type": "markdown",
   "metadata": {
    "id": "5voFKcZNEoGM"
   },
   "source": [
    "Заново обучите модель (`Ridge`, если она дала более высокое качество в предыдущих экспериментах, и `Lasso` иначе) на новых даннных и посчитайте качество на тестовой выборке"
   ]
  },
  {
   "cell_type": "code",
   "execution_count": null,
   "metadata": {
    "id": "mvIx7P4AEoGN"
   },
   "outputs": [],
   "source": [
    "categorical_features = ['day_of_week', 'month', 'hour', 'abnormal_period_1', 'abnormal_period_2', 'traffic_jams_time', 'free_roads_time', 'start_manch',\n",
    "       'end_manch', 'start_airport_kennedy', 'end_airport_kennedy',\n",
    "       'start_place_3', 'end_place_3', 'pickup_cell_id', 'dropoff_cell_id', 'categ_feature_number']  # категориальные признаки\n",
    "\n",
    "numeric_features = ['day_number'] # числовые признаки\n",
    "\n",
    "\n",
    "preprocessor17 = ColumnTransformer(\n",
    "    transformers=[\n",
    "        ('num', StandardScaler(), numeric_features),\n",
    "        ('cat', OneHotEncoder(sparse_output=False, handle_unknown='ignore'), categorical_features)\n",
    "    ])\n",
    "\n",
    "\n",
    "preprocessor17.fit(X_train16)\n",
    "X_train16_tr = preprocessor17.transform(X_train16)\n",
    "X_valid16_tr = preprocessor17.transform(X_valid16)"
   ]
  },
  {
   "cell_type": "code",
   "execution_count": null,
   "metadata": {},
   "outputs": [],
   "source": [
    "ridge_new = Ridge(alpha=8.286427728546842, random_state=42)\n",
    "ridge_new.fit(X_train16_tr, y_train)"
   ]
  },
  {
   "cell_type": "code",
   "execution_count": null,
   "metadata": {},
   "outputs": [],
   "source": [
    "y_train_pred_new = ridge_new.predict(X_train16_tr)\n",
    "y_val_pred_new = ridge_new.predict(X_valid16_tr)\n",
    "\n",
    "rmsle5_valid_new = rmsle(y_valid, y_val_pred_new)\n",
    "print(f'RMSLE при добавлении признака на основе пар = {rmsle5_valid_new}')\n",
    "\n",
    "print(f'Улучшение относительно предыдущего лучшего RMSLE = {round((np.abs(best_val_score - rmsle5_valid_new) / best_val_score)*100, 3)}%')"
   ]
  },
  {
   "cell_type": "markdown",
   "metadata": {},
   "source": [
    "**Добавление этого признака значительно снизило ошибку!!!**"
   ]
  },
  {
   "cell_type": "markdown",
   "metadata": {
    "id": "9MVTtk2PEoGN"
   },
   "source": [
    "**Задание 17 (бонус, 2 балла)**.\n",
    "\n",
    "Разумеется, погружаться в feature engineering можно ещё очень долго. Ваша задача - придумать какие-то новые признаки, которые сделают модель ещё лучше!! За улучшение функционала ошибки на каждые 0.005 на тестовой выборке относительно `best_rmsle` будет даваться 0.5 бонусных балла. Всего за этот пункт можно получить до 2 бонусных баллов.\n",
    "\n",
    "При построении признаков старайтесь не допустить утечки целевой переменной (подробнее про это можно почитать в материалах 1-го семинара) — в противном случае хорошего качества на тестовой выборке достичь не получится.\n",
    "\n",
    "Какие могут быть идеи для вдохновения:\n",
    "\n",
    "1. Трансформер, который строит разбиение карты по шестигранной решётке с помощью библиотеки [H3](https://github.com/uber/h3-py) и вычисляет признаки на основе такого разбиения, по аналогии с квадратной сеткой  \n",
    "> Важно: производительность библиотеки существенно зависит от количества шестиугольников на карте (определяется параметром resolution). Подберите такое разрешение, при котором ваш код будет работать за приемлемое время.    \n",
    "\n",
    "2. Мы пока что никак не использовали историчность и взаимосвязь в данных, хотя информация о том, что было ранее в эти/похожие дни тоже может пригодиться. Попробуйте поискать соседей и/или построить агрегации, например, при помощи groupby, посчитайте какие-либо статистики в пределах какого-то окна (подберите всё это сами, постарайтесь, чтобы это было что-то разумное), и присоедините к основному датафрейму\n",
    "> Важно: учтите, что разных вариантов агрегаций и статистик существует очень много. Не стесняйтесь выкидывать фичи, которые вам не нравятся (помните про свойство Lasso), используйте эффективные способы хранения данных ([wink](https://www.kaggle.com/code/demche/polars-memory-usage-optimization)-[wink](https://docs.scipy.org/doc/scipy/reference/sparse.html))\n",
    "\n",
    "3. В конце концов можно использовать альтернативные способы преобразования данных. Например, использовать другой scaler, другую кодировку категориальных фичей, другие гиперпараметры и пр. Но помните, что на данный момент мы ограничены только `Ridge` и `Lasso`"
   ]
  },
  {
   "cell_type": "code",
   "execution_count": null,
   "metadata": {
    "id": "TXyh2DcnEoGN"
   },
   "outputs": [],
   "source": [
    "#╰( ͡° ͜ʖ ͡° )つ──☆*:・ﾟ"
   ]
  },
  {
   "cell_type": "markdown",
   "metadata": {
    "id": "-IvYBNZ0EoGN"
   },
   "source": [
    "Вставьте картинку, описывающую ваш опыт выполнения этого ДЗ."
   ]
  },
  {
   "cell_type": "code",
   "execution_count": null,
   "metadata": {},
   "outputs": [],
   "source": [
    "from IPython.display import Image, display\n",
    "\n",
    "display(Image(filename='C:/Users/User/МО-1/scale_1200.jpg'))"
   ]
  }
 ],
 "metadata": {
  "colab": {
   "provenance": []
  },
  "kernelspec": {
   "display_name": "base",
   "language": "python",
   "name": "python3"
  },
  "language_info": {
   "codemirror_mode": {
    "name": "ipython",
    "version": 3
   },
   "file_extension": ".py",
   "mimetype": "text/x-python",
   "name": "python",
   "nbconvert_exporter": "python",
   "pygments_lexer": "ipython3",
   "version": "3.12.3"
  }
 },
 "nbformat": 4,
 "nbformat_minor": 0
}
